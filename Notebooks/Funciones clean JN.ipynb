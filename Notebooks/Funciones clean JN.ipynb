{
 "cells": [
  {
   "cell_type": "code",
   "execution_count": 1,
   "metadata": {
    "executionInfo": {
     "elapsed": 5,
     "status": "ok",
     "timestamp": 1701923752042,
     "user": {
      "displayName": "Angel Prieto",
      "userId": "16374893148173809494"
     },
     "user_tz": 180
    },
    "id": "kNcna9Z0XZNv"
   },
   "outputs": [],
   "source": [
    "import pandas as pd"
   ]
  },
  {
   "cell_type": "code",
   "execution_count": 2,
   "metadata": {
    "executionInfo": {
     "elapsed": 1701,
     "status": "ok",
     "timestamp": 1701924976905,
     "user": {
      "displayName": "Angel Prieto",
      "userId": "16374893148173809494"
     },
     "user_tz": 180
    },
    "id": "CpZMNgF6XnWv"
   },
   "outputs": [],
   "source": [
    "games = pd.read_parquet('../Datasets/gamesv5.parquet')\n",
    "reviews = pd.read_parquet('../Datasets/reviews.parquet')\n",
    "items = pd.read_parquet('../Datasets/itemsv2.parquet')"
   ]
  },
  {
   "cell_type": "code",
   "execution_count": 3,
   "metadata": {
    "executionInfo": {
     "elapsed": 2,
     "status": "ok",
     "timestamp": 1701924986201,
     "user": {
      "displayName": "Angel Prieto",
      "userId": "16374893148173809494"
     },
     "user_tz": 180
    },
    "id": "GBs0LnlDMy4N"
   },
   "outputs": [],
   "source": [
    "generos = list(games.drop(columns=['item_id','release_date']).columns)"
   ]
  },
  {
   "cell_type": "code",
   "execution_count": 5,
   "metadata": {
    "executionInfo": {
     "elapsed": 3,
     "status": "ok",
     "timestamp": 1701924991225,
     "user": {
      "displayName": "Angel Prieto",
      "userId": "16374893148173809494"
     },
     "user_tz": 180
    },
    "id": "kJx9OOwu7abX"
   },
   "outputs": [],
   "source": [
    "ids =pd.read_csv('../Datasets/idsnv2.csv')"
   ]
  },
  {
   "cell_type": "code",
   "execution_count": 6,
   "metadata": {
    "executionInfo": {
     "elapsed": 302,
     "status": "ok",
     "timestamp": 1701924993371,
     "user": {
      "displayName": "Angel Prieto",
      "userId": "16374893148173809494"
     },
     "user_tz": 180
    },
    "id": "kmVAfSEw7uUf"
   },
   "outputs": [],
   "source": [
    "iid=list(set(items['item_id']))"
   ]
  },
  {
   "cell_type": "code",
   "execution_count": 7,
   "metadata": {
    "executionInfo": {
     "elapsed": 3,
     "status": "ok",
     "timestamp": 1701924994734,
     "user": {
      "displayName": "Angel Prieto",
      "userId": "16374893148173809494"
     },
     "user_tz": 180
    },
    "id": "CxXZZzZqG7y-"
   },
   "outputs": [],
   "source": [
    "lanio=list(set(reviews['posted'].to_list()))"
   ]
  },
  {
   "cell_type": "code",
   "execution_count": 8,
   "metadata": {
    "id": "i_0VTeoVwHv_"
   },
   "outputs": [],
   "source": [
    "def PlayTimeGenre(genero):\n",
    "  genero=genero.upper()\n",
    "  if genero in generos:\n",
    "    lgames = games.loc[games[genero] == 1, ['release_date', 'item_id']]\n",
    "    lhoras = items.groupby('item_id')['playtime_forever'].sum().reset_index()\n",
    "    dfplay = pd.merge(lgames, lhoras, on='item_id', how='inner')\n",
    "    df_horas = dfplay.groupby('release_date')['playtime_forever'].sum().reset_index()\n",
    "    df_horas_ordenado = df_horas.sort_values(by='playtime_forever', ascending=False)\n",
    "    resultado=df_horas_ordenado.head(1)\n",
    "    prin = \"Año de lanzamiento con más horas jugadas para Género \" + genero\n",
    "    anio = int(resultado['release_date'].iloc[0])\n",
    "    return {prin : anio}\n",
    "  else:\n",
    "    return {\"El Genero indicado no se encuentra en la base de datos\":genero}"
   ]
  },
  {
   "cell_type": "code",
   "execution_count": 9,
   "metadata": {
    "colab": {
     "base_uri": "https://localhost:8080/"
    },
    "executionInfo": {
     "elapsed": 365,
     "status": "ok",
     "timestamp": 1701913794823,
     "user": {
      "displayName": "Angel Prieto",
      "userId": "16374893148173809494"
     },
     "user_tz": 180
    },
    "id": "4ewx48Y6yRWz",
    "outputId": "a715cf4f-302d-4970-92d6-922723eebd62"
   },
   "outputs": [
    {
     "data": {
      "text/plain": [
       "{'Año de lanzamiento con más horas jugadas para Género 2D': 2011}"
      ]
     },
     "execution_count": 9,
     "metadata": {},
     "output_type": "execute_result"
    }
   ],
   "source": [
    "PlayTimeGenre(\"2d\")"
   ]
  },
  {
   "cell_type": "code",
   "execution_count": 10,
   "metadata": {
    "id": "mif3NiQsadYE"
   },
   "outputs": [],
   "source": [
    "def UserForGenre(genero):\n",
    "  genero=genero.upper()\n",
    "  if genero in generos:\n",
    "    dfgames = games[['item_id','release_date',genero]]\n",
    "    dfgames = dfgames[games[genero]==1]\n",
    "    dfuserg = pd.merge(dfgames,items,on='item_id',how='inner')\n",
    "    uhoras = dfuserg.groupby('user_id')['playtime_forever'].sum().reset_index()\n",
    "    uhoras = uhoras.sort_values(by='playtime_forever', ascending=False)\n",
    "    uhoras = uhoras.head(1)\n",
    "    uhoras = uhoras['user_id'].iloc[0]\n",
    "    dfuserg = dfuserg[dfuserg['user_id']==uhoras]\n",
    "    dfuserg = dfuserg.groupby('release_date')['playtime_forever'].sum().reset_index()\n",
    "    dfuserg = dfuserg.sort_values(by='release_date', ascending=False)\n",
    "    dfuserg = dfuserg[dfuserg['playtime_forever']>0]\n",
    "    dfuserg = dfuserg.astype(int)\n",
    "    dfuserg.rename(columns={'release_date': 'Año', 'playtime_forever':'Horas'}, inplace=True)\n",
    "    di = dfuserg.apply(lambda row: row.to_dict(), axis=1).tolist()\n",
    "    prin=\"Usuario con más horas jugadas para Género \" + genero\n",
    "    return {prin:uhoras,\"Horas Jugadas\":di}\n",
    "  else:\n",
    "    return {\"El Genero indicado no se encuentra en la base de datos \":genero}"
   ]
  },
  {
   "cell_type": "code",
   "execution_count": 11,
   "metadata": {
    "colab": {
     "base_uri": "https://localhost:8080/"
    },
    "executionInfo": {
     "elapsed": 2408,
     "status": "ok",
     "timestamp": 1701915694083,
     "user": {
      "displayName": "Angel Prieto",
      "userId": "16374893148173809494"
     },
     "user_tz": 180
    },
    "id": "XwUtwaQla8-0",
    "outputId": "0c7e8d03-f0f8-4c93-e3db-15c0fcd04b1a"
   },
   "outputs": [
    {
     "data": {
      "text/plain": [
       "{'Usuario con más horas jugadas para Género ACTION': 'Sp3ctre',\n",
       " 'Horas Jugadas': [{'Año': 2017, 'Horas': 43327},\n",
       "  {'Año': 2016, 'Horas': 30195},\n",
       "  {'Año': 2015, 'Horas': 394314},\n",
       "  {'Año': 2014, 'Horas': 132864},\n",
       "  {'Año': 2013, 'Horas': 122158},\n",
       "  {'Año': 2012, 'Horas': 384238},\n",
       "  {'Año': 2011, 'Horas': 155459},\n",
       "  {'Año': 2010, 'Horas': 82766},\n",
       "  {'Año': 2009, 'Horas': 108771},\n",
       "  {'Año': 2008, 'Horas': 8533},\n",
       "  {'Año': 2007, 'Horas': 112794},\n",
       "  {'Año': 2006, 'Horas': 90253},\n",
       "  {'Año': 2005, 'Horas': 21339},\n",
       "  {'Año': 2004, 'Horas': 127411},\n",
       "  {'Año': 2003, 'Horas': 7744},\n",
       "  {'Año': 2002, 'Horas': 238},\n",
       "  {'Año': 2001, 'Horas': 250},\n",
       "  {'Año': 2000, 'Horas': 70644},\n",
       "  {'Año': 1999, 'Horas': 44},\n",
       "  {'Año': 1997, 'Horas': 242},\n",
       "  {'Año': 1995, 'Horas': 217}]}"
      ]
     },
     "execution_count": 11,
     "metadata": {},
     "output_type": "execute_result"
    }
   ],
   "source": [
    "UserForGenre('AcTiOn')"
   ]
  },
  {
   "cell_type": "code",
   "execution_count": 12,
   "metadata": {
    "executionInfo": {
     "elapsed": 575,
     "status": "ok",
     "timestamp": 1701925237861,
     "user": {
      "displayName": "Angel Prieto",
      "userId": "16374893148173809494"
     },
     "user_tz": 180
    },
    "id": "_khsUZJjIotG"
   },
   "outputs": [],
   "source": [
    "def UsersRecommend(anio):\n",
    "  if anio in lanio:\n",
    "    dfa = reviews[(reviews['posted'] == anio) & (reviews['recommend'] == True) & (reviews['sentiment_analysis'] >0)].copy()\n",
    "    dfa = dfa.groupby('item_id')['sentiment_analysis'].sum().reset_index()\n",
    "    dfa = dfa.sort_values('sentiment_analysis', ascending=False)\n",
    "    top_games = dfa.head(3)['item_id'].to_list()\n",
    "    for i,g in enumerate(top_games):\n",
    "      if g in iid:\n",
    "        top_games[i]=items[items['item_id'] == top_games[i]].head(1)['item_name'].iloc[0]\n",
    "      else:\n",
    "        top_games[i]=ids[ids['item_id'] == top_games[i]].head(1)['item_name'].iloc[0]\n",
    "    return{'Puesto 1':top_games[0],'Puesto 2':top_games[1],'Puesto 3':top_games[2]}\n",
    "  else:\n",
    "    return {f'El año indicado no se encuentra en la base de datos: ':anio}"
   ]
  },
  {
   "cell_type": "code",
   "execution_count": 13,
   "metadata": {
    "colab": {
     "base_uri": "https://localhost:8080/"
    },
    "executionInfo": {
     "elapsed": 287,
     "status": "ok",
     "timestamp": 1701925240220,
     "user": {
      "displayName": "Angel Prieto",
      "userId": "16374893148173809494"
     },
     "user_tz": 180
    },
    "id": "dqDpiUgDJl02",
    "outputId": "f11f8eb3-4e08-4a2c-dc5e-930615ae892b"
   },
   "outputs": [
    {
     "data": {
      "text/plain": [
       "{'Puesto 1': 'Counter-Strike: Global Offensive',\n",
       " 'Puesto 2': 'Team Fortress 2',\n",
       " 'Puesto 3': 'Borderlands 2'}"
      ]
     },
     "execution_count": 13,
     "metadata": {},
     "output_type": "execute_result"
    }
   ],
   "source": [
    "UsersRecommend(2012)"
   ]
  },
  {
   "cell_type": "code",
   "execution_count": 14,
   "metadata": {
    "executionInfo": {
     "elapsed": 620,
     "status": "ok",
     "timestamp": 1701925706964,
     "user": {
      "displayName": "Angel Prieto",
      "userId": "16374893148173809494"
     },
     "user_tz": 180
    },
    "id": "zlKhYkXRa4r9"
   },
   "outputs": [],
   "source": [
    "def UsersNotRecommend(anio):\n",
    "  if anio in lanio:\n",
    "    dfa = reviews[(reviews['posted'] == anio) & (reviews['recommend'] == False) & (reviews['sentiment_analysis'] ==0)].copy()\n",
    "    dfa['sentiment_analysis']=1\n",
    "    dfa = dfa.groupby('item_id')['sentiment_analysis'].sum().reset_index()\n",
    "    dfa = dfa.sort_values('sentiment_analysis', ascending=False)\n",
    "    top_games = dfa.head(3)['item_id'].to_list()\n",
    "    for i,g in enumerate(top_games):\n",
    "      if g in iid:\n",
    "        top_games[i]=items[items['item_id'] == top_games[i]].head(1)['item_name'].iloc[0]\n",
    "      else:\n",
    "        top_games[i]=ids[ids['item_id'] == top_games[i]].head(1)['item_name'].iloc[0]\n",
    "    if len(top_games)<2:\n",
    "      return{'Puesto 1':top_games[0],'Puesto 2':'','Puesto 3':''}\n",
    "    elif len(top_games)<3:\n",
    "      return{'Puesto 1':top_games[0],'Puesto 2':top_games[1],'Puesto 3':''}\n",
    "    else:\n",
    "      return{'Puesto 1':top_games[0],'Puesto 2':top_games[1],'Puesto 3':top_games[2]}\n",
    "  else:\n",
    "    return {f'El año indicado no se encuentra en la base de datos: ':anio}"
   ]
  },
  {
   "cell_type": "code",
   "execution_count": 15,
   "metadata": {
    "colab": {
     "base_uri": "https://localhost:8080/"
    },
    "executionInfo": {
     "elapsed": 5,
     "status": "ok",
     "timestamp": 1701925708050,
     "user": {
      "displayName": "Angel Prieto",
      "userId": "16374893148173809494"
     },
     "user_tz": 180
    },
    "id": "04lzQNVnbbak",
    "outputId": "b726f7ca-3c28-4196-f32d-6e631a715526"
   },
   "outputs": [
    {
     "data": {
      "text/plain": [
       "{'Puesto 1': 'Counter-Strike: Global Offensive',\n",
       " 'Puesto 2': 'Ace of Spades',\n",
       " 'Puesto 3': 'Chivalry: Medieval Warfare'}"
      ]
     },
     "execution_count": 15,
     "metadata": {},
     "output_type": "execute_result"
    }
   ],
   "source": [
    "UsersNotRecommend(2012)"
   ]
  },
  {
   "cell_type": "code",
   "execution_count": 16,
   "metadata": {
    "executionInfo": {
     "elapsed": 291,
     "status": "ok",
     "timestamp": 1701926871727,
     "user": {
      "displayName": "Angel Prieto",
      "userId": "16374893148173809494"
     },
     "user_tz": 180
    },
    "id": "1peKTeptvNRJ"
   },
   "outputs": [],
   "source": [
    "def sentiment_analysis(anio):\n",
    "  dfs = pd.merge(reviews[['item_id','sentiment_analysis']],games[['item_id','release_date']].drop_duplicates(),on='item_id',how='inner')\n",
    "  dfs = dfs[dfs['release_date']==anio]\n",
    "  dfs = dfs.groupby('sentiment_analysis').size().reset_index(name='count')\n",
    "  dfs = dfs.sort_values('sentiment_analysis', ascending=True)\n",
    "  dfs = dfs['count'].to_list()\n",
    "  return{'Negative':dfs[0],'Neutral':dfs[1],'Positive':dfs[2]}"
   ]
  },
  {
   "cell_type": "code",
   "execution_count": 17,
   "metadata": {
    "colab": {
     "base_uri": "https://localhost:8080/"
    },
    "executionInfo": {
     "elapsed": 417,
     "status": "ok",
     "timestamp": 1701926898742,
     "user": {
      "displayName": "Angel Prieto",
      "userId": "16374893148173809494"
     },
     "user_tz": 180
    },
    "id": "87wrOWuuvx26",
    "outputId": "b316c60e-7f53-4ce0-c400-3e5bc040c7eb"
   },
   "outputs": [
    {
     "data": {
      "text/plain": [
       "{'Negative': 1040, 'Neutral': 1067, 'Positive': 4341}"
      ]
     },
     "execution_count": 17,
     "metadata": {},
     "output_type": "execute_result"
    }
   ],
   "source": [
    "sentiment_analysis(2014)"
   ]
  },
  {
   "cell_type": "code",
   "execution_count": null,
   "metadata": {
    "id": "KqYLLkdnv0xn"
   },
   "outputs": [],
   "source": []
  }
 ],
 "metadata": {
  "colab": {
   "authorship_tag": "ABX9TyNJYkXo1b9fhtPf6Y1+A2f+",
   "provenance": []
  },
  "kernelspec": {
   "display_name": "Python 3 (ipykernel)",
   "language": "python",
   "name": "python3"
  },
  "language_info": {
   "codemirror_mode": {
    "name": "ipython",
    "version": 3
   },
   "file_extension": ".py",
   "mimetype": "text/x-python",
   "name": "python",
   "nbconvert_exporter": "python",
   "pygments_lexer": "ipython3",
   "version": "3.10.0rc2"
  }
 },
 "nbformat": 4,
 "nbformat_minor": 4
}

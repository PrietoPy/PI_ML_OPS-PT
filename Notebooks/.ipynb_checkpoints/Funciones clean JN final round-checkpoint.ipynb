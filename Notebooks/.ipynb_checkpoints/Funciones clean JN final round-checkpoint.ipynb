{
 "cells": [
  {
   "cell_type": "code",
   "execution_count": 1,
   "metadata": {
    "executionInfo": {
     "elapsed": 5,
     "status": "ok",
     "timestamp": 1701923752042,
     "user": {
      "displayName": "Angel Prieto",
      "userId": "16374893148173809494"
     },
     "user_tz": 180
    },
    "id": "kNcna9Z0XZNv"
   },
   "outputs": [],
   "source": [
    "import pandas as pd"
   ]
  },
  {
   "cell_type": "code",
   "execution_count": 4,
   "metadata": {
    "executionInfo": {
     "elapsed": 1701,
     "status": "ok",
     "timestamp": 1701924976905,
     "user": {
      "displayName": "Angel Prieto",
      "userId": "16374893148173809494"
     },
     "user_tz": 180
    },
    "id": "CpZMNgF6XnWv"
   },
   "outputs": [],
   "source": [
    "games = pd.read_parquet('../Datasets/gamesv5.parquet')\n",
    "reviews = pd.read_parquet('../Datasets/reviews.parquet')\n",
    "items = pd.read_parquet('../Datasets/itemsv2.parquet')"
   ]
  },
  {
   "cell_type": "code",
   "execution_count": 5,
   "metadata": {
    "executionInfo": {
     "elapsed": 2,
     "status": "ok",
     "timestamp": 1701924986201,
     "user": {
      "displayName": "Angel Prieto",
      "userId": "16374893148173809494"
     },
     "user_tz": 180
    },
    "id": "GBs0LnlDMy4N"
   },
   "outputs": [],
   "source": [
    "generos = list(games.drop(columns=['item_id','release_date']).columns)"
   ]
  },
  {
   "cell_type": "code",
   "execution_count": 6,
   "metadata": {},
   "outputs": [
    {
     "data": {
      "text/html": [
       "<div>\n",
       "<style scoped>\n",
       "    .dataframe tbody tr th:only-of-type {\n",
       "        vertical-align: middle;\n",
       "    }\n",
       "\n",
       "    .dataframe tbody tr th {\n",
       "        vertical-align: top;\n",
       "    }\n",
       "\n",
       "    .dataframe thead th {\n",
       "        text-align: right;\n",
       "    }\n",
       "</style>\n",
       "<table border=\"1\" class=\"dataframe\">\n",
       "  <thead>\n",
       "    <tr style=\"text-align: right;\">\n",
       "      <th></th>\n",
       "      <th>item_id</th>\n",
       "      <th>item_name</th>\n",
       "      <th>playtime_forever</th>\n",
       "      <th>user_id</th>\n",
       "    </tr>\n",
       "  </thead>\n",
       "  <tbody>\n",
       "    <tr>\n",
       "      <th>0</th>\n",
       "      <td>10</td>\n",
       "      <td>Counter-Strike</td>\n",
       "      <td>6.0</td>\n",
       "      <td>76561197970982479</td>\n",
       "    </tr>\n",
       "    <tr>\n",
       "      <th>1</th>\n",
       "      <td>20</td>\n",
       "      <td>Team Fortress Classic</td>\n",
       "      <td>0.0</td>\n",
       "      <td>76561197970982479</td>\n",
       "    </tr>\n",
       "    <tr>\n",
       "      <th>2</th>\n",
       "      <td>30</td>\n",
       "      <td>Day of Defeat</td>\n",
       "      <td>7.0</td>\n",
       "      <td>76561197970982479</td>\n",
       "    </tr>\n",
       "    <tr>\n",
       "      <th>3</th>\n",
       "      <td>40</td>\n",
       "      <td>Deathmatch Classic</td>\n",
       "      <td>0.0</td>\n",
       "      <td>76561197970982479</td>\n",
       "    </tr>\n",
       "    <tr>\n",
       "      <th>4</th>\n",
       "      <td>50</td>\n",
       "      <td>Half-Life: Opposing Force</td>\n",
       "      <td>0.0</td>\n",
       "      <td>76561197970982479</td>\n",
       "    </tr>\n",
       "  </tbody>\n",
       "</table>\n",
       "</div>"
      ],
      "text/plain": [
       "   item_id                  item_name  playtime_forever            user_id\n",
       "0       10             Counter-Strike               6.0  76561197970982479\n",
       "1       20      Team Fortress Classic               0.0  76561197970982479\n",
       "2       30              Day of Defeat               7.0  76561197970982479\n",
       "3       40         Deathmatch Classic               0.0  76561197970982479\n",
       "4       50  Half-Life: Opposing Force               0.0  76561197970982479"
      ]
     },
     "execution_count": 6,
     "metadata": {},
     "output_type": "execute_result"
    }
   ],
   "source": [
    "items.head()"
   ]
  },
  {
   "cell_type": "code",
   "execution_count": 7,
   "metadata": {
    "executionInfo": {
     "elapsed": 3,
     "status": "ok",
     "timestamp": 1701924991225,
     "user": {
      "displayName": "Angel Prieto",
      "userId": "16374893148173809494"
     },
     "user_tz": 180
    },
    "id": "kJx9OOwu7abX"
   },
   "outputs": [],
   "source": [
    "ids =pd.read_csv('../Datasets/idsnv2.csv')"
   ]
  },
  {
   "cell_type": "code",
   "execution_count": 8,
   "metadata": {
    "executionInfo": {
     "elapsed": 302,
     "status": "ok",
     "timestamp": 1701924993371,
     "user": {
      "displayName": "Angel Prieto",
      "userId": "16374893148173809494"
     },
     "user_tz": 180
    },
    "id": "kmVAfSEw7uUf"
   },
   "outputs": [],
   "source": [
    "iid=list(set(items['item_id']))"
   ]
  },
  {
   "cell_type": "code",
   "execution_count": 9,
   "metadata": {
    "executionInfo": {
     "elapsed": 3,
     "status": "ok",
     "timestamp": 1701924994734,
     "user": {
      "displayName": "Angel Prieto",
      "userId": "16374893148173809494"
     },
     "user_tz": 180
    },
    "id": "CxXZZzZqG7y-"
   },
   "outputs": [],
   "source": [
    "lanio=list(set(reviews['posted'].to_list()))"
   ]
  },
  {
   "cell_type": "code",
   "execution_count": 10,
   "metadata": {},
   "outputs": [
    {
     "name": "stdout",
     "output_type": "stream",
     "text": [
      "Uso total de la memoria: 11.59 MB\n"
     ]
    }
   ],
   "source": [
    "# Obtener el uso de la memoria por columna\n",
    "memory_usage = games.memory_usage(deep=True)\n",
    "\n",
    "# Sumar el uso total de la memoria\n",
    "total_memory_usage = memory_usage.sum() / (1024 ** 2)  # Convertir a megabytes\n",
    "\n",
    "print(f\"Uso total de la memoria: {total_memory_usage:.2f} MB\")"
   ]
  },
  {
   "cell_type": "code",
   "execution_count": 11,
   "metadata": {},
   "outputs": [
    {
     "name": "stdout",
     "output_type": "stream",
     "text": [
      "Uso total de la memoria: 5.38 MB\n"
     ]
    }
   ],
   "source": [
    "# Obtener el uso de la memoria por columna\n",
    "memory_usage = reviews.memory_usage(deep=True)\n",
    "\n",
    "# Sumar el uso total de la memoria\n",
    "total_memory_usage = memory_usage.sum() / (1024 ** 2)  # Convertir a megabytes\n",
    "\n",
    "print(f\"Uso total de la memoria: {total_memory_usage:.2f} MB\")"
   ]
  },
  {
   "cell_type": "code",
   "execution_count": 12,
   "metadata": {},
   "outputs": [
    {
     "name": "stdout",
     "output_type": "stream",
     "text": [
      "Uso total de la memoria: 805.39 MB\n"
     ]
    }
   ],
   "source": [
    "# Obtener el uso de la memoria por columna\n",
    "memory_usage = items.memory_usage(deep=True)\n",
    "\n",
    "# Sumar el uso total de la memoria\n",
    "total_memory_usage = memory_usage.sum() / (1024 ** 2)  # Convertir a megabytes\n",
    "\n",
    "print(f\"Uso total de la memoria: {total_memory_usage:.2f} MB\")"
   ]
  },
  {
   "cell_type": "code",
   "execution_count": 13,
   "metadata": {},
   "outputs": [
    {
     "data": {
      "text/plain": [
       "Index(['item_id', 'item_name', 'playtime_forever', 'user_id'], dtype='object')"
      ]
     },
     "execution_count": 13,
     "metadata": {},
     "output_type": "execute_result"
    }
   ],
   "source": [
    "items.columns"
   ]
  },
  {
   "cell_type": "code",
   "execution_count": 14,
   "metadata": {},
   "outputs": [
    {
     "data": {
      "text/plain": [
       "10978"
      ]
     },
     "execution_count": 14,
     "metadata": {},
     "output_type": "execute_result"
    }
   ],
   "source": [
    "len(set(items['item_id']))"
   ]
  },
  {
   "cell_type": "code",
   "execution_count": 43,
   "metadata": {},
   "outputs": [],
   "source": [
    "gnames = items[['item_id', 'item_name']].drop_duplicates()"
   ]
  },
  {
   "cell_type": "code",
   "execution_count": 44,
   "metadata": {},
   "outputs": [
    {
     "data": {
      "text/plain": [
       "item_id      10978\n",
       "item_name    10978\n",
       "dtype: int64"
      ]
     },
     "execution_count": 44,
     "metadata": {},
     "output_type": "execute_result"
    }
   ],
   "source": [
    "gnames.count()"
   ]
  },
  {
   "cell_type": "code",
   "execution_count": 45,
   "metadata": {},
   "outputs": [
    {
     "name": "stdout",
     "output_type": "stream",
     "text": [
      "Uso total de la memoria: 0.98 MB\n"
     ]
    }
   ],
   "source": [
    "# Obtener el uso de la memoria por columna\n",
    "memory_usage = gnames.memory_usage(deep=True)\n",
    "\n",
    "# Sumar el uso total de la memoria\n",
    "total_memory_usage = memory_usage.sum() / (1024 ** 2)  # Convertir a megabytes\n",
    "\n",
    "print(f\"Uso total de la memoria: {total_memory_usage:.2f} MB\")"
   ]
  },
  {
   "cell_type": "code",
   "execution_count": 46,
   "metadata": {},
   "outputs": [],
   "source": [
    "dfitems = items.drop(columns=['item_name'])"
   ]
  },
  {
   "cell_type": "code",
   "execution_count": 47,
   "metadata": {},
   "outputs": [
    {
     "name": "stdout",
     "output_type": "stream",
     "text": [
      "Uso total de la memoria: 422.92 MB\n"
     ]
    }
   ],
   "source": [
    "# Obtener el uso de la memoria por columna\n",
    "memory_usage = dfitems.memory_usage(deep=True)\n",
    "\n",
    "# Sumar el uso total de la memoria\n",
    "total_memory_usage = memory_usage.sum() / (1024 ** 2)  # Convertir a megabytes\n",
    "\n",
    "print(f\"Uso total de la memoria: {total_memory_usage:.2f} MB\")"
   ]
  },
  {
   "cell_type": "code",
   "execution_count": 48,
   "metadata": {},
   "outputs": [
    {
     "data": {
      "text/html": [
       "<div>\n",
       "<style scoped>\n",
       "    .dataframe tbody tr th:only-of-type {\n",
       "        vertical-align: middle;\n",
       "    }\n",
       "\n",
       "    .dataframe tbody tr th {\n",
       "        vertical-align: top;\n",
       "    }\n",
       "\n",
       "    .dataframe thead th {\n",
       "        text-align: right;\n",
       "    }\n",
       "</style>\n",
       "<table border=\"1\" class=\"dataframe\">\n",
       "  <thead>\n",
       "    <tr style=\"text-align: right;\">\n",
       "      <th></th>\n",
       "      <th>item_id</th>\n",
       "      <th>playtime_forever</th>\n",
       "      <th>user_id</th>\n",
       "    </tr>\n",
       "  </thead>\n",
       "  <tbody>\n",
       "    <tr>\n",
       "      <th>0</th>\n",
       "      <td>10</td>\n",
       "      <td>6.0</td>\n",
       "      <td>76561197970982479</td>\n",
       "    </tr>\n",
       "    <tr>\n",
       "      <th>1</th>\n",
       "      <td>20</td>\n",
       "      <td>0.0</td>\n",
       "      <td>76561197970982479</td>\n",
       "    </tr>\n",
       "    <tr>\n",
       "      <th>2</th>\n",
       "      <td>30</td>\n",
       "      <td>7.0</td>\n",
       "      <td>76561197970982479</td>\n",
       "    </tr>\n",
       "    <tr>\n",
       "      <th>3</th>\n",
       "      <td>40</td>\n",
       "      <td>0.0</td>\n",
       "      <td>76561197970982479</td>\n",
       "    </tr>\n",
       "    <tr>\n",
       "      <th>4</th>\n",
       "      <td>50</td>\n",
       "      <td>0.0</td>\n",
       "      <td>76561197970982479</td>\n",
       "    </tr>\n",
       "  </tbody>\n",
       "</table>\n",
       "</div>"
      ],
      "text/plain": [
       "   item_id  playtime_forever            user_id\n",
       "0       10               6.0  76561197970982479\n",
       "1       20               0.0  76561197970982479\n",
       "2       30               7.0  76561197970982479\n",
       "3       40               0.0  76561197970982479\n",
       "4       50               0.0  76561197970982479"
      ]
     },
     "execution_count": 48,
     "metadata": {},
     "output_type": "execute_result"
    }
   ],
   "source": [
    "dfitems.head()"
   ]
  },
  {
   "cell_type": "code",
   "execution_count": 49,
   "metadata": {},
   "outputs": [
    {
     "name": "stdout",
     "output_type": "stream",
     "text": [
      "<class 'pandas.core.frame.DataFrame'>\n",
      "RangeIndex: 5153209 entries, 0 to 5153208\n",
      "Data columns (total 4 columns):\n",
      " #   Column            Dtype  \n",
      "---  ------            -----  \n",
      " 0   item_id           int64  \n",
      " 1   item_name         object \n",
      " 2   playtime_forever  float64\n",
      " 3   user_id           object \n",
      "dtypes: float64(1), int64(1), object(2)\n",
      "memory usage: 157.3+ MB\n"
     ]
    }
   ],
   "source": [
    "items.info()"
   ]
  },
  {
   "cell_type": "code",
   "execution_count": 51,
   "metadata": {},
   "outputs": [],
   "source": [
    "unames= items['user_id'].drop_duplicates().reset_index()"
   ]
  },
  {
   "cell_type": "code",
   "execution_count": 52,
   "metadata": {},
   "outputs": [
    {
     "name": "stdout",
     "output_type": "stream",
     "text": [
      "<class 'pandas.core.frame.DataFrame'>\n",
      "RangeIndex: 70912 entries, 0 to 70911\n",
      "Data columns (total 2 columns):\n",
      " #   Column   Non-Null Count  Dtype \n",
      "---  ------   --------------  ----- \n",
      " 0   index    70912 non-null  int64 \n",
      " 1   user_id  70912 non-null  object\n",
      "dtypes: int64(1), object(1)\n",
      "memory usage: 1.1+ MB\n"
     ]
    }
   ],
   "source": [
    "unames.info()"
   ]
  },
  {
   "cell_type": "code",
   "execution_count": 53,
   "metadata": {},
   "outputs": [
    {
     "data": {
      "text/html": [
       "<div>\n",
       "<style scoped>\n",
       "    .dataframe tbody tr th:only-of-type {\n",
       "        vertical-align: middle;\n",
       "    }\n",
       "\n",
       "    .dataframe tbody tr th {\n",
       "        vertical-align: top;\n",
       "    }\n",
       "\n",
       "    .dataframe thead th {\n",
       "        text-align: right;\n",
       "    }\n",
       "</style>\n",
       "<table border=\"1\" class=\"dataframe\">\n",
       "  <thead>\n",
       "    <tr style=\"text-align: right;\">\n",
       "      <th></th>\n",
       "      <th>index</th>\n",
       "      <th>user_id</th>\n",
       "    </tr>\n",
       "  </thead>\n",
       "  <tbody>\n",
       "    <tr>\n",
       "      <th>0</th>\n",
       "      <td>0</td>\n",
       "      <td>76561197970982479</td>\n",
       "    </tr>\n",
       "    <tr>\n",
       "      <th>1</th>\n",
       "      <td>277</td>\n",
       "      <td>js41637</td>\n",
       "    </tr>\n",
       "    <tr>\n",
       "      <th>2</th>\n",
       "      <td>1165</td>\n",
       "      <td>evcentric</td>\n",
       "    </tr>\n",
       "    <tr>\n",
       "      <th>3</th>\n",
       "      <td>1302</td>\n",
       "      <td>Riot-Punch</td>\n",
       "    </tr>\n",
       "    <tr>\n",
       "      <th>4</th>\n",
       "      <td>1630</td>\n",
       "      <td>doctr</td>\n",
       "    </tr>\n",
       "  </tbody>\n",
       "</table>\n",
       "</div>"
      ],
      "text/plain": [
       "   index            user_id\n",
       "0      0  76561197970982479\n",
       "1    277            js41637\n",
       "2   1165          evcentric\n",
       "3   1302         Riot-Punch\n",
       "4   1630              doctr"
      ]
     },
     "execution_count": 53,
     "metadata": {},
     "output_type": "execute_result"
    }
   ],
   "source": [
    "unames.head()"
   ]
  },
  {
   "cell_type": "code",
   "execution_count": 54,
   "metadata": {},
   "outputs": [
    {
     "data": {
      "text/plain": [
       "70912"
      ]
     },
     "execution_count": 54,
     "metadata": {},
     "output_type": "execute_result"
    }
   ],
   "source": [
    "len(set(unames['index']))"
   ]
  },
  {
   "cell_type": "code",
   "execution_count": 56,
   "metadata": {},
   "outputs": [],
   "source": [
    "unames.rename(columns={'index':'uid_user'}, inplace=True)"
   ]
  },
  {
   "cell_type": "code",
   "execution_count": 57,
   "metadata": {},
   "outputs": [
    {
     "name": "stdout",
     "output_type": "stream",
     "text": [
      "Uso total de la memoria: 5.37 MB\n"
     ]
    }
   ],
   "source": [
    "# Obtener el uso de la memoria por columna\n",
    "memory_usage = unames.memory_usage(deep=True)\n",
    "\n",
    "# Sumar el uso total de la memoria\n",
    "total_memory_usage = memory_usage.sum() / (1024 ** 2)  # Convertir a megabytes\n",
    "\n",
    "print(f\"Uso total de la memoria: {total_memory_usage:.2f} MB\")"
   ]
  },
  {
   "cell_type": "code",
   "execution_count": 60,
   "metadata": {},
   "outputs": [],
   "source": [
    "fitems=pd.merge(items,unames,on='user_id',how='inner')"
   ]
  },
  {
   "cell_type": "code",
   "execution_count": 61,
   "metadata": {},
   "outputs": [
    {
     "name": "stdout",
     "output_type": "stream",
     "text": [
      "<class 'pandas.core.frame.DataFrame'>\n",
      "RangeIndex: 5153209 entries, 0 to 5153208\n",
      "Data columns (total 5 columns):\n",
      " #   Column            Dtype  \n",
      "---  ------            -----  \n",
      " 0   item_id           int64  \n",
      " 1   item_name         object \n",
      " 2   playtime_forever  float64\n",
      " 3   user_id           object \n",
      " 4   uid_user          int64  \n",
      "dtypes: float64(1), int64(2), object(2)\n",
      "memory usage: 196.6+ MB\n"
     ]
    }
   ],
   "source": [
    "fitems.info()"
   ]
  },
  {
   "cell_type": "code",
   "execution_count": 62,
   "metadata": {},
   "outputs": [],
   "source": [
    "fitems = fitems.drop(columns=['item_name','user_id'])"
   ]
  },
  {
   "cell_type": "code",
   "execution_count": 68,
   "metadata": {},
   "outputs": [
    {
     "name": "stdout",
     "output_type": "stream",
     "text": [
      "<class 'pandas.core.frame.DataFrame'>\n",
      "RangeIndex: 5153209 entries, 0 to 5153208\n",
      "Data columns (total 3 columns):\n",
      " #   Column            Dtype  \n",
      "---  ------            -----  \n",
      " 0   item_id           int64  \n",
      " 1   playtime_forever  float64\n",
      " 2   uid_user          int64  \n",
      "dtypes: float64(1), int64(2)\n",
      "memory usage: 117.9 MB\n"
     ]
    }
   ],
   "source": [
    "fitems.info()"
   ]
  },
  {
   "cell_type": "code",
   "execution_count": 64,
   "metadata": {},
   "outputs": [
    {
     "name": "stdout",
     "output_type": "stream",
     "text": [
      "Uso total de la memoria: 117.95 MB\n"
     ]
    }
   ],
   "source": [
    "# Obtener el uso de la memoria por columna\n",
    "memory_usage = fitems.memory_usage(deep=True)\n",
    "\n",
    "# Sumar el uso total de la memoria\n",
    "total_memory_usage = memory_usage.sum() / (1024 ** 2)  # Convertir a megabytes\n",
    "\n",
    "print(f\"Uso total de la memoria: {total_memory_usage:.2f} MB\")"
   ]
  },
  {
   "cell_type": "code",
   "execution_count": 65,
   "metadata": {},
   "outputs": [],
   "source": [
    "gnames.to_csv('../Datasets/gnames.csv', index=False)"
   ]
  },
  {
   "cell_type": "code",
   "execution_count": 66,
   "metadata": {},
   "outputs": [],
   "source": [
    "unames.to_csv('../Datasets/unames.csv', index=False)"
   ]
  },
  {
   "cell_type": "code",
   "execution_count": 69,
   "metadata": {},
   "outputs": [],
   "source": [
    "fitems.to_csv('../Datasets/itemsv3.csv', index=False)"
   ]
  },
  {
   "cell_type": "code",
   "execution_count": 8,
   "metadata": {
    "id": "i_0VTeoVwHv_"
   },
   "outputs": [],
   "source": [
    "def PlayTimeGenre(genero):\n",
    "  genero=genero.upper()\n",
    "  if genero in generos:\n",
    "    lgames = games.loc[games[genero] == 1, ['release_date', 'item_id']]\n",
    "    lhoras = items.groupby('item_id')['playtime_forever'].sum().reset_index()\n",
    "    dfplay = pd.merge(lgames, lhoras, on='item_id', how='inner')\n",
    "    df_horas = dfplay.groupby('release_date')['playtime_forever'].sum().reset_index()\n",
    "    df_horas_ordenado = df_horas.sort_values(by='playtime_forever', ascending=False)\n",
    "    resultado=df_horas_ordenado.head(1)\n",
    "    prin = \"Año de lanzamiento con más horas jugadas para Género \" + genero\n",
    "    anio = int(resultado['release_date'].iloc[0])\n",
    "    return {prin : anio}\n",
    "  else:\n",
    "    return {\"El Genero indicado no se encuentra en la base de datos\":genero}"
   ]
  },
  {
   "cell_type": "code",
   "execution_count": 9,
   "metadata": {
    "colab": {
     "base_uri": "https://localhost:8080/"
    },
    "executionInfo": {
     "elapsed": 365,
     "status": "ok",
     "timestamp": 1701913794823,
     "user": {
      "displayName": "Angel Prieto",
      "userId": "16374893148173809494"
     },
     "user_tz": 180
    },
    "id": "4ewx48Y6yRWz",
    "outputId": "a715cf4f-302d-4970-92d6-922723eebd62"
   },
   "outputs": [
    {
     "data": {
      "text/plain": [
       "{'Año de lanzamiento con más horas jugadas para Género 2D': 2011}"
      ]
     },
     "execution_count": 9,
     "metadata": {},
     "output_type": "execute_result"
    }
   ],
   "source": [
    "PlayTimeGenre(\"2d\")"
   ]
  },
  {
   "cell_type": "code",
   "execution_count": 10,
   "metadata": {
    "id": "mif3NiQsadYE"
   },
   "outputs": [],
   "source": [
    "def UserForGenre(genero):\n",
    "  genero=genero.upper()\n",
    "  if genero in generos:\n",
    "    dfgames = games[['item_id','release_date',genero]]\n",
    "    dfgames = dfgames[games[genero]==1]\n",
    "    dfuserg = pd.merge(dfgames,items,on='item_id',how='inner')\n",
    "    uhoras = dfuserg.groupby('user_id')['playtime_forever'].sum().reset_index()\n",
    "    uhoras = uhoras.sort_values(by='playtime_forever', ascending=False)\n",
    "    uhoras = uhoras.head(1)\n",
    "    uhoras = uhoras['user_id'].iloc[0]\n",
    "    dfuserg = dfuserg[dfuserg['user_id']==uhoras]\n",
    "    dfuserg = dfuserg.groupby('release_date')['playtime_forever'].sum().reset_index()\n",
    "    dfuserg = dfuserg.sort_values(by='release_date', ascending=False)\n",
    "    dfuserg = dfuserg[dfuserg['playtime_forever']>0]\n",
    "    dfuserg = dfuserg.astype(int)\n",
    "    dfuserg.rename(columns={'release_date': 'Año', 'playtime_forever':'Horas'}, inplace=True)\n",
    "    di = dfuserg.apply(lambda row: row.to_dict(), axis=1).tolist()\n",
    "    prin=\"Usuario con más horas jugadas para Género \" + genero\n",
    "    return {prin:uhoras,\"Horas Jugadas\":di}\n",
    "  else:\n",
    "    return {\"El Genero indicado no se encuentra en la base de datos \":genero}"
   ]
  },
  {
   "cell_type": "code",
   "execution_count": 11,
   "metadata": {
    "colab": {
     "base_uri": "https://localhost:8080/"
    },
    "executionInfo": {
     "elapsed": 2408,
     "status": "ok",
     "timestamp": 1701915694083,
     "user": {
      "displayName": "Angel Prieto",
      "userId": "16374893148173809494"
     },
     "user_tz": 180
    },
    "id": "XwUtwaQla8-0",
    "outputId": "0c7e8d03-f0f8-4c93-e3db-15c0fcd04b1a"
   },
   "outputs": [
    {
     "data": {
      "text/plain": [
       "{'Usuario con más horas jugadas para Género ACTION': 'Sp3ctre',\n",
       " 'Horas Jugadas': [{'Año': 2017, 'Horas': 43327},\n",
       "  {'Año': 2016, 'Horas': 30195},\n",
       "  {'Año': 2015, 'Horas': 394314},\n",
       "  {'Año': 2014, 'Horas': 132864},\n",
       "  {'Año': 2013, 'Horas': 122158},\n",
       "  {'Año': 2012, 'Horas': 384238},\n",
       "  {'Año': 2011, 'Horas': 155459},\n",
       "  {'Año': 2010, 'Horas': 82766},\n",
       "  {'Año': 2009, 'Horas': 108771},\n",
       "  {'Año': 2008, 'Horas': 8533},\n",
       "  {'Año': 2007, 'Horas': 112794},\n",
       "  {'Año': 2006, 'Horas': 90253},\n",
       "  {'Año': 2005, 'Horas': 21339},\n",
       "  {'Año': 2004, 'Horas': 127411},\n",
       "  {'Año': 2003, 'Horas': 7744},\n",
       "  {'Año': 2002, 'Horas': 238},\n",
       "  {'Año': 2001, 'Horas': 250},\n",
       "  {'Año': 2000, 'Horas': 70644},\n",
       "  {'Año': 1999, 'Horas': 44},\n",
       "  {'Año': 1997, 'Horas': 242},\n",
       "  {'Año': 1995, 'Horas': 217}]}"
      ]
     },
     "execution_count": 11,
     "metadata": {},
     "output_type": "execute_result"
    }
   ],
   "source": [
    "UserForGenre('AcTiOn')"
   ]
  },
  {
   "cell_type": "code",
   "execution_count": 12,
   "metadata": {
    "executionInfo": {
     "elapsed": 575,
     "status": "ok",
     "timestamp": 1701925237861,
     "user": {
      "displayName": "Angel Prieto",
      "userId": "16374893148173809494"
     },
     "user_tz": 180
    },
    "id": "_khsUZJjIotG"
   },
   "outputs": [],
   "source": [
    "def UsersRecommend(anio):\n",
    "  if anio in lanio:\n",
    "    dfa = reviews[(reviews['posted'] == anio) & (reviews['recommend'] == True) & (reviews['sentiment_analysis'] >0)].copy()\n",
    "    dfa = dfa.groupby('item_id')['sentiment_analysis'].sum().reset_index()\n",
    "    dfa = dfa.sort_values('sentiment_analysis', ascending=False)\n",
    "    top_games = dfa.head(3)['item_id'].to_list()\n",
    "    for i,g in enumerate(top_games):\n",
    "      if g in iid:\n",
    "        top_games[i]=items[items['item_id'] == top_games[i]].head(1)['item_name'].iloc[0]\n",
    "      else:\n",
    "        top_games[i]=ids[ids['item_id'] == top_games[i]].head(1)['item_name'].iloc[0]\n",
    "    return{'Puesto 1':top_games[0],'Puesto 2':top_games[1],'Puesto 3':top_games[2]}\n",
    "  else:\n",
    "    return {f'El año indicado no se encuentra en la base de datos: ':anio}"
   ]
  },
  {
   "cell_type": "code",
   "execution_count": 13,
   "metadata": {
    "colab": {
     "base_uri": "https://localhost:8080/"
    },
    "executionInfo": {
     "elapsed": 287,
     "status": "ok",
     "timestamp": 1701925240220,
     "user": {
      "displayName": "Angel Prieto",
      "userId": "16374893148173809494"
     },
     "user_tz": 180
    },
    "id": "dqDpiUgDJl02",
    "outputId": "f11f8eb3-4e08-4a2c-dc5e-930615ae892b"
   },
   "outputs": [
    {
     "data": {
      "text/plain": [
       "{'Puesto 1': 'Counter-Strike: Global Offensive',\n",
       " 'Puesto 2': 'Team Fortress 2',\n",
       " 'Puesto 3': 'Borderlands 2'}"
      ]
     },
     "execution_count": 13,
     "metadata": {},
     "output_type": "execute_result"
    }
   ],
   "source": [
    "UsersRecommend(2012)"
   ]
  },
  {
   "cell_type": "code",
   "execution_count": 14,
   "metadata": {
    "executionInfo": {
     "elapsed": 620,
     "status": "ok",
     "timestamp": 1701925706964,
     "user": {
      "displayName": "Angel Prieto",
      "userId": "16374893148173809494"
     },
     "user_tz": 180
    },
    "id": "zlKhYkXRa4r9"
   },
   "outputs": [],
   "source": [
    "def UsersNotRecommend(anio):\n",
    "  if anio in lanio:\n",
    "    dfa = reviews[(reviews['posted'] == anio) & (reviews['recommend'] == False) & (reviews['sentiment_analysis'] ==0)].copy()\n",
    "    dfa['sentiment_analysis']=1\n",
    "    dfa = dfa.groupby('item_id')['sentiment_analysis'].sum().reset_index()\n",
    "    dfa = dfa.sort_values('sentiment_analysis', ascending=False)\n",
    "    top_games = dfa.head(3)['item_id'].to_list()\n",
    "    for i,g in enumerate(top_games):\n",
    "      if g in iid:\n",
    "        top_games[i]=items[items['item_id'] == top_games[i]].head(1)['item_name'].iloc[0]\n",
    "      else:\n",
    "        top_games[i]=ids[ids['item_id'] == top_games[i]].head(1)['item_name'].iloc[0]\n",
    "    if len(top_games)<2:\n",
    "      return{'Puesto 1':top_games[0],'Puesto 2':'','Puesto 3':''}\n",
    "    elif len(top_games)<3:\n",
    "      return{'Puesto 1':top_games[0],'Puesto 2':top_games[1],'Puesto 3':''}\n",
    "    else:\n",
    "      return{'Puesto 1':top_games[0],'Puesto 2':top_games[1],'Puesto 3':top_games[2]}\n",
    "  else:\n",
    "    return {f'El año indicado no se encuentra en la base de datos: ':anio}"
   ]
  },
  {
   "cell_type": "code",
   "execution_count": 15,
   "metadata": {
    "colab": {
     "base_uri": "https://localhost:8080/"
    },
    "executionInfo": {
     "elapsed": 5,
     "status": "ok",
     "timestamp": 1701925708050,
     "user": {
      "displayName": "Angel Prieto",
      "userId": "16374893148173809494"
     },
     "user_tz": 180
    },
    "id": "04lzQNVnbbak",
    "outputId": "b726f7ca-3c28-4196-f32d-6e631a715526"
   },
   "outputs": [
    {
     "data": {
      "text/plain": [
       "{'Puesto 1': 'Counter-Strike: Global Offensive',\n",
       " 'Puesto 2': 'Ace of Spades',\n",
       " 'Puesto 3': 'Chivalry: Medieval Warfare'}"
      ]
     },
     "execution_count": 15,
     "metadata": {},
     "output_type": "execute_result"
    }
   ],
   "source": [
    "UsersNotRecommend(2012)"
   ]
  },
  {
   "cell_type": "code",
   "execution_count": 16,
   "metadata": {
    "executionInfo": {
     "elapsed": 291,
     "status": "ok",
     "timestamp": 1701926871727,
     "user": {
      "displayName": "Angel Prieto",
      "userId": "16374893148173809494"
     },
     "user_tz": 180
    },
    "id": "1peKTeptvNRJ"
   },
   "outputs": [],
   "source": [
    "def sentiment_analysis(anio):\n",
    "  dfs = pd.merge(reviews[['item_id','sentiment_analysis']],games[['item_id','release_date']].drop_duplicates(),on='item_id',how='inner')\n",
    "  dfs = dfs[dfs['release_date']==anio]\n",
    "  dfs = dfs.groupby('sentiment_analysis').size().reset_index(name='count')\n",
    "  dfs = dfs.sort_values('sentiment_analysis', ascending=True)\n",
    "  dfs = dfs['count'].to_list()\n",
    "  return{'Negative':dfs[0],'Neutral':dfs[1],'Positive':dfs[2]}"
   ]
  },
  {
   "cell_type": "code",
   "execution_count": 17,
   "metadata": {
    "colab": {
     "base_uri": "https://localhost:8080/"
    },
    "executionInfo": {
     "elapsed": 417,
     "status": "ok",
     "timestamp": 1701926898742,
     "user": {
      "displayName": "Angel Prieto",
      "userId": "16374893148173809494"
     },
     "user_tz": 180
    },
    "id": "87wrOWuuvx26",
    "outputId": "b316c60e-7f53-4ce0-c400-3e5bc040c7eb"
   },
   "outputs": [
    {
     "data": {
      "text/plain": [
       "{'Negative': 1040, 'Neutral': 1067, 'Positive': 4341}"
      ]
     },
     "execution_count": 17,
     "metadata": {},
     "output_type": "execute_result"
    }
   ],
   "source": [
    "sentiment_analysis(2014)"
   ]
  },
  {
   "cell_type": "code",
   "execution_count": null,
   "metadata": {
    "id": "KqYLLkdnv0xn"
   },
   "outputs": [],
   "source": []
  }
 ],
 "metadata": {
  "colab": {
   "authorship_tag": "ABX9TyNJYkXo1b9fhtPf6Y1+A2f+",
   "provenance": []
  },
  "kernelspec": {
   "display_name": "Python 3 (ipykernel)",
   "language": "python",
   "name": "python3"
  },
  "language_info": {
   "codemirror_mode": {
    "name": "ipython",
    "version": 3
   },
   "file_extension": ".py",
   "mimetype": "text/x-python",
   "name": "python",
   "nbconvert_exporter": "python",
   "pygments_lexer": "ipython3",
   "version": "3.10.0rc2"
  }
 },
 "nbformat": 4,
 "nbformat_minor": 4
}

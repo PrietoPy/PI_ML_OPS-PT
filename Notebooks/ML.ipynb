{
 "cells": [
  {
   "cell_type": "code",
   "execution_count": 86,
   "metadata": {
    "executionInfo": {
     "elapsed": 320,
     "status": "ok",
     "timestamp": 1702513373262,
     "user": {
      "displayName": "Angel Prieto",
      "userId": "16374893148173809494"
     },
     "user_tz": 180
    },
    "id": "9z4OkzQeeAl1"
   },
   "outputs": [],
   "source": [
    "import pandas as pd\n",
    "import numpy as np\n",
    "from sklearn.metrics.pairwise import cosine_similarity"
   ]
  },
  {
   "cell_type": "code",
   "execution_count": 221,
   "metadata": {
    "executionInfo": {
     "elapsed": 5,
     "status": "ok",
     "timestamp": 1702513379199,
     "user": {
      "displayName": "Angel Prieto",
      "userId": "16374893148173809494"
     },
     "user_tz": 180
    },
    "id": "36VDYgFdeoVV"
   },
   "outputs": [],
   "source": [
    "games = pd.read_parquet('../Datasets/gamesoh.parquet')"
   ]
  },
  {
   "cell_type": "code",
   "execution_count": 222,
   "metadata": {
    "executionInfo": {
     "elapsed": 617,
     "status": "ok",
     "timestamp": 1702515436210,
     "user": {
      "displayName": "Angel Prieto",
      "userId": "16374893148173809494"
     },
     "user_tz": 180
    },
    "id": "ROhZPQlK0HOQ"
   },
   "outputs": [],
   "source": [
    "gnames = pd.read_parquet('../Datasets/games.parquet')"
   ]
  },
  {
   "cell_type": "code",
   "execution_count": 223,
   "metadata": {},
   "outputs": [],
   "source": [
    "fnames = pd.read_parquet('../Datasets/fnames.parquet')"
   ]
  },
  {
   "cell_type": "code",
   "execution_count": 224,
   "metadata": {},
   "outputs": [
    {
     "data": {
      "text/html": [
       "<div>\n",
       "<style scoped>\n",
       "    .dataframe tbody tr th:only-of-type {\n",
       "        vertical-align: middle;\n",
       "    }\n",
       "\n",
       "    .dataframe tbody tr th {\n",
       "        vertical-align: top;\n",
       "    }\n",
       "\n",
       "    .dataframe thead th {\n",
       "        text-align: right;\n",
       "    }\n",
       "</style>\n",
       "<table border=\"1\" class=\"dataframe\">\n",
       "  <thead>\n",
       "    <tr style=\"text-align: right;\">\n",
       "      <th></th>\n",
       "      <th>item_id</th>\n",
       "      <th>item_name</th>\n",
       "    </tr>\n",
       "  </thead>\n",
       "  <tbody>\n",
       "    <tr>\n",
       "      <th>0</th>\n",
       "      <td>277950</td>\n",
       "      <td>Deadbreed®</td>\n",
       "    </tr>\n",
       "    <tr>\n",
       "      <th>1</th>\n",
       "      <td>226700</td>\n",
       "      <td>Infestation: Survivor Stories 2020</td>\n",
       "    </tr>\n",
       "    <tr>\n",
       "      <th>2</th>\n",
       "      <td>244850</td>\n",
       "      <td>Space Engineers</td>\n",
       "    </tr>\n",
       "    <tr>\n",
       "      <th>3</th>\n",
       "      <td>218620</td>\n",
       "      <td>PAYDAY 2</td>\n",
       "    </tr>\n",
       "    <tr>\n",
       "      <th>4</th>\n",
       "      <td>428190</td>\n",
       "      <td>MadOut Open City</td>\n",
       "    </tr>\n",
       "  </tbody>\n",
       "</table>\n",
       "</div>"
      ],
      "text/plain": [
       "   item_id                           item_name\n",
       "0   277950                          Deadbreed®\n",
       "1   226700  Infestation: Survivor Stories 2020\n",
       "2   244850                     Space Engineers\n",
       "3   218620                            PAYDAY 2\n",
       "4   428190                    MadOut Open City"
      ]
     },
     "execution_count": 224,
     "metadata": {},
     "output_type": "execute_result"
    }
   ],
   "source": [
    "fnames.head()"
   ]
  },
  {
   "cell_type": "code",
   "execution_count": 225,
   "metadata": {},
   "outputs": [
    {
     "name": "stdout",
     "output_type": "stream",
     "text": [
      "<class 'pandas.core.frame.DataFrame'>\n",
      "RangeIndex: 29803 entries, 0 to 29802\n",
      "Data columns (total 62 columns):\n",
      " #   Column                 Non-Null Count  Dtype\n",
      "---  ------                 --------------  -----\n",
      " 0   item_id                29803 non-null  int32\n",
      " 1   2D                     29803 non-null  int8 \n",
      " 2   ACTION                 29803 non-null  int8 \n",
      " 3   ADVENTURE              29803 non-null  int8 \n",
      " 4   ANIME                  29803 non-null  int8 \n",
      " 5   ARCADE                 29803 non-null  int8 \n",
      " 6   ATMOSPHERIC            29803 non-null  int8 \n",
      " 7   CASUAL                 29803 non-null  int8 \n",
      " 8   CLASSIC                29803 non-null  int8 \n",
      " 9   CO-OP                  29803 non-null  int8 \n",
      " 10  COMEDY                 29803 non-null  int8 \n",
      " 11  CUTE                   29803 non-null  int8 \n",
      " 12  DESIGN & ILLUSTRATION  29803 non-null  int8 \n",
      " 13  DIFFICULT              29803 non-null  int8 \n",
      " 14  EARLY ACCESS           29803 non-null  int8 \n",
      " 15  EXPLORATION            29803 non-null  int8 \n",
      " 16  FPS                    29803 non-null  int8 \n",
      " 17  FAMILY FRIENDLY        29803 non-null  int8 \n",
      " 18  FANTASY                29803 non-null  int8 \n",
      " 19  FEMALE PROTAGONIST     29803 non-null  int8 \n",
      " 20  FIRST-PERSON           29803 non-null  int8 \n",
      " 21  FREE TO PLAY           29803 non-null  int8 \n",
      " 22  FUNNY                  29803 non-null  int8 \n",
      " 23  GORE                   29803 non-null  int8 \n",
      " 24  GREAT SOUNDTRACK       29803 non-null  int8 \n",
      " 25  HIDDEN OBJECT          29803 non-null  int8 \n",
      " 26  HORROR                 29803 non-null  int8 \n",
      " 27  INDIE                  29803 non-null  int8 \n",
      " 28  LOCAL CO-OP            29803 non-null  int8 \n",
      " 29  LOCAL MULTIPLAYER      29803 non-null  int8 \n",
      " 30  MASSIVELY MULTIPLAYER  29803 non-null  int8 \n",
      " 31  MOVIE                  29803 non-null  int8 \n",
      " 32  MULTIPLAYER            29803 non-null  int8 \n",
      " 33  ONLINE CO-OP           29803 non-null  int8 \n",
      " 34  OPEN WORLD             29803 non-null  int8 \n",
      " 35  PIXEL GRAPHICS         29803 non-null  int8 \n",
      " 36  PLATFORMER             29803 non-null  int8 \n",
      " 37  POINT & CLICK          29803 non-null  int8 \n",
      " 38  PUZZLE                 29803 non-null  int8 \n",
      " 39  RPG                    29803 non-null  int8 \n",
      " 40  RPGMAKER               29803 non-null  int8 \n",
      " 41  RACING                 29803 non-null  int8 \n",
      " 42  RETRO                  29803 non-null  int8 \n",
      " 43  ROGUE-LIKE             29803 non-null  int8 \n",
      " 44  SANDBOX                29803 non-null  int8 \n",
      " 45  SCI-FI                 29803 non-null  int8 \n",
      " 46  SHOOT 'EM UP           29803 non-null  int8 \n",
      " 47  SHOOTER                29803 non-null  int8 \n",
      " 48  SIMULATION             29803 non-null  int8 \n",
      " 49  SINGLEPLAYER           29803 non-null  int8 \n",
      " 50  SPACE                  29803 non-null  int8 \n",
      " 51  SPORTS                 29803 non-null  int8 \n",
      " 52  STORY RICH             29803 non-null  int8 \n",
      " 53  STRATEGY               29803 non-null  int8 \n",
      " 54  SURVIVAL               29803 non-null  int8 \n",
      " 55  TACTICAL               29803 non-null  int8 \n",
      " 56  THIRD PERSON           29803 non-null  int8 \n",
      " 57  TURN-BASED             29803 non-null  int8 \n",
      " 58  UTILITIES              29803 non-null  int8 \n",
      " 59  VIOLENT                29803 non-null  int8 \n",
      " 60  VISUAL NOVEL           29803 non-null  int8 \n",
      " 61  ZOMBIES                29803 non-null  int8 \n",
      "dtypes: int32(1), int8(61)\n",
      "memory usage: 1.8 MB\n"
     ]
    }
   ],
   "source": [
    "games.info()"
   ]
  },
  {
   "cell_type": "code",
   "execution_count": 226,
   "metadata": {},
   "outputs": [
    {
     "name": "stdout",
     "output_type": "stream",
     "text": [
      "<class 'pandas.core.frame.DataFrame'>\n",
      "RangeIndex: 565 entries, 0 to 564\n",
      "Data columns (total 2 columns):\n",
      " #   Column     Non-Null Count  Dtype \n",
      "---  ------     --------------  ----- \n",
      " 0   item_id    565 non-null    int32 \n",
      " 1   item_name  565 non-null    object\n",
      "dtypes: int32(1), object(1)\n",
      "memory usage: 6.7+ KB\n"
     ]
    }
   ],
   "source": [
    "fnames.info()"
   ]
  },
  {
   "cell_type": "code",
   "execution_count": 227,
   "metadata": {},
   "outputs": [],
   "source": [
    "lid = list(set(games['item_id']))"
   ]
  },
  {
   "cell_type": "code",
   "execution_count": 228,
   "metadata": {
    "executionInfo": {
     "elapsed": 1597,
     "status": "ok",
     "timestamp": 1702515693601,
     "user": {
      "displayName": "Angel Prieto",
      "userId": "16374893148173809494"
     },
     "user_tz": 180
    },
    "id": "cHl-wVEB18iO"
   },
   "outputs": [],
   "source": [
    "lfid=list(set(fnames['item_id']))"
   ]
  },
  {
   "cell_type": "code",
   "execution_count": 229,
   "metadata": {
    "colab": {
     "base_uri": "https://localhost:8080/",
     "height": 273
    },
    "executionInfo": {
     "elapsed": 11,
     "status": "ok",
     "timestamp": 1702513741531,
     "user": {
      "displayName": "Angel Prieto",
      "userId": "16374893148173809494"
     },
     "user_tz": 180
    },
    "id": "bWYD18nAueke",
    "outputId": "aa13b325-206b-4bad-d61c-af185da36158"
   },
   "outputs": [
    {
     "data": {
      "text/html": [
       "<div>\n",
       "<style scoped>\n",
       "    .dataframe tbody tr th:only-of-type {\n",
       "        vertical-align: middle;\n",
       "    }\n",
       "\n",
       "    .dataframe tbody tr th {\n",
       "        vertical-align: top;\n",
       "    }\n",
       "\n",
       "    .dataframe thead th {\n",
       "        text-align: right;\n",
       "    }\n",
       "</style>\n",
       "<table border=\"1\" class=\"dataframe\">\n",
       "  <thead>\n",
       "    <tr style=\"text-align: right;\">\n",
       "      <th></th>\n",
       "      <th>item_id</th>\n",
       "      <th>2D</th>\n",
       "      <th>ACTION</th>\n",
       "      <th>ADVENTURE</th>\n",
       "      <th>ANIME</th>\n",
       "      <th>ARCADE</th>\n",
       "      <th>ATMOSPHERIC</th>\n",
       "      <th>CASUAL</th>\n",
       "      <th>CLASSIC</th>\n",
       "      <th>CO-OP</th>\n",
       "      <th>...</th>\n",
       "      <th>STORY RICH</th>\n",
       "      <th>STRATEGY</th>\n",
       "      <th>SURVIVAL</th>\n",
       "      <th>TACTICAL</th>\n",
       "      <th>THIRD PERSON</th>\n",
       "      <th>TURN-BASED</th>\n",
       "      <th>UTILITIES</th>\n",
       "      <th>VIOLENT</th>\n",
       "      <th>VISUAL NOVEL</th>\n",
       "      <th>ZOMBIES</th>\n",
       "    </tr>\n",
       "  </thead>\n",
       "  <tbody>\n",
       "    <tr>\n",
       "      <th>0</th>\n",
       "      <td>10</td>\n",
       "      <td>0</td>\n",
       "      <td>1</td>\n",
       "      <td>0</td>\n",
       "      <td>0</td>\n",
       "      <td>0</td>\n",
       "      <td>0</td>\n",
       "      <td>0</td>\n",
       "      <td>1</td>\n",
       "      <td>0</td>\n",
       "      <td>...</td>\n",
       "      <td>0</td>\n",
       "      <td>1</td>\n",
       "      <td>1</td>\n",
       "      <td>1</td>\n",
       "      <td>0</td>\n",
       "      <td>0</td>\n",
       "      <td>0</td>\n",
       "      <td>0</td>\n",
       "      <td>0</td>\n",
       "      <td>0</td>\n",
       "    </tr>\n",
       "    <tr>\n",
       "      <th>1</th>\n",
       "      <td>20</td>\n",
       "      <td>0</td>\n",
       "      <td>1</td>\n",
       "      <td>1</td>\n",
       "      <td>0</td>\n",
       "      <td>0</td>\n",
       "      <td>0</td>\n",
       "      <td>1</td>\n",
       "      <td>1</td>\n",
       "      <td>1</td>\n",
       "      <td>...</td>\n",
       "      <td>1</td>\n",
       "      <td>0</td>\n",
       "      <td>0</td>\n",
       "      <td>0</td>\n",
       "      <td>0</td>\n",
       "      <td>0</td>\n",
       "      <td>0</td>\n",
       "      <td>0</td>\n",
       "      <td>0</td>\n",
       "      <td>0</td>\n",
       "    </tr>\n",
       "    <tr>\n",
       "      <th>2</th>\n",
       "      <td>30</td>\n",
       "      <td>0</td>\n",
       "      <td>1</td>\n",
       "      <td>0</td>\n",
       "      <td>0</td>\n",
       "      <td>0</td>\n",
       "      <td>0</td>\n",
       "      <td>0</td>\n",
       "      <td>1</td>\n",
       "      <td>1</td>\n",
       "      <td>...</td>\n",
       "      <td>0</td>\n",
       "      <td>0</td>\n",
       "      <td>0</td>\n",
       "      <td>1</td>\n",
       "      <td>0</td>\n",
       "      <td>0</td>\n",
       "      <td>0</td>\n",
       "      <td>0</td>\n",
       "      <td>0</td>\n",
       "      <td>0</td>\n",
       "    </tr>\n",
       "    <tr>\n",
       "      <th>3</th>\n",
       "      <td>40</td>\n",
       "      <td>0</td>\n",
       "      <td>1</td>\n",
       "      <td>0</td>\n",
       "      <td>0</td>\n",
       "      <td>0</td>\n",
       "      <td>0</td>\n",
       "      <td>0</td>\n",
       "      <td>1</td>\n",
       "      <td>0</td>\n",
       "      <td>...</td>\n",
       "      <td>0</td>\n",
       "      <td>0</td>\n",
       "      <td>0</td>\n",
       "      <td>0</td>\n",
       "      <td>0</td>\n",
       "      <td>0</td>\n",
       "      <td>0</td>\n",
       "      <td>0</td>\n",
       "      <td>0</td>\n",
       "      <td>0</td>\n",
       "    </tr>\n",
       "    <tr>\n",
       "      <th>4</th>\n",
       "      <td>50</td>\n",
       "      <td>0</td>\n",
       "      <td>1</td>\n",
       "      <td>1</td>\n",
       "      <td>0</td>\n",
       "      <td>0</td>\n",
       "      <td>1</td>\n",
       "      <td>0</td>\n",
       "      <td>1</td>\n",
       "      <td>1</td>\n",
       "      <td>...</td>\n",
       "      <td>1</td>\n",
       "      <td>0</td>\n",
       "      <td>0</td>\n",
       "      <td>0</td>\n",
       "      <td>0</td>\n",
       "      <td>0</td>\n",
       "      <td>0</td>\n",
       "      <td>0</td>\n",
       "      <td>0</td>\n",
       "      <td>0</td>\n",
       "    </tr>\n",
       "  </tbody>\n",
       "</table>\n",
       "<p>5 rows × 62 columns</p>\n",
       "</div>"
      ],
      "text/plain": [
       "   item_id  2D  ACTION  ADVENTURE  ANIME  ARCADE  ATMOSPHERIC  CASUAL  \\\n",
       "0       10   0       1          0      0       0            0       0   \n",
       "1       20   0       1          1      0       0            0       1   \n",
       "2       30   0       1          0      0       0            0       0   \n",
       "3       40   0       1          0      0       0            0       0   \n",
       "4       50   0       1          1      0       0            1       0   \n",
       "\n",
       "   CLASSIC  CO-OP  ...  STORY RICH  STRATEGY  SURVIVAL  TACTICAL  \\\n",
       "0        1      0  ...           0         1         1         1   \n",
       "1        1      1  ...           1         0         0         0   \n",
       "2        1      1  ...           0         0         0         1   \n",
       "3        1      0  ...           0         0         0         0   \n",
       "4        1      1  ...           1         0         0         0   \n",
       "\n",
       "   THIRD PERSON  TURN-BASED  UTILITIES  VIOLENT  VISUAL NOVEL  ZOMBIES  \n",
       "0             0           0          0        0             0        0  \n",
       "1             0           0          0        0             0        0  \n",
       "2             0           0          0        0             0        0  \n",
       "3             0           0          0        0             0        0  \n",
       "4             0           0          0        0             0        0  \n",
       "\n",
       "[5 rows x 62 columns]"
      ]
     },
     "execution_count": 229,
     "metadata": {},
     "output_type": "execute_result"
    }
   ],
   "source": [
    "games.head()"
   ]
  },
  {
   "cell_type": "code",
   "execution_count": 230,
   "metadata": {
    "executionInfo": {
     "elapsed": 4,
     "status": "ok",
     "timestamp": 1702513800483,
     "user": {
      "displayName": "Angel Prieto",
      "userId": "16374893148173809494"
     },
     "user_tz": 180
    },
    "id": "_79KPgkFf0ve"
   },
   "outputs": [],
   "source": [
    "idg=440"
   ]
  },
  {
   "cell_type": "code",
   "execution_count": 231,
   "metadata": {},
   "outputs": [
    {
     "data": {
      "text/plain": [
       "Index(['item_id', '2D', 'ACTION', 'ADVENTURE', 'ANIME', 'ARCADE',\n",
       "       'ATMOSPHERIC', 'CASUAL', 'CLASSIC', 'CO-OP', 'COMEDY', 'CUTE',\n",
       "       'DESIGN & ILLUSTRATION', 'DIFFICULT', 'EARLY ACCESS', 'EXPLORATION',\n",
       "       'FPS', 'FAMILY FRIENDLY', 'FANTASY', 'FEMALE PROTAGONIST',\n",
       "       'FIRST-PERSON', 'FREE TO PLAY', 'FUNNY', 'GORE', 'GREAT SOUNDTRACK',\n",
       "       'HIDDEN OBJECT', 'HORROR', 'INDIE', 'LOCAL CO-OP', 'LOCAL MULTIPLAYER',\n",
       "       'MASSIVELY MULTIPLAYER', 'MOVIE', 'MULTIPLAYER', 'ONLINE CO-OP',\n",
       "       'OPEN WORLD', 'PIXEL GRAPHICS', 'PLATFORMER', 'POINT & CLICK', 'PUZZLE',\n",
       "       'RPG', 'RPGMAKER', 'RACING', 'RETRO', 'ROGUE-LIKE', 'SANDBOX', 'SCI-FI',\n",
       "       'SHOOT 'EM UP', 'SHOOTER', 'SIMULATION', 'SINGLEPLAYER', 'SPACE',\n",
       "       'SPORTS', 'STORY RICH', 'STRATEGY', 'SURVIVAL', 'TACTICAL',\n",
       "       'THIRD PERSON', 'TURN-BASED', 'UTILITIES', 'VIOLENT', 'VISUAL NOVEL',\n",
       "       'ZOMBIES'],\n",
       "      dtype='object')"
      ]
     },
     "execution_count": 231,
     "metadata": {},
     "output_type": "execute_result"
    }
   ],
   "source": [
    "games.columns"
   ]
  },
  {
   "cell_type": "code",
   "execution_count": 232,
   "metadata": {},
   "outputs": [],
   "source": [
    "gx=pd.DataFrame(games.loc[idg])"
   ]
  },
  {
   "cell_type": "code",
   "execution_count": 233,
   "metadata": {},
   "outputs": [
    {
     "data": {
      "text/html": [
       "<div>\n",
       "<style scoped>\n",
       "    .dataframe tbody tr th:only-of-type {\n",
       "        vertical-align: middle;\n",
       "    }\n",
       "\n",
       "    .dataframe tbody tr th {\n",
       "        vertical-align: top;\n",
       "    }\n",
       "\n",
       "    .dataframe thead th {\n",
       "        text-align: right;\n",
       "    }\n",
       "</style>\n",
       "<table border=\"1\" class=\"dataframe\">\n",
       "  <thead>\n",
       "    <tr style=\"text-align: right;\">\n",
       "      <th></th>\n",
       "      <th>440</th>\n",
       "    </tr>\n",
       "  </thead>\n",
       "  <tbody>\n",
       "    <tr>\n",
       "      <th>item_id</th>\n",
       "      <td>15910</td>\n",
       "    </tr>\n",
       "    <tr>\n",
       "      <th>2D</th>\n",
       "      <td>0</td>\n",
       "    </tr>\n",
       "    <tr>\n",
       "      <th>ACTION</th>\n",
       "      <td>0</td>\n",
       "    </tr>\n",
       "    <tr>\n",
       "      <th>ADVENTURE</th>\n",
       "      <td>0</td>\n",
       "    </tr>\n",
       "    <tr>\n",
       "      <th>ANIME</th>\n",
       "      <td>0</td>\n",
       "    </tr>\n",
       "    <tr>\n",
       "      <th>...</th>\n",
       "      <td>...</td>\n",
       "    </tr>\n",
       "    <tr>\n",
       "      <th>TURN-BASED</th>\n",
       "      <td>0</td>\n",
       "    </tr>\n",
       "    <tr>\n",
       "      <th>UTILITIES</th>\n",
       "      <td>0</td>\n",
       "    </tr>\n",
       "    <tr>\n",
       "      <th>VIOLENT</th>\n",
       "      <td>0</td>\n",
       "    </tr>\n",
       "    <tr>\n",
       "      <th>VISUAL NOVEL</th>\n",
       "      <td>0</td>\n",
       "    </tr>\n",
       "    <tr>\n",
       "      <th>ZOMBIES</th>\n",
       "      <td>0</td>\n",
       "    </tr>\n",
       "  </tbody>\n",
       "</table>\n",
       "<p>62 rows × 1 columns</p>\n",
       "</div>"
      ],
      "text/plain": [
       "                440\n",
       "item_id       15910\n",
       "2D                0\n",
       "ACTION            0\n",
       "ADVENTURE         0\n",
       "ANIME             0\n",
       "...             ...\n",
       "TURN-BASED        0\n",
       "UTILITIES         0\n",
       "VIOLENT           0\n",
       "VISUAL NOVEL      0\n",
       "ZOMBIES           0\n",
       "\n",
       "[62 rows x 1 columns]"
      ]
     },
     "execution_count": 233,
     "metadata": {},
     "output_type": "execute_result"
    }
   ],
   "source": [
    "gx"
   ]
  },
  {
   "cell_type": "code",
   "execution_count": 234,
   "metadata": {
    "executionInfo": {
     "elapsed": 460,
     "status": "ok",
     "timestamp": 1702513802729,
     "user": {
      "displayName": "Angel Prieto",
      "userId": "16374893148173809494"
     },
     "user_tz": 180
    },
    "id": "AuslnPn1f45D"
   },
   "outputs": [],
   "source": [
    "gx=pd.pivot_table(gx,columns=['item_id', '2D', 'ACTION', 'ADVENTURE', 'ANIME', 'ARCADE',\n",
    "       'ATMOSPHERIC', 'CASUAL', 'CLASSIC', 'CO-OP', 'COMEDY', 'CUTE',\n",
    "       'DESIGN & ILLUSTRATION', 'DIFFICULT', 'EARLY ACCESS', 'EXPLORATION',\n",
    "       'FPS', 'FAMILY FRIENDLY', 'FANTASY', 'FEMALE PROTAGONIST',\n",
    "       'FIRST-PERSON', 'FREE TO PLAY', 'FUNNY', 'GORE', 'GREAT SOUNDTRACK',\n",
    "       'HIDDEN OBJECT', 'HORROR', 'INDIE', 'LOCAL CO-OP', 'LOCAL MULTIPLAYER',\n",
    "       'MASSIVELY MULTIPLAYER', 'MOVIE', 'MULTIPLAYER', 'ONLINE CO-OP',\n",
    "       'OPEN WORLD', 'PIXEL GRAPHICS', 'PLATFORMER', 'POINT & CLICK', 'PUZZLE',\n",
    "       'RPG', 'RPGMAKER', 'RACING', 'RETRO', 'ROGUE-LIKE', 'SANDBOX', 'SCI-FI',\n",
    "       \"SHOOT 'EM UP\", 'SHOOTER', 'SIMULATION', 'SINGLEPLAYER', 'SPACE',\n",
    "       'SPORTS', 'STORY RICH', 'STRATEGY', 'SURVIVAL', 'TACTICAL',\n",
    "       'THIRD PERSON', 'TURN-BASED', 'UTILITIES', 'VIOLENT', 'VISUAL NOVEL',\n",
    "       'ZOMBIES'])"
   ]
  },
  {
   "cell_type": "code",
   "execution_count": 235,
   "metadata": {
    "colab": {
     "base_uri": "https://localhost:8080/",
     "height": 148
    },
    "executionInfo": {
     "elapsed": 291,
     "status": "ok",
     "timestamp": 1702513805901,
     "user": {
      "displayName": "Angel Prieto",
      "userId": "16374893148173809494"
     },
     "user_tz": 180
    },
    "id": "8TggvGRViiZg",
    "outputId": "85d7ebdd-82fa-4dbe-f5e8-d9b1f9538616"
   },
   "outputs": [
    {
     "data": {
      "text/html": [
       "<div>\n",
       "<style scoped>\n",
       "    .dataframe tbody tr th:only-of-type {\n",
       "        vertical-align: middle;\n",
       "    }\n",
       "\n",
       "    .dataframe tbody tr th {\n",
       "        vertical-align: top;\n",
       "    }\n",
       "\n",
       "    .dataframe thead th {\n",
       "        text-align: right;\n",
       "    }\n",
       "</style>\n",
       "<table border=\"1\" class=\"dataframe\">\n",
       "  <thead>\n",
       "    <tr style=\"text-align: right;\">\n",
       "      <th></th>\n",
       "      <th>2D</th>\n",
       "      <th>ACTION</th>\n",
       "      <th>ADVENTURE</th>\n",
       "      <th>ANIME</th>\n",
       "      <th>ARCADE</th>\n",
       "      <th>ATMOSPHERIC</th>\n",
       "      <th>CASUAL</th>\n",
       "      <th>CLASSIC</th>\n",
       "      <th>CO-OP</th>\n",
       "      <th>COMEDY</th>\n",
       "      <th>...</th>\n",
       "      <th>STRATEGY</th>\n",
       "      <th>SURVIVAL</th>\n",
       "      <th>TACTICAL</th>\n",
       "      <th>THIRD PERSON</th>\n",
       "      <th>TURN-BASED</th>\n",
       "      <th>UTILITIES</th>\n",
       "      <th>VIOLENT</th>\n",
       "      <th>VISUAL NOVEL</th>\n",
       "      <th>ZOMBIES</th>\n",
       "      <th>item_id</th>\n",
       "    </tr>\n",
       "  </thead>\n",
       "  <tbody>\n",
       "    <tr>\n",
       "      <th>440</th>\n",
       "      <td>0.0</td>\n",
       "      <td>0.0</td>\n",
       "      <td>0.0</td>\n",
       "      <td>0.0</td>\n",
       "      <td>0.0</td>\n",
       "      <td>0.0</td>\n",
       "      <td>1.0</td>\n",
       "      <td>0.0</td>\n",
       "      <td>0.0</td>\n",
       "      <td>0.0</td>\n",
       "      <td>...</td>\n",
       "      <td>0.0</td>\n",
       "      <td>0.0</td>\n",
       "      <td>0.0</td>\n",
       "      <td>0.0</td>\n",
       "      <td>0.0</td>\n",
       "      <td>0.0</td>\n",
       "      <td>0.0</td>\n",
       "      <td>0.0</td>\n",
       "      <td>0.0</td>\n",
       "      <td>15910.0</td>\n",
       "    </tr>\n",
       "  </tbody>\n",
       "</table>\n",
       "<p>1 rows × 62 columns</p>\n",
       "</div>"
      ],
      "text/plain": [
       "      2D  ACTION  ADVENTURE  ANIME  ARCADE  ATMOSPHERIC  CASUAL  CLASSIC  \\\n",
       "440  0.0     0.0        0.0    0.0     0.0          0.0     1.0      0.0   \n",
       "\n",
       "     CO-OP  COMEDY  ...  STRATEGY  SURVIVAL  TACTICAL  THIRD PERSON  \\\n",
       "440    0.0     0.0  ...       0.0       0.0       0.0           0.0   \n",
       "\n",
       "     TURN-BASED  UTILITIES  VIOLENT  VISUAL NOVEL  ZOMBIES  item_id  \n",
       "440         0.0        0.0      0.0           0.0      0.0  15910.0  \n",
       "\n",
       "[1 rows x 62 columns]"
      ]
     },
     "execution_count": 235,
     "metadata": {},
     "output_type": "execute_result"
    }
   ],
   "source": [
    "gx"
   ]
  },
  {
   "cell_type": "code",
   "execution_count": 236,
   "metadata": {},
   "outputs": [
    {
     "data": {
      "text/plain": [
       "Index(['2D', 'ACTION', 'ADVENTURE', 'ANIME', 'ARCADE', 'ATMOSPHERIC', 'CASUAL',\n",
       "       'CLASSIC', 'CO-OP', 'COMEDY', 'CUTE', 'DESIGN & ILLUSTRATION',\n",
       "       'DIFFICULT', 'EARLY ACCESS', 'EXPLORATION', 'FAMILY FRIENDLY',\n",
       "       'FANTASY', 'FEMALE PROTAGONIST', 'FIRST-PERSON', 'FPS', 'FREE TO PLAY',\n",
       "       'FUNNY', 'GORE', 'GREAT SOUNDTRACK', 'HIDDEN OBJECT', 'HORROR', 'INDIE',\n",
       "       'LOCAL CO-OP', 'LOCAL MULTIPLAYER', 'MASSIVELY MULTIPLAYER', 'MOVIE',\n",
       "       'MULTIPLAYER', 'ONLINE CO-OP', 'OPEN WORLD', 'PIXEL GRAPHICS',\n",
       "       'PLATFORMER', 'POINT & CLICK', 'PUZZLE', 'RACING', 'RETRO',\n",
       "       'ROGUE-LIKE', 'RPG', 'RPGMAKER', 'SANDBOX', 'SCI-FI', 'SHOOT 'EM UP',\n",
       "       'SHOOTER', 'SIMULATION', 'SINGLEPLAYER', 'SPACE', 'SPORTS',\n",
       "       'STORY RICH', 'STRATEGY', 'SURVIVAL', 'TACTICAL', 'THIRD PERSON',\n",
       "       'TURN-BASED', 'UTILITIES', 'VIOLENT', 'VISUAL NOVEL', 'ZOMBIES',\n",
       "       'item_id'],\n",
       "      dtype='object')"
      ]
     },
     "execution_count": 236,
     "metadata": {},
     "output_type": "execute_result"
    }
   ],
   "source": [
    "gx.columns"
   ]
  },
  {
   "cell_type": "code",
   "execution_count": 237,
   "metadata": {},
   "outputs": [],
   "source": [
    "gx.drop(columns=['item_id'], inplace=True)"
   ]
  },
  {
   "cell_type": "code",
   "execution_count": 238,
   "metadata": {},
   "outputs": [],
   "source": [
    "xgames=games[games['item_id']!=idg].copy()"
   ]
  },
  {
   "cell_type": "code",
   "execution_count": 239,
   "metadata": {},
   "outputs": [],
   "source": [
    "xgames=xgames.reset_index()"
   ]
  },
  {
   "cell_type": "code",
   "execution_count": 240,
   "metadata": {},
   "outputs": [],
   "source": [
    "xgames.drop(columns=['index'],inplace=True)\n",
    "ygames=xgames.copy()\n",
    "xgames.drop(columns=['item_id'],inplace=True)"
   ]
  },
  {
   "cell_type": "code",
   "execution_count": 241,
   "metadata": {
    "executionInfo": {
     "elapsed": 498,
     "status": "ok",
     "timestamp": 1702515486272,
     "user": {
      "displayName": "Angel Prieto",
      "userId": "16374893148173809494"
     },
     "user_tz": 180
    },
    "id": "rpOqEyEggqHk"
   },
   "outputs": [],
   "source": [
    "matriz = cosine_similarity(gx,xgames)"
   ]
  },
  {
   "cell_type": "code",
   "execution_count": 242,
   "metadata": {},
   "outputs": [],
   "source": [
    "matrix = pd.DataFrame(matriz)"
   ]
  },
  {
   "cell_type": "code",
   "execution_count": 243,
   "metadata": {
    "executionInfo": {
     "elapsed": 6,
     "status": "ok",
     "timestamp": 1702515486272,
     "user": {
      "displayName": "Angel Prieto",
      "userId": "16374893148173809494"
     },
     "user_tz": 180
    },
    "id": "O_11-8qEhs0Q"
   },
   "outputs": [],
   "source": [
    "matriz=matriz[0]"
   ]
  },
  {
   "cell_type": "code",
   "execution_count": 244,
   "metadata": {
    "colab": {
     "base_uri": "https://localhost:8080/"
    },
    "executionInfo": {
     "elapsed": 5,
     "status": "ok",
     "timestamp": 1702515486662,
     "user": {
      "displayName": "Angel Prieto",
      "userId": "16374893148173809494"
     },
     "user_tz": 180
    },
    "id": "2ABpWO9vxrzU",
    "outputId": "08b3150a-7bbf-4e67-f746-5b5798f21b53"
   },
   "outputs": [
    {
     "data": {
      "text/plain": [
       "29802"
      ]
     },
     "execution_count": 244,
     "metadata": {},
     "output_type": "execute_result"
    }
   ],
   "source": [
    "len(matriz)"
   ]
  },
  {
   "cell_type": "code",
   "execution_count": 245,
   "metadata": {
    "colab": {
     "base_uri": "https://localhost:8080/"
    },
    "executionInfo": {
     "elapsed": 3,
     "status": "ok",
     "timestamp": 1702515487028,
     "user": {
      "displayName": "Angel Prieto",
      "userId": "16374893148173809494"
     },
     "user_tz": 180
    },
    "id": "HEgJFvQGj9Vf",
    "outputId": "a2d36275-adb1-4462-a61c-30a2ec7c536a"
   },
   "outputs": [
    {
     "data": {
      "text/plain": [
       "numpy.ndarray"
      ]
     },
     "execution_count": 245,
     "metadata": {},
     "output_type": "execute_result"
    }
   ],
   "source": [
    "type(matriz)"
   ]
  },
  {
   "cell_type": "code",
   "execution_count": 246,
   "metadata": {
    "colab": {
     "base_uri": "https://localhost:8080/"
    },
    "executionInfo": {
     "elapsed": 6,
     "status": "ok",
     "timestamp": 1702515488736,
     "user": {
      "displayName": "Angel Prieto",
      "userId": "16374893148173809494"
     },
     "user_tz": 180
    },
    "id": "3XobNhvowGw1",
    "outputId": "4c7611b2-8a7e-4777-eef8-bb9660c6a83f"
   },
   "outputs": [
    {
     "data": {
      "text/plain": [
       "0.0"
      ]
     },
     "execution_count": 246,
     "metadata": {},
     "output_type": "execute_result"
    }
   ],
   "source": [
    "matriz[0]"
   ]
  },
  {
   "cell_type": "code",
   "execution_count": 247,
   "metadata": {
    "executionInfo": {
     "elapsed": 2,
     "status": "ok",
     "timestamp": 1702515490245,
     "user": {
      "displayName": "Angel Prieto",
      "userId": "16374893148173809494"
     },
     "user_tz": 180
    },
    "id": "br8-Uxjrk2EO"
   },
   "outputs": [],
   "source": [
    "reco=[]\n",
    "for i in range(5):\n",
    "  imax=np.argmax(matriz)\n",
    "  reco.append(imax)\n",
    "  matriz[imax]=0"
   ]
  },
  {
   "cell_type": "code",
   "execution_count": 248,
   "metadata": {
    "colab": {
     "base_uri": "https://localhost:8080/"
    },
    "executionInfo": {
     "elapsed": 5,
     "status": "ok",
     "timestamp": 1702515492069,
     "user": {
      "displayName": "Angel Prieto",
      "userId": "16374893148173809494"
     },
     "user_tz": 180
    },
    "id": "iGHgluzOy9z8",
    "outputId": "07a9bc2d-6d10-4040-ebd7-793a55585e03"
   },
   "outputs": [
    {
     "data": {
      "text/plain": [
       "[103, 106, 108, 109, 111]"
      ]
     },
     "execution_count": 248,
     "metadata": {},
     "output_type": "execute_result"
    }
   ],
   "source": [
    "reco"
   ]
  },
  {
   "cell_type": "code",
   "execution_count": 249,
   "metadata": {
    "colab": {
     "base_uri": "https://localhost:8080/"
    },
    "executionInfo": {
     "elapsed": 3,
     "status": "ok",
     "timestamp": 1702515493222,
     "user": {
      "displayName": "Angel Prieto",
      "userId": "16374893148173809494"
     },
     "user_tz": 180
    },
    "id": "HcD03cNTzZjw",
    "outputId": "37d44475-da7a-46cd-e286-d921990abcba"
   },
   "outputs": [
    {
     "data": {
      "text/plain": [
       "3360"
      ]
     },
     "execution_count": 249,
     "metadata": {},
     "output_type": "execute_result"
    }
   ],
   "source": [
    "games.iloc[104]['item_id']"
   ]
  },
  {
   "cell_type": "code",
   "execution_count": 250,
   "metadata": {
    "executionInfo": {
     "elapsed": 425,
     "status": "ok",
     "timestamp": 1702515499862,
     "user": {
      "displayName": "Angel Prieto",
      "userId": "16374893148173809494"
     },
     "user_tz": 180
    },
    "id": "u5Drfd3qzTQ_"
   },
   "outputs": [],
   "source": [
    "top_games=[]"
   ]
  },
  {
   "cell_type": "code",
   "execution_count": 251,
   "metadata": {
    "executionInfo": {
     "elapsed": 2,
     "status": "ok",
     "timestamp": 1702515501504,
     "user": {
      "displayName": "Angel Prieto",
      "userId": "16374893148173809494"
     },
     "user_tz": 180
    },
    "id": "xUfUncZ7y-0c"
   },
   "outputs": [],
   "source": [
    "for i in reco:\n",
    "  top_games.append(ygames.iloc[i]['item_id'])"
   ]
  },
  {
   "cell_type": "code",
   "execution_count": 252,
   "metadata": {
    "colab": {
     "base_uri": "https://localhost:8080/"
    },
    "executionInfo": {
     "elapsed": 6,
     "status": "ok",
     "timestamp": 1702515503100,
     "user": {
      "displayName": "Angel Prieto",
      "userId": "16374893148173809494"
     },
     "user_tz": 180
    },
    "id": "pd6Zk9uY1Bs3",
    "outputId": "86adccdc-cec6-4b29-e8ef-ff1a11294db4"
   },
   "outputs": [
    {
     "data": {
      "text/plain": [
       "[3360, 3400, 3420, 3430, 3450]"
      ]
     },
     "execution_count": 252,
     "metadata": {},
     "output_type": "execute_result"
    }
   ],
   "source": [
    "top_games"
   ]
  },
  {
   "cell_type": "code",
   "execution_count": 253,
   "metadata": {},
   "outputs": [
    {
     "name": "stdout",
     "output_type": "stream",
     "text": [
      "0 3360\n",
      "1 3400\n",
      "2 3420\n",
      "3 3430\n",
      "4 3450\n"
     ]
    }
   ],
   "source": [
    "for i,g in enumerate(top_games):\n",
    "    print(i,g)"
   ]
  },
  {
   "cell_type": "code",
   "execution_count": 254,
   "metadata": {},
   "outputs": [
    {
     "data": {
      "text/plain": [
       "True"
      ]
     },
     "execution_count": 254,
     "metadata": {},
     "output_type": "execute_result"
    }
   ],
   "source": [
    "440 in lid"
   ]
  },
  {
   "cell_type": "code",
   "execution_count": 255,
   "metadata": {},
   "outputs": [
    {
     "data": {
      "text/plain": [
       "'Team Fortress 2'"
      ]
     },
     "execution_count": 255,
     "metadata": {},
     "output_type": "execute_result"
    }
   ],
   "source": [
    "gnames[gnames['item_id'] == 440]['title'].iloc[0]"
   ]
  },
  {
   "cell_type": "code",
   "execution_count": 256,
   "metadata": {},
   "outputs": [
    {
     "data": {
      "text/plain": [
       "'Deadbreed®'"
      ]
     },
     "execution_count": 256,
     "metadata": {},
     "output_type": "execute_result"
    }
   ],
   "source": [
    "fnames[fnames['item_id'] == 277950]['item_name'].iloc[0]"
   ]
  },
  {
   "cell_type": "code",
   "execution_count": 257,
   "metadata": {
    "executionInfo": {
     "elapsed": 423,
     "status": "ok",
     "timestamp": 1702515705865,
     "user": {
      "displayName": "Angel Prieto",
      "userId": "16374893148173809494"
     },
     "user_tz": 180
    },
    "id": "gCALNBn6zrSC"
   },
   "outputs": [],
   "source": [
    "for i,g in enumerate(top_games):\n",
    "      if g in lid:\n",
    "        top_games[i]=gnames[gnames['item_id'] == top_games[i]]['title'].iloc[0]\n",
    "      else:\n",
    "        top_games[i]=fnames[fnames['item_id'] == top_games[i]]['item_name'].iloc[0]"
   ]
  },
  {
   "cell_type": "code",
   "execution_count": 258,
   "metadata": {
    "colab": {
     "base_uri": "https://localhost:8080/"
    },
    "executionInfo": {
     "elapsed": 6,
     "status": "ok",
     "timestamp": 1702515712150,
     "user": {
      "displayName": "Angel Prieto",
      "userId": "16374893148173809494"
     },
     "user_tz": 180
    },
    "id": "58wZMify1PVM",
    "outputId": "495fe95c-921e-4e5d-b4d6-87924ec54580"
   },
   "outputs": [
    {
     "data": {
      "text/plain": [
       "['Big Money! Deluxe',\n",
       " 'Hammer Heads Deluxe',\n",
       " 'Iggle Pop Deluxe',\n",
       " 'Pizza Frenzy Deluxe',\n",
       " 'Typer Shark! Deluxe']"
      ]
     },
     "execution_count": 258,
     "metadata": {},
     "output_type": "execute_result"
    }
   ],
   "source": [
    "top_games"
   ]
  },
  {
   "cell_type": "code",
   "execution_count": 261,
   "metadata": {
    "id": "3SPbKhJd2B18"
   },
   "outputs": [],
   "source": [
    "def recomendacion_juego(idg):\n",
    "    if (idg in lid) or (idg in lfid):\n",
    "        gx=pd.DataFrame(games.loc[idg])\n",
    "        gx=pd.pivot_table(gx,columns=['item_id', '2D', 'ACTION', 'ADVENTURE', 'ANIME', 'ARCADE',\n",
    "       'ATMOSPHERIC', 'CASUAL', 'CLASSIC', 'CO-OP', 'COMEDY', 'CUTE',\n",
    "       'DESIGN & ILLUSTRATION', 'DIFFICULT', 'EARLY ACCESS', 'EXPLORATION',\n",
    "       'FPS', 'FAMILY FRIENDLY', 'FANTASY', 'FEMALE PROTAGONIST',\n",
    "       'FIRST-PERSON', 'FREE TO PLAY', 'FUNNY', 'GORE', 'GREAT SOUNDTRACK',\n",
    "       'HIDDEN OBJECT', 'HORROR', 'INDIE', 'LOCAL CO-OP', 'LOCAL MULTIPLAYER',\n",
    "       'MASSIVELY MULTIPLAYER', 'MOVIE', 'MULTIPLAYER', 'ONLINE CO-OP',\n",
    "       'OPEN WORLD', 'PIXEL GRAPHICS', 'PLATFORMER', 'POINT & CLICK', 'PUZZLE',\n",
    "       'RPG', 'RPGMAKER', 'RACING', 'RETRO', 'ROGUE-LIKE', 'SANDBOX', 'SCI-FI',\n",
    "       \"SHOOT 'EM UP\", 'SHOOTER', 'SIMULATION', 'SINGLEPLAYER', 'SPACE',\n",
    "       'SPORTS', 'STORY RICH', 'STRATEGY', 'SURVIVAL', 'TACTICAL',\n",
    "       'THIRD PERSON', 'TURN-BASED', 'UTILITIES', 'VIOLENT', 'VISUAL NOVEL',\n",
    "       'ZOMBIES'])\n",
    "        gx.drop(columns=['item_id'], inplace=True)\n",
    "        xgames=games[games['item_id']!=idg].copy()\n",
    "        xgames=xgames.reset_index()\n",
    "        xgames.drop(columns=['index'],inplace=True)\n",
    "        ygames=xgames.copy()\n",
    "        xgames.drop(columns=['item_id'],inplace=True)\n",
    "        matriz = cosine_similarity(gx,xgames)\n",
    "        matrix = pd.DataFrame(matriz)\n",
    "        matriz=matriz[0]\n",
    "        reco=[]\n",
    "        for i in range(5):\n",
    "          imax=np.argmax(matriz)\n",
    "          reco.append(imax)\n",
    "          matriz[imax]=0\n",
    "        top_games = []\n",
    "        for i in reco:\n",
    "          top_games.append(ygames.iloc[i]['item_id'])\n",
    "        for i,g in enumerate(top_games):\n",
    "          if g in lid:\n",
    "            top_games[i]=gnames[gnames['item_id'] == top_games[i]]['title'].iloc[0]\n",
    "          else:\n",
    "            top_games[i]=fnames[fnames['item_id'] == top_games[i]]['item_name'].iloc[0]\n",
    "        return {\"juegos recomendados\":\n",
    "                 [{\"Puesto 1\":top_games[0]},\n",
    "                  {\"Puesto 2\":top_games[1]},\n",
    "                  {\"Puesto 3\":top_games[2]},\n",
    "                  {\"Puesto 4\":top_games[3]},\n",
    "                  {\"Puesto 5\":top_games[4]}]}\n",
    "    else:\n",
    "        return {\"id de juego no se encuentra en la base de datos \":idg}"
   ]
  },
  {
   "cell_type": "code",
   "execution_count": 262,
   "metadata": {},
   "outputs": [
    {
     "data": {
      "text/plain": [
       "{'juegos recomendados': [{'Puesto 1': 'Big Money! Deluxe'},\n",
       "  {'Puesto 2': 'Hammer Heads Deluxe'},\n",
       "  {'Puesto 3': 'Iggle Pop Deluxe'},\n",
       "  {'Puesto 4': 'Pizza Frenzy Deluxe'},\n",
       "  {'Puesto 5': 'Typer Shark! Deluxe'}]}"
      ]
     },
     "execution_count": 262,
     "metadata": {},
     "output_type": "execute_result"
    }
   ],
   "source": [
    "recomendacion_juego(440)"
   ]
  },
  {
   "cell_type": "code",
   "execution_count": 265,
   "metadata": {},
   "outputs": [
    {
     "name": "stdout",
     "output_type": "stream",
     "text": [
      "Uso total de la memoria: games 3.04 MB\n",
      "Uso total de la memoria: games 0.04 MB\n",
      "Uso total de la memoria: games 1.73 MB\n",
      "Uso total de la memoria: games 1.85 MB\n",
      "Uso total de la memoria: 6.665305137634277 MB\n"
     ]
    }
   ],
   "source": [
    "mgnames = gnames.memory_usage(deep=True)\n",
    "mfnames = fnames.memory_usage(deep=True)\n",
    "mxgames = xgames.memory_usage(deep=True)\n",
    "mygames = ygames.memory_usage(deep=True)\n",
    "\n",
    "mgnames = mgnames.sum() / (1024 ** 2)\n",
    "mfnames = mfnames.sum() / (1024 ** 2)\n",
    "mxgames = mxgames.sum() / (1024 ** 2)\n",
    "mygames = mygames.sum() / (1024 ** 2)\n",
    "\n",
    "print(f\"Uso total de la memoria: games {mgnames:.2f} MB\")\n",
    "print(f\"Uso total de la memoria: games {mfnames:.2f} MB\")\n",
    "print(f\"Uso total de la memoria: games {mxgames:.2f} MB\")\n",
    "print(f\"Uso total de la memoria: games {mygames:.2f} MB\")\n",
    "print(f\"Uso total de la memoria: {mgnames+mfnames+mxgames+mygames} MB\")"
   ]
  },
  {
   "cell_type": "code",
   "execution_count": null,
   "metadata": {},
   "outputs": [],
   "source": []
  }
 ],
 "metadata": {
  "colab": {
   "authorship_tag": "ABX9TyMGKAChPynRmtd7P+LOVDw0",
   "provenance": []
  },
  "kernelspec": {
   "display_name": "Python 3 (ipykernel)",
   "language": "python",
   "name": "python3"
  },
  "language_info": {
   "codemirror_mode": {
    "name": "ipython",
    "version": 3
   },
   "file_extension": ".py",
   "mimetype": "text/x-python",
   "name": "python",
   "nbconvert_exporter": "python",
   "pygments_lexer": "ipython3",
   "version": "3.10.0rc2"
  }
 },
 "nbformat": 4,
 "nbformat_minor": 4
}

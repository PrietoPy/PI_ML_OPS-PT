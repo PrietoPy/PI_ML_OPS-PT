{
 "cells": [
  {
   "cell_type": "code",
   "execution_count": 1,
   "metadata": {
    "executionInfo": {
     "elapsed": 320,
     "status": "ok",
     "timestamp": 1702513373262,
     "user": {
      "displayName": "Angel Prieto",
      "userId": "16374893148173809494"
     },
     "user_tz": 180
    },
    "id": "9z4OkzQeeAl1"
   },
   "outputs": [],
   "source": [
    "import pandas as pd\n",
    "import numpy as np\n",
    "from sklearn.metrics.pairwise import cosine_similarity"
   ]
  },
  {
   "cell_type": "code",
   "execution_count": 4,
   "metadata": {
    "executionInfo": {
     "elapsed": 5,
     "status": "ok",
     "timestamp": 1702513379199,
     "user": {
      "displayName": "Angel Prieto",
      "userId": "16374893148173809494"
     },
     "user_tz": 180
    },
    "id": "36VDYgFdeoVV"
   },
   "outputs": [],
   "source": [
    "games = pd.read_parquet('../Datasets/gamesv5.parquet')"
   ]
  },
  {
   "cell_type": "code",
   "execution_count": 40,
   "metadata": {},
   "outputs": [],
   "source": [
    "rnames = pd.read_csv('../Datasets/gnames.csv')"
   ]
  },
  {
   "cell_type": "code",
   "execution_count": 7,
   "metadata": {
    "executionInfo": {
     "elapsed": 617,
     "status": "ok",
     "timestamp": 1702515436210,
     "user": {
      "displayName": "Angel Prieto",
      "userId": "16374893148173809494"
     },
     "user_tz": 180
    },
    "id": "ROhZPQlK0HOQ"
   },
   "outputs": [],
   "source": [
    "gnames = pd.read_parquet('../Datasets/gnamesv2.parquet')"
   ]
  },
  {
   "cell_type": "code",
   "execution_count": 41,
   "metadata": {},
   "outputs": [
    {
     "data": {
      "text/html": [
       "<div>\n",
       "<style scoped>\n",
       "    .dataframe tbody tr th:only-of-type {\n",
       "        vertical-align: middle;\n",
       "    }\n",
       "\n",
       "    .dataframe tbody tr th {\n",
       "        vertical-align: top;\n",
       "    }\n",
       "\n",
       "    .dataframe thead th {\n",
       "        text-align: right;\n",
       "    }\n",
       "</style>\n",
       "<table border=\"1\" class=\"dataframe\">\n",
       "  <thead>\n",
       "    <tr style=\"text-align: right;\">\n",
       "      <th></th>\n",
       "      <th>item_id</th>\n",
       "      <th>item_name</th>\n",
       "    </tr>\n",
       "  </thead>\n",
       "  <tbody>\n",
       "    <tr>\n",
       "      <th>0</th>\n",
       "      <td>10</td>\n",
       "      <td>Counter-Strike</td>\n",
       "    </tr>\n",
       "    <tr>\n",
       "      <th>1</th>\n",
       "      <td>20</td>\n",
       "      <td>Team Fortress Classic</td>\n",
       "    </tr>\n",
       "    <tr>\n",
       "      <th>2</th>\n",
       "      <td>30</td>\n",
       "      <td>Day of Defeat</td>\n",
       "    </tr>\n",
       "    <tr>\n",
       "      <th>3</th>\n",
       "      <td>40</td>\n",
       "      <td>Deathmatch Classic</td>\n",
       "    </tr>\n",
       "    <tr>\n",
       "      <th>4</th>\n",
       "      <td>50</td>\n",
       "      <td>Half-Life: Opposing Force</td>\n",
       "    </tr>\n",
       "  </tbody>\n",
       "</table>\n",
       "</div>"
      ],
      "text/plain": [
       "   item_id                  item_name\n",
       "0       10             Counter-Strike\n",
       "1       20      Team Fortress Classic\n",
       "2       30              Day of Defeat\n",
       "3       40         Deathmatch Classic\n",
       "4       50  Half-Life: Opposing Force"
      ]
     },
     "execution_count": 41,
     "metadata": {},
     "output_type": "execute_result"
    }
   ],
   "source": [
    "rnames.head()"
   ]
  },
  {
   "cell_type": "code",
   "execution_count": 42,
   "metadata": {},
   "outputs": [
    {
     "name": "stdout",
     "output_type": "stream",
     "text": [
      "<class 'pandas.core.frame.DataFrame'>\n",
      "RangeIndex: 10978 entries, 0 to 10977\n",
      "Data columns (total 2 columns):\n",
      " #   Column     Non-Null Count  Dtype \n",
      "---  ------     --------------  ----- \n",
      " 0   item_id    10978 non-null  int64 \n",
      " 1   item_name  10978 non-null  object\n",
      "dtypes: int64(1), object(1)\n",
      "memory usage: 171.7+ KB\n"
     ]
    }
   ],
   "source": [
    "rnames.info()"
   ]
  },
  {
   "cell_type": "code",
   "execution_count": 43,
   "metadata": {},
   "outputs": [],
   "source": [
    "rnames.drop_duplicates('item_id', inplace=True)"
   ]
  },
  {
   "cell_type": "code",
   "execution_count": 45,
   "metadata": {},
   "outputs": [
    {
     "name": "stdout",
     "output_type": "stream",
     "text": [
      "<class 'pandas.core.frame.DataFrame'>\n",
      "RangeIndex: 10978 entries, 0 to 10977\n",
      "Data columns (total 2 columns):\n",
      " #   Column     Non-Null Count  Dtype \n",
      "---  ------     --------------  ----- \n",
      " 0   item_id    10978 non-null  int64 \n",
      " 1   item_name  10978 non-null  object\n",
      "dtypes: int64(1), object(1)\n",
      "memory usage: 171.7+ KB\n"
     ]
    }
   ],
   "source": [
    "rnames.info()"
   ]
  },
  {
   "cell_type": "code",
   "execution_count": 61,
   "metadata": {},
   "outputs": [],
   "source": [
    "iids = list(set(reviews['item_id']))"
   ]
  },
  {
   "cell_type": "code",
   "execution_count": 47,
   "metadata": {
    "executionInfo": {
     "elapsed": 1597,
     "status": "ok",
     "timestamp": 1702515693601,
     "user": {
      "displayName": "Angel Prieto",
      "userId": "16374893148173809494"
     },
     "user_tz": 180
    },
    "id": "cHl-wVEB18iO"
   },
   "outputs": [],
   "source": [
    "ign=list(set(gnames['item_id']))"
   ]
  },
  {
   "cell_type": "code",
   "execution_count": 15,
   "metadata": {
    "executionInfo": {
     "elapsed": 761,
     "status": "ok",
     "timestamp": 1702513386442,
     "user": {
      "displayName": "Angel Prieto",
      "userId": "16374893148173809494"
     },
     "user_tz": 180
    },
    "id": "0s7NaBqyfQy9"
   },
   "outputs": [],
   "source": [
    "xgames = games.groupby('item_id')[['2D', 'ACTION', 'ADVENTURE', 'ANIME', 'ARCADE',\n",
    "           'ATMOSPHERIC', 'CASUAL', 'CLASSIC', 'CO-OP', 'COMEDY', 'CUTE',\n",
    "           'DESIGN & ILLUSTRATION', 'DIFFICULT', 'EARLY ACCESS', 'EXPLORATION',\n",
    "           'FPS', 'FAMILY FRIENDLY', 'FANTASY', 'FEMALE PROTAGONIST',\n",
    "           'FIRST-PERSON', 'FREE TO PLAY', 'FUNNY', 'GORE', 'GREAT SOUNDTRACK',\n",
    "           'HIDDEN OBJECT', 'HORROR', 'INDIE', 'LOCAL CO-OP', 'LOCAL MULTIPLAYER',\n",
    "           'MASSIVELY MULTIPLAYER', 'MOVIE', 'MULTIPLAYER', 'ONLINE CO-OP',\n",
    "           'OPEN WORLD', 'PIXEL GRAPHICS', 'PLATFORMER', 'POINT & CLICK', 'PUZZLE',\n",
    "           'RPG', 'RPGMAKER', 'RACING', 'RETRO', 'ROGUE-LIKE', 'SANDBOX', 'SCI-FI',\n",
    "           \"SHOOT 'EM UP\", 'SHOOTER', 'SIMULATION', 'SINGLEPLAYER', 'SPACE',\n",
    "           'SPORTS', 'STORY RICH', 'STRATEGY', 'SURVIVAL', 'TACTICAL',\n",
    "           'THIRD PERSON', 'TURN-BASED', 'UTILITIES', 'VIOLENT', 'VISUAL NOVEL',\n",
    "           'ZOMBIES']].sum()"
   ]
  },
  {
   "cell_type": "code",
   "execution_count": 16,
   "metadata": {
    "colab": {
     "base_uri": "https://localhost:8080/",
     "height": 304
    },
    "executionInfo": {
     "elapsed": 350,
     "status": "ok",
     "timestamp": 1702513393678,
     "user": {
      "displayName": "Angel Prieto",
      "userId": "16374893148173809494"
     },
     "user_tz": 180
    },
    "id": "t3dHCq9cfuXL",
    "outputId": "989a382c-17c7-4b3b-e8a5-bd588546abca"
   },
   "outputs": [
    {
     "data": {
      "text/html": [
       "<div>\n",
       "<style scoped>\n",
       "    .dataframe tbody tr th:only-of-type {\n",
       "        vertical-align: middle;\n",
       "    }\n",
       "\n",
       "    .dataframe tbody tr th {\n",
       "        vertical-align: top;\n",
       "    }\n",
       "\n",
       "    .dataframe thead th {\n",
       "        text-align: right;\n",
       "    }\n",
       "</style>\n",
       "<table border=\"1\" class=\"dataframe\">\n",
       "  <thead>\n",
       "    <tr style=\"text-align: right;\">\n",
       "      <th></th>\n",
       "      <th>2D</th>\n",
       "      <th>ACTION</th>\n",
       "      <th>ADVENTURE</th>\n",
       "      <th>ANIME</th>\n",
       "      <th>ARCADE</th>\n",
       "      <th>ATMOSPHERIC</th>\n",
       "      <th>CASUAL</th>\n",
       "      <th>CLASSIC</th>\n",
       "      <th>CO-OP</th>\n",
       "      <th>COMEDY</th>\n",
       "      <th>...</th>\n",
       "      <th>STORY RICH</th>\n",
       "      <th>STRATEGY</th>\n",
       "      <th>SURVIVAL</th>\n",
       "      <th>TACTICAL</th>\n",
       "      <th>THIRD PERSON</th>\n",
       "      <th>TURN-BASED</th>\n",
       "      <th>UTILITIES</th>\n",
       "      <th>VIOLENT</th>\n",
       "      <th>VISUAL NOVEL</th>\n",
       "      <th>ZOMBIES</th>\n",
       "    </tr>\n",
       "    <tr>\n",
       "      <th>item_id</th>\n",
       "      <th></th>\n",
       "      <th></th>\n",
       "      <th></th>\n",
       "      <th></th>\n",
       "      <th></th>\n",
       "      <th></th>\n",
       "      <th></th>\n",
       "      <th></th>\n",
       "      <th></th>\n",
       "      <th></th>\n",
       "      <th></th>\n",
       "      <th></th>\n",
       "      <th></th>\n",
       "      <th></th>\n",
       "      <th></th>\n",
       "      <th></th>\n",
       "      <th></th>\n",
       "      <th></th>\n",
       "      <th></th>\n",
       "      <th></th>\n",
       "      <th></th>\n",
       "    </tr>\n",
       "  </thead>\n",
       "  <tbody>\n",
       "    <tr>\n",
       "      <th>10</th>\n",
       "      <td>0</td>\n",
       "      <td>1</td>\n",
       "      <td>0</td>\n",
       "      <td>0</td>\n",
       "      <td>0</td>\n",
       "      <td>0</td>\n",
       "      <td>0</td>\n",
       "      <td>1</td>\n",
       "      <td>0</td>\n",
       "      <td>0</td>\n",
       "      <td>...</td>\n",
       "      <td>0</td>\n",
       "      <td>1</td>\n",
       "      <td>1</td>\n",
       "      <td>1</td>\n",
       "      <td>0</td>\n",
       "      <td>0</td>\n",
       "      <td>0</td>\n",
       "      <td>0</td>\n",
       "      <td>0</td>\n",
       "      <td>0</td>\n",
       "    </tr>\n",
       "    <tr>\n",
       "      <th>20</th>\n",
       "      <td>0</td>\n",
       "      <td>1</td>\n",
       "      <td>1</td>\n",
       "      <td>0</td>\n",
       "      <td>0</td>\n",
       "      <td>0</td>\n",
       "      <td>1</td>\n",
       "      <td>1</td>\n",
       "      <td>1</td>\n",
       "      <td>0</td>\n",
       "      <td>...</td>\n",
       "      <td>1</td>\n",
       "      <td>0</td>\n",
       "      <td>0</td>\n",
       "      <td>0</td>\n",
       "      <td>0</td>\n",
       "      <td>0</td>\n",
       "      <td>0</td>\n",
       "      <td>0</td>\n",
       "      <td>0</td>\n",
       "      <td>0</td>\n",
       "    </tr>\n",
       "    <tr>\n",
       "      <th>30</th>\n",
       "      <td>0</td>\n",
       "      <td>1</td>\n",
       "      <td>0</td>\n",
       "      <td>0</td>\n",
       "      <td>0</td>\n",
       "      <td>0</td>\n",
       "      <td>0</td>\n",
       "      <td>1</td>\n",
       "      <td>1</td>\n",
       "      <td>0</td>\n",
       "      <td>...</td>\n",
       "      <td>0</td>\n",
       "      <td>0</td>\n",
       "      <td>0</td>\n",
       "      <td>1</td>\n",
       "      <td>0</td>\n",
       "      <td>0</td>\n",
       "      <td>0</td>\n",
       "      <td>0</td>\n",
       "      <td>0</td>\n",
       "      <td>0</td>\n",
       "    </tr>\n",
       "    <tr>\n",
       "      <th>40</th>\n",
       "      <td>0</td>\n",
       "      <td>1</td>\n",
       "      <td>0</td>\n",
       "      <td>0</td>\n",
       "      <td>0</td>\n",
       "      <td>0</td>\n",
       "      <td>0</td>\n",
       "      <td>1</td>\n",
       "      <td>0</td>\n",
       "      <td>0</td>\n",
       "      <td>...</td>\n",
       "      <td>0</td>\n",
       "      <td>0</td>\n",
       "      <td>0</td>\n",
       "      <td>0</td>\n",
       "      <td>0</td>\n",
       "      <td>0</td>\n",
       "      <td>0</td>\n",
       "      <td>0</td>\n",
       "      <td>0</td>\n",
       "      <td>0</td>\n",
       "    </tr>\n",
       "    <tr>\n",
       "      <th>50</th>\n",
       "      <td>0</td>\n",
       "      <td>1</td>\n",
       "      <td>1</td>\n",
       "      <td>0</td>\n",
       "      <td>0</td>\n",
       "      <td>1</td>\n",
       "      <td>0</td>\n",
       "      <td>1</td>\n",
       "      <td>1</td>\n",
       "      <td>0</td>\n",
       "      <td>...</td>\n",
       "      <td>1</td>\n",
       "      <td>0</td>\n",
       "      <td>0</td>\n",
       "      <td>0</td>\n",
       "      <td>0</td>\n",
       "      <td>0</td>\n",
       "      <td>0</td>\n",
       "      <td>0</td>\n",
       "      <td>0</td>\n",
       "      <td>0</td>\n",
       "    </tr>\n",
       "  </tbody>\n",
       "</table>\n",
       "<p>5 rows × 61 columns</p>\n",
       "</div>"
      ],
      "text/plain": [
       "         2D  ACTION  ADVENTURE  ANIME  ARCADE  ATMOSPHERIC  CASUAL  CLASSIC  \\\n",
       "item_id                                                                       \n",
       "10        0       1          0      0       0            0       0        1   \n",
       "20        0       1          1      0       0            0       1        1   \n",
       "30        0       1          0      0       0            0       0        1   \n",
       "40        0       1          0      0       0            0       0        1   \n",
       "50        0       1          1      0       0            1       0        1   \n",
       "\n",
       "         CO-OP  COMEDY  ...  STORY RICH  STRATEGY  SURVIVAL  TACTICAL  \\\n",
       "item_id                 ...                                             \n",
       "10           0       0  ...           0         1         1         1   \n",
       "20           1       0  ...           1         0         0         0   \n",
       "30           1       0  ...           0         0         0         1   \n",
       "40           0       0  ...           0         0         0         0   \n",
       "50           1       0  ...           1         0         0         0   \n",
       "\n",
       "         THIRD PERSON  TURN-BASED  UTILITIES  VIOLENT  VISUAL NOVEL  ZOMBIES  \n",
       "item_id                                                                       \n",
       "10                  0           0          0        0             0        0  \n",
       "20                  0           0          0        0             0        0  \n",
       "30                  0           0          0        0             0        0  \n",
       "40                  0           0          0        0             0        0  \n",
       "50                  0           0          0        0             0        0  \n",
       "\n",
       "[5 rows x 61 columns]"
      ]
     },
     "execution_count": 16,
     "metadata": {},
     "output_type": "execute_result"
    }
   ],
   "source": [
    "xgames.head()"
   ]
  },
  {
   "cell_type": "code",
   "execution_count": 17,
   "metadata": {
    "executionInfo": {
     "elapsed": 7,
     "status": "ok",
     "timestamp": 1702513726778,
     "user": {
      "displayName": "Angel Prieto",
      "userId": "16374893148173809494"
     },
     "user_tz": 180
    },
    "id": "r_m6EqMngR6O"
   },
   "outputs": [],
   "source": [
    "games = xgames.reset_index()"
   ]
  },
  {
   "cell_type": "code",
   "execution_count": 18,
   "metadata": {
    "colab": {
     "base_uri": "https://localhost:8080/",
     "height": 273
    },
    "executionInfo": {
     "elapsed": 11,
     "status": "ok",
     "timestamp": 1702513741531,
     "user": {
      "displayName": "Angel Prieto",
      "userId": "16374893148173809494"
     },
     "user_tz": 180
    },
    "id": "bWYD18nAueke",
    "outputId": "aa13b325-206b-4bad-d61c-af185da36158"
   },
   "outputs": [
    {
     "data": {
      "text/html": [
       "<div>\n",
       "<style scoped>\n",
       "    .dataframe tbody tr th:only-of-type {\n",
       "        vertical-align: middle;\n",
       "    }\n",
       "\n",
       "    .dataframe tbody tr th {\n",
       "        vertical-align: top;\n",
       "    }\n",
       "\n",
       "    .dataframe thead th {\n",
       "        text-align: right;\n",
       "    }\n",
       "</style>\n",
       "<table border=\"1\" class=\"dataframe\">\n",
       "  <thead>\n",
       "    <tr style=\"text-align: right;\">\n",
       "      <th></th>\n",
       "      <th>item_id</th>\n",
       "      <th>2D</th>\n",
       "      <th>ACTION</th>\n",
       "      <th>ADVENTURE</th>\n",
       "      <th>ANIME</th>\n",
       "      <th>ARCADE</th>\n",
       "      <th>ATMOSPHERIC</th>\n",
       "      <th>CASUAL</th>\n",
       "      <th>CLASSIC</th>\n",
       "      <th>CO-OP</th>\n",
       "      <th>...</th>\n",
       "      <th>STORY RICH</th>\n",
       "      <th>STRATEGY</th>\n",
       "      <th>SURVIVAL</th>\n",
       "      <th>TACTICAL</th>\n",
       "      <th>THIRD PERSON</th>\n",
       "      <th>TURN-BASED</th>\n",
       "      <th>UTILITIES</th>\n",
       "      <th>VIOLENT</th>\n",
       "      <th>VISUAL NOVEL</th>\n",
       "      <th>ZOMBIES</th>\n",
       "    </tr>\n",
       "  </thead>\n",
       "  <tbody>\n",
       "    <tr>\n",
       "      <th>0</th>\n",
       "      <td>10</td>\n",
       "      <td>0</td>\n",
       "      <td>1</td>\n",
       "      <td>0</td>\n",
       "      <td>0</td>\n",
       "      <td>0</td>\n",
       "      <td>0</td>\n",
       "      <td>0</td>\n",
       "      <td>1</td>\n",
       "      <td>0</td>\n",
       "      <td>...</td>\n",
       "      <td>0</td>\n",
       "      <td>1</td>\n",
       "      <td>1</td>\n",
       "      <td>1</td>\n",
       "      <td>0</td>\n",
       "      <td>0</td>\n",
       "      <td>0</td>\n",
       "      <td>0</td>\n",
       "      <td>0</td>\n",
       "      <td>0</td>\n",
       "    </tr>\n",
       "    <tr>\n",
       "      <th>1</th>\n",
       "      <td>20</td>\n",
       "      <td>0</td>\n",
       "      <td>1</td>\n",
       "      <td>1</td>\n",
       "      <td>0</td>\n",
       "      <td>0</td>\n",
       "      <td>0</td>\n",
       "      <td>1</td>\n",
       "      <td>1</td>\n",
       "      <td>1</td>\n",
       "      <td>...</td>\n",
       "      <td>1</td>\n",
       "      <td>0</td>\n",
       "      <td>0</td>\n",
       "      <td>0</td>\n",
       "      <td>0</td>\n",
       "      <td>0</td>\n",
       "      <td>0</td>\n",
       "      <td>0</td>\n",
       "      <td>0</td>\n",
       "      <td>0</td>\n",
       "    </tr>\n",
       "    <tr>\n",
       "      <th>2</th>\n",
       "      <td>30</td>\n",
       "      <td>0</td>\n",
       "      <td>1</td>\n",
       "      <td>0</td>\n",
       "      <td>0</td>\n",
       "      <td>0</td>\n",
       "      <td>0</td>\n",
       "      <td>0</td>\n",
       "      <td>1</td>\n",
       "      <td>1</td>\n",
       "      <td>...</td>\n",
       "      <td>0</td>\n",
       "      <td>0</td>\n",
       "      <td>0</td>\n",
       "      <td>1</td>\n",
       "      <td>0</td>\n",
       "      <td>0</td>\n",
       "      <td>0</td>\n",
       "      <td>0</td>\n",
       "      <td>0</td>\n",
       "      <td>0</td>\n",
       "    </tr>\n",
       "    <tr>\n",
       "      <th>3</th>\n",
       "      <td>40</td>\n",
       "      <td>0</td>\n",
       "      <td>1</td>\n",
       "      <td>0</td>\n",
       "      <td>0</td>\n",
       "      <td>0</td>\n",
       "      <td>0</td>\n",
       "      <td>0</td>\n",
       "      <td>1</td>\n",
       "      <td>0</td>\n",
       "      <td>...</td>\n",
       "      <td>0</td>\n",
       "      <td>0</td>\n",
       "      <td>0</td>\n",
       "      <td>0</td>\n",
       "      <td>0</td>\n",
       "      <td>0</td>\n",
       "      <td>0</td>\n",
       "      <td>0</td>\n",
       "      <td>0</td>\n",
       "      <td>0</td>\n",
       "    </tr>\n",
       "    <tr>\n",
       "      <th>4</th>\n",
       "      <td>50</td>\n",
       "      <td>0</td>\n",
       "      <td>1</td>\n",
       "      <td>1</td>\n",
       "      <td>0</td>\n",
       "      <td>0</td>\n",
       "      <td>1</td>\n",
       "      <td>0</td>\n",
       "      <td>1</td>\n",
       "      <td>1</td>\n",
       "      <td>...</td>\n",
       "      <td>1</td>\n",
       "      <td>0</td>\n",
       "      <td>0</td>\n",
       "      <td>0</td>\n",
       "      <td>0</td>\n",
       "      <td>0</td>\n",
       "      <td>0</td>\n",
       "      <td>0</td>\n",
       "      <td>0</td>\n",
       "      <td>0</td>\n",
       "    </tr>\n",
       "  </tbody>\n",
       "</table>\n",
       "<p>5 rows × 62 columns</p>\n",
       "</div>"
      ],
      "text/plain": [
       "   item_id  2D  ACTION  ADVENTURE  ANIME  ARCADE  ATMOSPHERIC  CASUAL  \\\n",
       "0       10   0       1          0      0       0            0       0   \n",
       "1       20   0       1          1      0       0            0       1   \n",
       "2       30   0       1          0      0       0            0       0   \n",
       "3       40   0       1          0      0       0            0       0   \n",
       "4       50   0       1          1      0       0            1       0   \n",
       "\n",
       "   CLASSIC  CO-OP  ...  STORY RICH  STRATEGY  SURVIVAL  TACTICAL  \\\n",
       "0        1      0  ...           0         1         1         1   \n",
       "1        1      1  ...           1         0         0         0   \n",
       "2        1      1  ...           0         0         0         1   \n",
       "3        1      0  ...           0         0         0         0   \n",
       "4        1      1  ...           1         0         0         0   \n",
       "\n",
       "   THIRD PERSON  TURN-BASED  UTILITIES  VIOLENT  VISUAL NOVEL  ZOMBIES  \n",
       "0             0           0          0        0             0        0  \n",
       "1             0           0          0        0             0        0  \n",
       "2             0           0          0        0             0        0  \n",
       "3             0           0          0        0             0        0  \n",
       "4             0           0          0        0             0        0  \n",
       "\n",
       "[5 rows x 62 columns]"
      ]
     },
     "execution_count": 18,
     "metadata": {},
     "output_type": "execute_result"
    }
   ],
   "source": [
    "games.head()"
   ]
  },
  {
   "cell_type": "code",
   "execution_count": 19,
   "metadata": {
    "executionInfo": {
     "elapsed": 4,
     "status": "ok",
     "timestamp": 1702513800483,
     "user": {
      "displayName": "Angel Prieto",
      "userId": "16374893148173809494"
     },
     "user_tz": 180
    },
    "id": "_79KPgkFf0ve"
   },
   "outputs": [],
   "source": [
    "idg=440"
   ]
  },
  {
   "cell_type": "code",
   "execution_count": 20,
   "metadata": {},
   "outputs": [],
   "source": [
    "gx=pd.DataFrame(xgames.loc[idg])"
   ]
  },
  {
   "cell_type": "code",
   "execution_count": 21,
   "metadata": {
    "executionInfo": {
     "elapsed": 460,
     "status": "ok",
     "timestamp": 1702513802729,
     "user": {
      "displayName": "Angel Prieto",
      "userId": "16374893148173809494"
     },
     "user_tz": 180
    },
    "id": "AuslnPn1f45D"
   },
   "outputs": [],
   "source": [
    "gx=pd.pivot_table(gx,columns=['2D', 'ACTION', 'ADVENTURE', 'ANIME', 'ARCADE',\n",
    "           'ATMOSPHERIC', 'CASUAL', 'CLASSIC', 'CO-OP', 'COMEDY', 'CUTE',\n",
    "           'DESIGN & ILLUSTRATION', 'DIFFICULT', 'EARLY ACCESS', 'EXPLORATION',\n",
    "           'FPS', 'FAMILY FRIENDLY', 'FANTASY', 'FEMALE PROTAGONIST',\n",
    "           'FIRST-PERSON', 'FREE TO PLAY', 'FUNNY', 'GORE', 'GREAT SOUNDTRACK',\n",
    "           'HIDDEN OBJECT', 'HORROR', 'INDIE', 'LOCAL CO-OP', 'LOCAL MULTIPLAYER',\n",
    "           'MASSIVELY MULTIPLAYER', 'MOVIE', 'MULTIPLAYER', 'ONLINE CO-OP',\n",
    "           'OPEN WORLD', 'PIXEL GRAPHICS', 'PLATFORMER', 'POINT & CLICK', 'PUZZLE',\n",
    "           'RPG', 'RPGMAKER', 'RACING', 'RETRO', 'ROGUE-LIKE', 'SANDBOX', 'SCI-FI',\n",
    "           \"SHOOT 'EM UP\", 'SHOOTER', 'SIMULATION', 'SINGLEPLAYER', 'SPACE',\n",
    "           'SPORTS', 'STORY RICH', 'STRATEGY', 'SURVIVAL', 'TACTICAL',\n",
    "           'THIRD PERSON', 'TURN-BASED', 'UTILITIES', 'VIOLENT', 'VISUAL NOVEL',\n",
    "           'ZOMBIES'])"
   ]
  },
  {
   "cell_type": "code",
   "execution_count": 22,
   "metadata": {
    "colab": {
     "base_uri": "https://localhost:8080/",
     "height": 148
    },
    "executionInfo": {
     "elapsed": 291,
     "status": "ok",
     "timestamp": 1702513805901,
     "user": {
      "displayName": "Angel Prieto",
      "userId": "16374893148173809494"
     },
     "user_tz": 180
    },
    "id": "8TggvGRViiZg",
    "outputId": "85d7ebdd-82fa-4dbe-f5e8-d9b1f9538616"
   },
   "outputs": [
    {
     "data": {
      "text/html": [
       "<div>\n",
       "<style scoped>\n",
       "    .dataframe tbody tr th:only-of-type {\n",
       "        vertical-align: middle;\n",
       "    }\n",
       "\n",
       "    .dataframe tbody tr th {\n",
       "        vertical-align: top;\n",
       "    }\n",
       "\n",
       "    .dataframe thead th {\n",
       "        text-align: right;\n",
       "    }\n",
       "</style>\n",
       "<table border=\"1\" class=\"dataframe\">\n",
       "  <thead>\n",
       "    <tr style=\"text-align: right;\">\n",
       "      <th></th>\n",
       "      <th>2D</th>\n",
       "      <th>ACTION</th>\n",
       "      <th>ADVENTURE</th>\n",
       "      <th>ANIME</th>\n",
       "      <th>ARCADE</th>\n",
       "      <th>ATMOSPHERIC</th>\n",
       "      <th>CASUAL</th>\n",
       "      <th>CLASSIC</th>\n",
       "      <th>CO-OP</th>\n",
       "      <th>COMEDY</th>\n",
       "      <th>...</th>\n",
       "      <th>STORY RICH</th>\n",
       "      <th>STRATEGY</th>\n",
       "      <th>SURVIVAL</th>\n",
       "      <th>TACTICAL</th>\n",
       "      <th>THIRD PERSON</th>\n",
       "      <th>TURN-BASED</th>\n",
       "      <th>UTILITIES</th>\n",
       "      <th>VIOLENT</th>\n",
       "      <th>VISUAL NOVEL</th>\n",
       "      <th>ZOMBIES</th>\n",
       "    </tr>\n",
       "  </thead>\n",
       "  <tbody>\n",
       "    <tr>\n",
       "      <th>440</th>\n",
       "      <td>0.0</td>\n",
       "      <td>1.0</td>\n",
       "      <td>0.0</td>\n",
       "      <td>0.0</td>\n",
       "      <td>0.0</td>\n",
       "      <td>0.0</td>\n",
       "      <td>0.0</td>\n",
       "      <td>0.0</td>\n",
       "      <td>1.0</td>\n",
       "      <td>1.0</td>\n",
       "      <td>...</td>\n",
       "      <td>0.0</td>\n",
       "      <td>0.0</td>\n",
       "      <td>0.0</td>\n",
       "      <td>1.0</td>\n",
       "      <td>0.0</td>\n",
       "      <td>0.0</td>\n",
       "      <td>0.0</td>\n",
       "      <td>0.0</td>\n",
       "      <td>0.0</td>\n",
       "      <td>0.0</td>\n",
       "    </tr>\n",
       "  </tbody>\n",
       "</table>\n",
       "<p>1 rows × 61 columns</p>\n",
       "</div>"
      ],
      "text/plain": [
       "      2D  ACTION  ADVENTURE  ANIME  ARCADE  ATMOSPHERIC  CASUAL  CLASSIC  \\\n",
       "440  0.0     1.0        0.0    0.0     0.0          0.0     0.0      0.0   \n",
       "\n",
       "     CO-OP  COMEDY  ...  STORY RICH  STRATEGY  SURVIVAL  TACTICAL  \\\n",
       "440    1.0     1.0  ...         0.0       0.0       0.0       1.0   \n",
       "\n",
       "     THIRD PERSON  TURN-BASED  UTILITIES  VIOLENT  VISUAL NOVEL  ZOMBIES  \n",
       "440           0.0         0.0        0.0      0.0           0.0      0.0  \n",
       "\n",
       "[1 rows x 61 columns]"
      ]
     },
     "execution_count": 22,
     "metadata": {},
     "output_type": "execute_result"
    }
   ],
   "source": [
    "gx"
   ]
  },
  {
   "cell_type": "code",
   "execution_count": 23,
   "metadata": {
    "executionInfo": {
     "elapsed": 498,
     "status": "ok",
     "timestamp": 1702515486272,
     "user": {
      "displayName": "Angel Prieto",
      "userId": "16374893148173809494"
     },
     "user_tz": 180
    },
    "id": "rpOqEyEggqHk"
   },
   "outputs": [],
   "source": [
    "matriz = cosine_similarity(gx,xgames)"
   ]
  },
  {
   "cell_type": "code",
   "execution_count": 24,
   "metadata": {},
   "outputs": [],
   "source": [
    "matrix = pd.DataFrame(matriz)"
   ]
  },
  {
   "cell_type": "code",
   "execution_count": 25,
   "metadata": {},
   "outputs": [
    {
     "name": "stdout",
     "output_type": "stream",
     "text": [
      "Uso total de la memoria: 0.23 MB\n"
     ]
    }
   ],
   "source": [
    "# Obtener el uso de la memoria por columna\n",
    "memory_usage = matrix.memory_usage(deep=True)\n",
    "\n",
    "# Sumar el uso total de la memoria\\n\",\n",
    "total_memory_usage = memory_usage.sum() / (1024 ** 2)  # Convertir a megabytes\n",
    "\n",
    "print(f\"Uso total de la memoria: {total_memory_usage:.2f} MB\")"
   ]
  },
  {
   "cell_type": "code",
   "execution_count": 26,
   "metadata": {
    "executionInfo": {
     "elapsed": 6,
     "status": "ok",
     "timestamp": 1702515486272,
     "user": {
      "displayName": "Angel Prieto",
      "userId": "16374893148173809494"
     },
     "user_tz": 180
    },
    "id": "O_11-8qEhs0Q"
   },
   "outputs": [],
   "source": [
    "matriz=matriz[0]"
   ]
  },
  {
   "cell_type": "code",
   "execution_count": 27,
   "metadata": {
    "colab": {
     "base_uri": "https://localhost:8080/"
    },
    "executionInfo": {
     "elapsed": 5,
     "status": "ok",
     "timestamp": 1702515486662,
     "user": {
      "displayName": "Angel Prieto",
      "userId": "16374893148173809494"
     },
     "user_tz": 180
    },
    "id": "2ABpWO9vxrzU",
    "outputId": "08b3150a-7bbf-4e67-f746-5b5798f21b53"
   },
   "outputs": [
    {
     "data": {
      "text/plain": [
       "29803"
      ]
     },
     "execution_count": 27,
     "metadata": {},
     "output_type": "execute_result"
    }
   ],
   "source": [
    "len(matriz)"
   ]
  },
  {
   "cell_type": "code",
   "execution_count": 28,
   "metadata": {
    "colab": {
     "base_uri": "https://localhost:8080/"
    },
    "executionInfo": {
     "elapsed": 3,
     "status": "ok",
     "timestamp": 1702515487028,
     "user": {
      "displayName": "Angel Prieto",
      "userId": "16374893148173809494"
     },
     "user_tz": 180
    },
    "id": "HEgJFvQGj9Vf",
    "outputId": "a2d36275-adb1-4462-a61c-30a2ec7c536a"
   },
   "outputs": [
    {
     "data": {
      "text/plain": [
       "numpy.ndarray"
      ]
     },
     "execution_count": 28,
     "metadata": {},
     "output_type": "execute_result"
    }
   ],
   "source": [
    "type(matriz)"
   ]
  },
  {
   "cell_type": "code",
   "execution_count": 177,
   "metadata": {
    "executionInfo": {
     "elapsed": 5,
     "status": "ok",
     "timestamp": 1702515487353,
     "user": {
      "displayName": "Angel Prieto",
      "userId": "16374893148173809494"
     },
     "user_tz": 180
    },
    "id": "eA7Q8n9vvgtu"
   },
   "outputs": [],
   "source": [
    "#n=np.argmax(matriz)"
   ]
  },
  {
   "cell_type": "code",
   "execution_count": 178,
   "metadata": {
    "executionInfo": {
     "elapsed": 5,
     "status": "ok",
     "timestamp": 1702515487704,
     "user": {
      "displayName": "Angel Prieto",
      "userId": "16374893148173809494"
     },
     "user_tz": 180
    },
    "id": "jF2gPLzIygld"
   },
   "outputs": [],
   "source": [
    "#n"
   ]
  },
  {
   "cell_type": "code",
   "execution_count": 179,
   "metadata": {
    "executionInfo": {
     "elapsed": 2,
     "status": "ok",
     "timestamp": 1702515488026,
     "user": {
      "displayName": "Angel Prieto",
      "userId": "16374893148173809494"
     },
     "user_tz": 180
    },
    "id": "xYgpUOOFv1xG"
   },
   "outputs": [],
   "source": [
    "#matriz[n]=0"
   ]
  },
  {
   "cell_type": "code",
   "execution_count": 180,
   "metadata": {
    "colab": {
     "base_uri": "https://localhost:8080/"
    },
    "executionInfo": {
     "elapsed": 6,
     "status": "ok",
     "timestamp": 1702515488736,
     "user": {
      "displayName": "Angel Prieto",
      "userId": "16374893148173809494"
     },
     "user_tz": 180
    },
    "id": "3XobNhvowGw1",
    "outputId": "4c7611b2-8a7e-4777-eef8-bb9660c6a83f"
   },
   "outputs": [
    {
     "data": {
      "text/plain": [
       "0.502518907629606"
      ]
     },
     "execution_count": 180,
     "metadata": {},
     "output_type": "execute_result"
    }
   ],
   "source": [
    "matriz[0]"
   ]
  },
  {
   "cell_type": "code",
   "execution_count": 29,
   "metadata": {
    "executionInfo": {
     "elapsed": 2,
     "status": "ok",
     "timestamp": 1702515490245,
     "user": {
      "displayName": "Angel Prieto",
      "userId": "16374893148173809494"
     },
     "user_tz": 180
    },
    "id": "br8-Uxjrk2EO"
   },
   "outputs": [],
   "source": [
    "reco=[]\n",
    "for i in range(6):\n",
    "  imax=np.argmax(matriz)\n",
    "  reco.append(imax)\n",
    "  matriz[imax]=0"
   ]
  },
  {
   "cell_type": "code",
   "execution_count": 30,
   "metadata": {
    "colab": {
     "base_uri": "https://localhost:8080/"
    },
    "executionInfo": {
     "elapsed": 5,
     "status": "ok",
     "timestamp": 1702515492069,
     "user": {
      "displayName": "Angel Prieto",
      "userId": "16374893148173809494"
     },
     "user_tz": 180
    },
    "id": "iGHgluzOy9z8",
    "outputId": "07a9bc2d-6d10-4040-ebd7-793a55585e03"
   },
   "outputs": [
    {
     "data": {
      "text/plain": [
       "[19, 12210, 2379, 2175, 491, 3819]"
      ]
     },
     "execution_count": 30,
     "metadata": {},
     "output_type": "execute_result"
    }
   ],
   "source": [
    "reco"
   ]
  },
  {
   "cell_type": "code",
   "execution_count": 31,
   "metadata": {
    "colab": {
     "base_uri": "https://localhost:8080/"
    },
    "executionInfo": {
     "elapsed": 3,
     "status": "ok",
     "timestamp": 1702515493222,
     "user": {
      "displayName": "Angel Prieto",
      "userId": "16374893148173809494"
     },
     "user_tz": 180
    },
    "id": "HcD03cNTzZjw",
    "outputId": "37d44475-da7a-46cd-e286-d921990abcba"
   },
   "outputs": [
    {
     "data": {
      "text/plain": [
       "10"
      ]
     },
     "execution_count": 31,
     "metadata": {},
     "output_type": "execute_result"
    }
   ],
   "source": [
    "games.iloc[0]['item_id']"
   ]
  },
  {
   "cell_type": "code",
   "execution_count": 32,
   "metadata": {
    "executionInfo": {
     "elapsed": 425,
     "status": "ok",
     "timestamp": 1702515499862,
     "user": {
      "displayName": "Angel Prieto",
      "userId": "16374893148173809494"
     },
     "user_tz": 180
    },
    "id": "u5Drfd3qzTQ_"
   },
   "outputs": [],
   "source": [
    "top_games=[]"
   ]
  },
  {
   "cell_type": "code",
   "execution_count": 33,
   "metadata": {
    "executionInfo": {
     "elapsed": 2,
     "status": "ok",
     "timestamp": 1702515501504,
     "user": {
      "displayName": "Angel Prieto",
      "userId": "16374893148173809494"
     },
     "user_tz": 180
    },
    "id": "xUfUncZ7y-0c"
   },
   "outputs": [],
   "source": [
    "for i in reco:\n",
    "  top_games.append(games.iloc[i]['item_id'])"
   ]
  },
  {
   "cell_type": "code",
   "execution_count": 34,
   "metadata": {
    "colab": {
     "base_uri": "https://localhost:8080/"
    },
    "executionInfo": {
     "elapsed": 6,
     "status": "ok",
     "timestamp": 1702515503100,
     "user": {
      "displayName": "Angel Prieto",
      "userId": "16374893148173809494"
     },
     "user_tz": 180
    },
    "id": "pd6Zk9uY1Bs3",
    "outputId": "86adccdc-cec6-4b29-e8ef-ff1a11294db4"
   },
   "outputs": [
    {
     "data": {
      "text/plain": [
       "[440, 394230, 209160, 206210, 17520, 245950]"
      ]
     },
     "execution_count": 34,
     "metadata": {},
     "output_type": "execute_result"
    }
   ],
   "source": [
    "top_games"
   ]
  },
  {
   "cell_type": "code",
   "execution_count": 35,
   "metadata": {},
   "outputs": [
    {
     "name": "stdout",
     "output_type": "stream",
     "text": [
      "0 440\n",
      "1 394230\n",
      "2 209160\n",
      "3 206210\n",
      "4 17520\n",
      "5 245950\n"
     ]
    }
   ],
   "source": [
    "for i,g in enumerate(top_games):\n",
    "    print(i,g)"
   ]
  },
  {
   "cell_type": "code",
   "execution_count": 59,
   "metadata": {},
   "outputs": [
    {
     "data": {
      "text/plain": [
       "True"
      ]
     },
     "execution_count": 59,
     "metadata": {},
     "output_type": "execute_result"
    }
   ],
   "source": [
    "440 in iids"
   ]
  },
  {
   "cell_type": "code",
   "execution_count": 60,
   "metadata": {},
   "outputs": [
    {
     "data": {
      "text/html": [
       "<div>\n",
       "<style scoped>\n",
       "    .dataframe tbody tr th:only-of-type {\n",
       "        vertical-align: middle;\n",
       "    }\n",
       "\n",
       "    .dataframe tbody tr th {\n",
       "        vertical-align: top;\n",
       "    }\n",
       "\n",
       "    .dataframe thead th {\n",
       "        text-align: right;\n",
       "    }\n",
       "</style>\n",
       "<table border=\"1\" class=\"dataframe\">\n",
       "  <thead>\n",
       "    <tr style=\"text-align: right;\">\n",
       "      <th></th>\n",
       "      <th>item_id</th>\n",
       "      <th>item_name</th>\n",
       "    </tr>\n",
       "  </thead>\n",
       "  <tbody>\n",
       "  </tbody>\n",
       "</table>\n",
       "</div>"
      ],
      "text/plain": [
       "Empty DataFrame\n",
       "Columns: [item_id, item_name]\n",
       "Index: []"
      ]
     },
     "execution_count": 60,
     "metadata": {},
     "output_type": "execute_result"
    }
   ],
   "source": [
    "rnames[rnames['item_id'] == 440]"
   ]
  },
  {
   "cell_type": "code",
   "execution_count": 48,
   "metadata": {
    "executionInfo": {
     "elapsed": 423,
     "status": "ok",
     "timestamp": 1702515705865,
     "user": {
      "displayName": "Angel Prieto",
      "userId": "16374893148173809494"
     },
     "user_tz": 180
    },
    "id": "gCALNBn6zrSC"
   },
   "outputs": [
    {
     "ename": "IndexError",
     "evalue": "single positional indexer is out-of-bounds",
     "output_type": "error",
     "traceback": [
      "\u001b[1;31m---------------------------------------------------------------------------\u001b[0m",
      "\u001b[1;31mIndexError\u001b[0m                                Traceback (most recent call last)",
      "Cell \u001b[1;32mIn[48], line 3\u001b[0m\n\u001b[0;32m      1\u001b[0m \u001b[38;5;28;01mfor\u001b[39;00m i,g \u001b[38;5;129;01min\u001b[39;00m \u001b[38;5;28menumerate\u001b[39m(top_games):\n\u001b[0;32m      2\u001b[0m       \u001b[38;5;28;01mif\u001b[39;00m g \u001b[38;5;129;01min\u001b[39;00m iids:\n\u001b[1;32m----> 3\u001b[0m         top_games[i]\u001b[38;5;241m=\u001b[39m\u001b[43mrnames\u001b[49m\u001b[43m[\u001b[49m\u001b[43mrnames\u001b[49m\u001b[43m[\u001b[49m\u001b[38;5;124;43m'\u001b[39;49m\u001b[38;5;124;43mitem_id\u001b[39;49m\u001b[38;5;124;43m'\u001b[39;49m\u001b[43m]\u001b[49m\u001b[43m \u001b[49m\u001b[38;5;241;43m==\u001b[39;49m\u001b[43m \u001b[49m\u001b[43mtop_games\u001b[49m\u001b[43m[\u001b[49m\u001b[43mi\u001b[49m\u001b[43m]\u001b[49m\u001b[43m]\u001b[49m\u001b[38;5;241;43m.\u001b[39;49m\u001b[43mhead\u001b[49m\u001b[43m(\u001b[49m\u001b[38;5;241;43m1\u001b[39;49m\u001b[43m)\u001b[49m\u001b[43m[\u001b[49m\u001b[38;5;124;43m'\u001b[39;49m\u001b[38;5;124;43mitem_name\u001b[39;49m\u001b[38;5;124;43m'\u001b[39;49m\u001b[43m]\u001b[49m\u001b[38;5;241;43m.\u001b[39;49m\u001b[43miloc\u001b[49m\u001b[43m[\u001b[49m\u001b[38;5;241;43m0\u001b[39;49m\u001b[43m]\u001b[49m\n\u001b[0;32m      4\u001b[0m       \u001b[38;5;28;01melse\u001b[39;00m:\n\u001b[0;32m      5\u001b[0m         top_games[i]\u001b[38;5;241m=\u001b[39mgnames[gnames[\u001b[38;5;124m'\u001b[39m\u001b[38;5;124mitem_id\u001b[39m\u001b[38;5;124m'\u001b[39m] \u001b[38;5;241m==\u001b[39m top_games[i]]\u001b[38;5;241m.\u001b[39mhead(\u001b[38;5;241m1\u001b[39m)[\u001b[38;5;124m'\u001b[39m\u001b[38;5;124mitem_name\u001b[39m\u001b[38;5;124m'\u001b[39m]\u001b[38;5;241m.\u001b[39miloc[\u001b[38;5;241m0\u001b[39m]\n",
      "File \u001b[1;32m~\\AppData\\Local\\Programs\\Python\\Python310\\lib\\site-packages\\pandas\\core\\indexing.py:1153\u001b[0m, in \u001b[0;36m_LocationIndexer.__getitem__\u001b[1;34m(self, key)\u001b[0m\n\u001b[0;32m   1150\u001b[0m axis \u001b[38;5;241m=\u001b[39m \u001b[38;5;28mself\u001b[39m\u001b[38;5;241m.\u001b[39maxis \u001b[38;5;129;01mor\u001b[39;00m \u001b[38;5;241m0\u001b[39m\n\u001b[0;32m   1152\u001b[0m maybe_callable \u001b[38;5;241m=\u001b[39m com\u001b[38;5;241m.\u001b[39mapply_if_callable(key, \u001b[38;5;28mself\u001b[39m\u001b[38;5;241m.\u001b[39mobj)\n\u001b[1;32m-> 1153\u001b[0m \u001b[38;5;28;01mreturn\u001b[39;00m \u001b[38;5;28;43mself\u001b[39;49m\u001b[38;5;241;43m.\u001b[39;49m\u001b[43m_getitem_axis\u001b[49m\u001b[43m(\u001b[49m\u001b[43mmaybe_callable\u001b[49m\u001b[43m,\u001b[49m\u001b[43m \u001b[49m\u001b[43maxis\u001b[49m\u001b[38;5;241;43m=\u001b[39;49m\u001b[43maxis\u001b[49m\u001b[43m)\u001b[49m\n",
      "File \u001b[1;32m~\\AppData\\Local\\Programs\\Python\\Python310\\lib\\site-packages\\pandas\\core\\indexing.py:1714\u001b[0m, in \u001b[0;36m_iLocIndexer._getitem_axis\u001b[1;34m(self, key, axis)\u001b[0m\n\u001b[0;32m   1711\u001b[0m     \u001b[38;5;28;01mraise\u001b[39;00m \u001b[38;5;167;01mTypeError\u001b[39;00m(\u001b[38;5;124m\"\u001b[39m\u001b[38;5;124mCannot index by location index with a non-integer key\u001b[39m\u001b[38;5;124m\"\u001b[39m)\n\u001b[0;32m   1713\u001b[0m \u001b[38;5;66;03m# validate the location\u001b[39;00m\n\u001b[1;32m-> 1714\u001b[0m \u001b[38;5;28;43mself\u001b[39;49m\u001b[38;5;241;43m.\u001b[39;49m\u001b[43m_validate_integer\u001b[49m\u001b[43m(\u001b[49m\u001b[43mkey\u001b[49m\u001b[43m,\u001b[49m\u001b[43m \u001b[49m\u001b[43maxis\u001b[49m\u001b[43m)\u001b[49m\n\u001b[0;32m   1716\u001b[0m \u001b[38;5;28;01mreturn\u001b[39;00m \u001b[38;5;28mself\u001b[39m\u001b[38;5;241m.\u001b[39mobj\u001b[38;5;241m.\u001b[39m_ixs(key, axis\u001b[38;5;241m=\u001b[39maxis)\n",
      "File \u001b[1;32m~\\AppData\\Local\\Programs\\Python\\Python310\\lib\\site-packages\\pandas\\core\\indexing.py:1647\u001b[0m, in \u001b[0;36m_iLocIndexer._validate_integer\u001b[1;34m(self, key, axis)\u001b[0m\n\u001b[0;32m   1645\u001b[0m len_axis \u001b[38;5;241m=\u001b[39m \u001b[38;5;28mlen\u001b[39m(\u001b[38;5;28mself\u001b[39m\u001b[38;5;241m.\u001b[39mobj\u001b[38;5;241m.\u001b[39m_get_axis(axis))\n\u001b[0;32m   1646\u001b[0m \u001b[38;5;28;01mif\u001b[39;00m key \u001b[38;5;241m>\u001b[39m\u001b[38;5;241m=\u001b[39m len_axis \u001b[38;5;129;01mor\u001b[39;00m key \u001b[38;5;241m<\u001b[39m \u001b[38;5;241m-\u001b[39mlen_axis:\n\u001b[1;32m-> 1647\u001b[0m     \u001b[38;5;28;01mraise\u001b[39;00m \u001b[38;5;167;01mIndexError\u001b[39;00m(\u001b[38;5;124m\"\u001b[39m\u001b[38;5;124msingle positional indexer is out-of-bounds\u001b[39m\u001b[38;5;124m\"\u001b[39m)\n",
      "\u001b[1;31mIndexError\u001b[0m: single positional indexer is out-of-bounds"
     ]
    }
   ],
   "source": [
    "for i,g in enumerate(top_games):\n",
    "      if g in iids:\n",
    "        top_games[i]=rnames[rnames['item_id'] == top_games[i]].['item_name']\n",
    "      else:\n",
    "        top_games[i]=gnames[gnames['item_id'] == top_games[i]].head(1)['item_name'].iloc[0]"
   ]
  },
  {
   "cell_type": "code",
   "execution_count": 37,
   "metadata": {
    "colab": {
     "base_uri": "https://localhost:8080/"
    },
    "executionInfo": {
     "elapsed": 6,
     "status": "ok",
     "timestamp": 1702515712150,
     "user": {
      "displayName": "Angel Prieto",
      "userId": "16374893148173809494"
     },
     "user_tz": 180
    },
    "id": "58wZMify1PVM",
    "outputId": "495fe95c-921e-4e5d-b4d6-87924ec54580"
   },
   "outputs": [
    {
     "data": {
      "text/plain": [
       "[440, 394230, 209160, 206210, 17520, 245950]"
      ]
     },
     "execution_count": 37,
     "metadata": {},
     "output_type": "execute_result"
    }
   ],
   "source": [
    "top_games"
   ]
  },
  {
   "cell_type": "code",
   "execution_count": 25,
   "metadata": {},
   "outputs": [],
   "source": [
    "#Ingresando el id de producto, deberíamos recibir una lista con 5 juegos recomendados similares al ingresado."
   ]
  },
  {
   "cell_type": "code",
   "execution_count": 163,
   "metadata": {
    "id": "3SPbKhJd2B18"
   },
   "outputs": [],
   "source": [
    "def recomendacion_juego(idg):\n",
    "    if (idg in iids) or (idg in ign):\n",
    "        gx=pd.DataFrame(xgames.loc[idg])\n",
    "        gx=pd.pivot_table(gx,columns=['2D', 'ACTION', 'ADVENTURE', 'ANIME', 'ARCADE',\n",
    "           'ATMOSPHERIC', 'CASUAL', 'CLASSIC', 'CO-OP', 'COMEDY', 'CUTE',\n",
    "           'DESIGN & ILLUSTRATION', 'DIFFICULT', 'EARLY ACCESS', 'EXPLORATION',\n",
    "           'FPS', 'FAMILY FRIENDLY', 'FANTASY', 'FEMALE PROTAGONIST',\n",
    "           'FIRST-PERSON', 'FREE TO PLAY', 'FUNNY', 'GORE', 'GREAT SOUNDTRACK',\n",
    "           'HIDDEN OBJECT', 'HORROR', 'INDIE', 'LOCAL CO-OP', 'LOCAL MULTIPLAYER',\n",
    "           'MASSIVELY MULTIPLAYER', 'MOVIE', 'MULTIPLAYER', 'ONLINE CO-OP',\n",
    "           'OPEN WORLD', 'PIXEL GRAPHICS', 'PLATFORMER', 'POINT & CLICK', 'PUZZLE',\n",
    "           'RPG', 'RPGMAKER', 'RACING', 'RETRO', 'ROGUE-LIKE', 'SANDBOX', 'SCI-FI',\n",
    "           \"SHOOT 'EM UP\", 'SHOOTER', 'SIMULATION', 'SINGLEPLAYER', 'SPACE',\n",
    "           'SPORTS', 'STORY RICH', 'STRATEGY', 'SURVIVAL', 'TACTICAL',\n",
    "           'THIRD PERSON', 'TURN-BASED', 'UTILITIES', 'VIOLENT', 'VISUAL NOVEL',\n",
    "           'ZOMBIES'])\n",
    "        ygames = xgames.drop(idg)\n",
    "        matriz = cosine_similarity(gx,ygames)\n",
    "        matriz=matriz[0]\n",
    "        reco=[]\n",
    "        for i in range(6):\n",
    "          imax=np.argmax(matriz)\n",
    "          reco.append(imax)\n",
    "          matriz[imax]=0\n",
    "        top_games = []\n",
    "        for i in reco:\n",
    "          top_games.append(games.iloc[i]['item_id'])\n",
    "        for i,g in enumerate(top_games):\n",
    "          if g in ign:\n",
    "            top_games[i]=gnames[gnames['item_id'] == top_games[i]].head(1)['item_name'].iloc[0]\n",
    "          else:\n",
    "            top_games[i]=ids[ids['item_id'] == top_games[i]].head(1)['item_name'].iloc[0]\n",
    "        return {\"juegos recomendados\":\n",
    "                 [{\"Puesto 1\":top_games[0]},\n",
    "                  {\"Puesto 2\":top_games[2]},\n",
    "                  {\"Puesto 3\":top_games[3]},\n",
    "                  {\"Puesto 4\":top_games[4]},\n",
    "                  {\"Puesto 5\":top_games[5]}]}\n",
    "    else:\n",
    "        return {\"id de juego no se encuentra en la base de datos \":idg}"
   ]
  },
  {
   "cell_type": "code",
   "execution_count": 164,
   "metadata": {},
   "outputs": [
    {
     "ename": "IndexError",
     "evalue": "single positional indexer is out-of-bounds",
     "output_type": "error",
     "traceback": [
      "\u001b[1;31m---------------------------------------------------------------------------\u001b[0m",
      "\u001b[1;31mIndexError\u001b[0m                                Traceback (most recent call last)",
      "Cell \u001b[1;32mIn[164], line 1\u001b[0m\n\u001b[1;32m----> 1\u001b[0m \u001b[43mrecomendacion_juego\u001b[49m\u001b[43m(\u001b[49m\u001b[38;5;241;43m440\u001b[39;49m\u001b[43m)\u001b[49m\n",
      "Cell \u001b[1;32mIn[163], line 32\u001b[0m, in \u001b[0;36mrecomendacion_juego\u001b[1;34m(idg)\u001b[0m\n\u001b[0;32m     30\u001b[0m         top_games[i]\u001b[38;5;241m=\u001b[39mgnames[gnames[\u001b[38;5;124m'\u001b[39m\u001b[38;5;124mitem_id\u001b[39m\u001b[38;5;124m'\u001b[39m] \u001b[38;5;241m==\u001b[39m top_games[i]]\u001b[38;5;241m.\u001b[39mhead(\u001b[38;5;241m1\u001b[39m)[\u001b[38;5;124m'\u001b[39m\u001b[38;5;124mitem_name\u001b[39m\u001b[38;5;124m'\u001b[39m]\u001b[38;5;241m.\u001b[39miloc[\u001b[38;5;241m0\u001b[39m]\n\u001b[0;32m     31\u001b[0m       \u001b[38;5;28;01melse\u001b[39;00m:\n\u001b[1;32m---> 32\u001b[0m         top_games[i]\u001b[38;5;241m=\u001b[39m\u001b[43mids\u001b[49m\u001b[43m[\u001b[49m\u001b[43mids\u001b[49m\u001b[43m[\u001b[49m\u001b[38;5;124;43m'\u001b[39;49m\u001b[38;5;124;43mitem_id\u001b[39;49m\u001b[38;5;124;43m'\u001b[39;49m\u001b[43m]\u001b[49m\u001b[43m \u001b[49m\u001b[38;5;241;43m==\u001b[39;49m\u001b[43m \u001b[49m\u001b[43mtop_games\u001b[49m\u001b[43m[\u001b[49m\u001b[43mi\u001b[49m\u001b[43m]\u001b[49m\u001b[43m]\u001b[49m\u001b[38;5;241;43m.\u001b[39;49m\u001b[43mhead\u001b[49m\u001b[43m(\u001b[49m\u001b[38;5;241;43m1\u001b[39;49m\u001b[43m)\u001b[49m\u001b[43m[\u001b[49m\u001b[38;5;124;43m'\u001b[39;49m\u001b[38;5;124;43mitem_name\u001b[39;49m\u001b[38;5;124;43m'\u001b[39;49m\u001b[43m]\u001b[49m\u001b[38;5;241;43m.\u001b[39;49m\u001b[43miloc\u001b[49m\u001b[43m[\u001b[49m\u001b[38;5;241;43m0\u001b[39;49m\u001b[43m]\u001b[49m\n\u001b[0;32m     33\u001b[0m     \u001b[38;5;28;01mreturn\u001b[39;00m {\u001b[38;5;124m\"\u001b[39m\u001b[38;5;124mjuegos recomendados\u001b[39m\u001b[38;5;124m\"\u001b[39m:\n\u001b[0;32m     34\u001b[0m              [{\u001b[38;5;124m\"\u001b[39m\u001b[38;5;124mPuesto 1\u001b[39m\u001b[38;5;124m\"\u001b[39m:top_games[\u001b[38;5;241m0\u001b[39m]},\n\u001b[0;32m     35\u001b[0m               {\u001b[38;5;124m\"\u001b[39m\u001b[38;5;124mPuesto 2\u001b[39m\u001b[38;5;124m\"\u001b[39m:top_games[\u001b[38;5;241m2\u001b[39m]},\n\u001b[0;32m     36\u001b[0m               {\u001b[38;5;124m\"\u001b[39m\u001b[38;5;124mPuesto 3\u001b[39m\u001b[38;5;124m\"\u001b[39m:top_games[\u001b[38;5;241m3\u001b[39m]},\n\u001b[0;32m     37\u001b[0m               {\u001b[38;5;124m\"\u001b[39m\u001b[38;5;124mPuesto 4\u001b[39m\u001b[38;5;124m\"\u001b[39m:top_games[\u001b[38;5;241m4\u001b[39m]},\n\u001b[0;32m     38\u001b[0m               {\u001b[38;5;124m\"\u001b[39m\u001b[38;5;124mPuesto 5\u001b[39m\u001b[38;5;124m\"\u001b[39m:top_games[\u001b[38;5;241m5\u001b[39m]}]}\n\u001b[0;32m     39\u001b[0m \u001b[38;5;28;01melse\u001b[39;00m:\n",
      "File \u001b[1;32m~\\AppData\\Local\\Programs\\Python\\Python310\\lib\\site-packages\\pandas\\core\\indexing.py:1153\u001b[0m, in \u001b[0;36m_LocationIndexer.__getitem__\u001b[1;34m(self, key)\u001b[0m\n\u001b[0;32m   1150\u001b[0m axis \u001b[38;5;241m=\u001b[39m \u001b[38;5;28mself\u001b[39m\u001b[38;5;241m.\u001b[39maxis \u001b[38;5;129;01mor\u001b[39;00m \u001b[38;5;241m0\u001b[39m\n\u001b[0;32m   1152\u001b[0m maybe_callable \u001b[38;5;241m=\u001b[39m com\u001b[38;5;241m.\u001b[39mapply_if_callable(key, \u001b[38;5;28mself\u001b[39m\u001b[38;5;241m.\u001b[39mobj)\n\u001b[1;32m-> 1153\u001b[0m \u001b[38;5;28;01mreturn\u001b[39;00m \u001b[38;5;28;43mself\u001b[39;49m\u001b[38;5;241;43m.\u001b[39;49m\u001b[43m_getitem_axis\u001b[49m\u001b[43m(\u001b[49m\u001b[43mmaybe_callable\u001b[49m\u001b[43m,\u001b[49m\u001b[43m \u001b[49m\u001b[43maxis\u001b[49m\u001b[38;5;241;43m=\u001b[39;49m\u001b[43maxis\u001b[49m\u001b[43m)\u001b[49m\n",
      "File \u001b[1;32m~\\AppData\\Local\\Programs\\Python\\Python310\\lib\\site-packages\\pandas\\core\\indexing.py:1714\u001b[0m, in \u001b[0;36m_iLocIndexer._getitem_axis\u001b[1;34m(self, key, axis)\u001b[0m\n\u001b[0;32m   1711\u001b[0m     \u001b[38;5;28;01mraise\u001b[39;00m \u001b[38;5;167;01mTypeError\u001b[39;00m(\u001b[38;5;124m\"\u001b[39m\u001b[38;5;124mCannot index by location index with a non-integer key\u001b[39m\u001b[38;5;124m\"\u001b[39m)\n\u001b[0;32m   1713\u001b[0m \u001b[38;5;66;03m# validate the location\u001b[39;00m\n\u001b[1;32m-> 1714\u001b[0m \u001b[38;5;28;43mself\u001b[39;49m\u001b[38;5;241;43m.\u001b[39;49m\u001b[43m_validate_integer\u001b[49m\u001b[43m(\u001b[49m\u001b[43mkey\u001b[49m\u001b[43m,\u001b[49m\u001b[43m \u001b[49m\u001b[43maxis\u001b[49m\u001b[43m)\u001b[49m\n\u001b[0;32m   1716\u001b[0m \u001b[38;5;28;01mreturn\u001b[39;00m \u001b[38;5;28mself\u001b[39m\u001b[38;5;241m.\u001b[39mobj\u001b[38;5;241m.\u001b[39m_ixs(key, axis\u001b[38;5;241m=\u001b[39maxis)\n",
      "File \u001b[1;32m~\\AppData\\Local\\Programs\\Python\\Python310\\lib\\site-packages\\pandas\\core\\indexing.py:1647\u001b[0m, in \u001b[0;36m_iLocIndexer._validate_integer\u001b[1;34m(self, key, axis)\u001b[0m\n\u001b[0;32m   1645\u001b[0m len_axis \u001b[38;5;241m=\u001b[39m \u001b[38;5;28mlen\u001b[39m(\u001b[38;5;28mself\u001b[39m\u001b[38;5;241m.\u001b[39mobj\u001b[38;5;241m.\u001b[39m_get_axis(axis))\n\u001b[0;32m   1646\u001b[0m \u001b[38;5;28;01mif\u001b[39;00m key \u001b[38;5;241m>\u001b[39m\u001b[38;5;241m=\u001b[39m len_axis \u001b[38;5;129;01mor\u001b[39;00m key \u001b[38;5;241m<\u001b[39m \u001b[38;5;241m-\u001b[39mlen_axis:\n\u001b[1;32m-> 1647\u001b[0m     \u001b[38;5;28;01mraise\u001b[39;00m \u001b[38;5;167;01mIndexError\u001b[39;00m(\u001b[38;5;124m\"\u001b[39m\u001b[38;5;124msingle positional indexer is out-of-bounds\u001b[39m\u001b[38;5;124m\"\u001b[39m)\n",
      "\u001b[1;31mIndexError\u001b[0m: single positional indexer is out-of-bounds"
     ]
    }
   ],
   "source": [
    "recomendacion_juego(440)"
   ]
  },
  {
   "cell_type": "code",
   "execution_count": 140,
   "metadata": {},
   "outputs": [
    {
     "data": {
      "text/html": [
       "<div>\n",
       "<style scoped>\n",
       "    .dataframe tbody tr th:only-of-type {\n",
       "        vertical-align: middle;\n",
       "    }\n",
       "\n",
       "    .dataframe tbody tr th {\n",
       "        vertical-align: top;\n",
       "    }\n",
       "\n",
       "    .dataframe thead th {\n",
       "        text-align: right;\n",
       "    }\n",
       "</style>\n",
       "<table border=\"1\" class=\"dataframe\">\n",
       "  <thead>\n",
       "    <tr style=\"text-align: right;\">\n",
       "      <th></th>\n",
       "      <th>2D</th>\n",
       "      <th>ACTION</th>\n",
       "      <th>ADVENTURE</th>\n",
       "      <th>ANIME</th>\n",
       "      <th>ARCADE</th>\n",
       "      <th>ATMOSPHERIC</th>\n",
       "      <th>CASUAL</th>\n",
       "      <th>CLASSIC</th>\n",
       "      <th>CO-OP</th>\n",
       "      <th>COMEDY</th>\n",
       "      <th>...</th>\n",
       "      <th>STORY RICH</th>\n",
       "      <th>STRATEGY</th>\n",
       "      <th>SURVIVAL</th>\n",
       "      <th>TACTICAL</th>\n",
       "      <th>THIRD PERSON</th>\n",
       "      <th>TURN-BASED</th>\n",
       "      <th>UTILITIES</th>\n",
       "      <th>VIOLENT</th>\n",
       "      <th>VISUAL NOVEL</th>\n",
       "      <th>ZOMBIES</th>\n",
       "    </tr>\n",
       "    <tr>\n",
       "      <th>item_id</th>\n",
       "      <th></th>\n",
       "      <th></th>\n",
       "      <th></th>\n",
       "      <th></th>\n",
       "      <th></th>\n",
       "      <th></th>\n",
       "      <th></th>\n",
       "      <th></th>\n",
       "      <th></th>\n",
       "      <th></th>\n",
       "      <th></th>\n",
       "      <th></th>\n",
       "      <th></th>\n",
       "      <th></th>\n",
       "      <th></th>\n",
       "      <th></th>\n",
       "      <th></th>\n",
       "      <th></th>\n",
       "      <th></th>\n",
       "      <th></th>\n",
       "      <th></th>\n",
       "    </tr>\n",
       "  </thead>\n",
       "  <tbody>\n",
       "    <tr>\n",
       "      <th>10</th>\n",
       "      <td>0</td>\n",
       "      <td>1</td>\n",
       "      <td>0</td>\n",
       "      <td>0</td>\n",
       "      <td>0</td>\n",
       "      <td>0</td>\n",
       "      <td>0</td>\n",
       "      <td>1</td>\n",
       "      <td>0</td>\n",
       "      <td>0</td>\n",
       "      <td>...</td>\n",
       "      <td>0</td>\n",
       "      <td>1</td>\n",
       "      <td>1</td>\n",
       "      <td>1</td>\n",
       "      <td>0</td>\n",
       "      <td>0</td>\n",
       "      <td>0</td>\n",
       "      <td>0</td>\n",
       "      <td>0</td>\n",
       "      <td>0</td>\n",
       "    </tr>\n",
       "    <tr>\n",
       "      <th>20</th>\n",
       "      <td>0</td>\n",
       "      <td>1</td>\n",
       "      <td>1</td>\n",
       "      <td>0</td>\n",
       "      <td>0</td>\n",
       "      <td>0</td>\n",
       "      <td>1</td>\n",
       "      <td>1</td>\n",
       "      <td>1</td>\n",
       "      <td>0</td>\n",
       "      <td>...</td>\n",
       "      <td>1</td>\n",
       "      <td>0</td>\n",
       "      <td>0</td>\n",
       "      <td>0</td>\n",
       "      <td>0</td>\n",
       "      <td>0</td>\n",
       "      <td>0</td>\n",
       "      <td>0</td>\n",
       "      <td>0</td>\n",
       "      <td>0</td>\n",
       "    </tr>\n",
       "    <tr>\n",
       "      <th>30</th>\n",
       "      <td>0</td>\n",
       "      <td>1</td>\n",
       "      <td>0</td>\n",
       "      <td>0</td>\n",
       "      <td>0</td>\n",
       "      <td>0</td>\n",
       "      <td>0</td>\n",
       "      <td>1</td>\n",
       "      <td>1</td>\n",
       "      <td>0</td>\n",
       "      <td>...</td>\n",
       "      <td>0</td>\n",
       "      <td>0</td>\n",
       "      <td>0</td>\n",
       "      <td>1</td>\n",
       "      <td>0</td>\n",
       "      <td>0</td>\n",
       "      <td>0</td>\n",
       "      <td>0</td>\n",
       "      <td>0</td>\n",
       "      <td>0</td>\n",
       "    </tr>\n",
       "    <tr>\n",
       "      <th>40</th>\n",
       "      <td>0</td>\n",
       "      <td>1</td>\n",
       "      <td>0</td>\n",
       "      <td>0</td>\n",
       "      <td>0</td>\n",
       "      <td>0</td>\n",
       "      <td>0</td>\n",
       "      <td>1</td>\n",
       "      <td>0</td>\n",
       "      <td>0</td>\n",
       "      <td>...</td>\n",
       "      <td>0</td>\n",
       "      <td>0</td>\n",
       "      <td>0</td>\n",
       "      <td>0</td>\n",
       "      <td>0</td>\n",
       "      <td>0</td>\n",
       "      <td>0</td>\n",
       "      <td>0</td>\n",
       "      <td>0</td>\n",
       "      <td>0</td>\n",
       "    </tr>\n",
       "    <tr>\n",
       "      <th>50</th>\n",
       "      <td>0</td>\n",
       "      <td>1</td>\n",
       "      <td>1</td>\n",
       "      <td>0</td>\n",
       "      <td>0</td>\n",
       "      <td>1</td>\n",
       "      <td>0</td>\n",
       "      <td>1</td>\n",
       "      <td>1</td>\n",
       "      <td>0</td>\n",
       "      <td>...</td>\n",
       "      <td>1</td>\n",
       "      <td>0</td>\n",
       "      <td>0</td>\n",
       "      <td>0</td>\n",
       "      <td>0</td>\n",
       "      <td>0</td>\n",
       "      <td>0</td>\n",
       "      <td>0</td>\n",
       "      <td>0</td>\n",
       "      <td>0</td>\n",
       "    </tr>\n",
       "  </tbody>\n",
       "</table>\n",
       "<p>5 rows × 61 columns</p>\n",
       "</div>"
      ],
      "text/plain": [
       "         2D  ACTION  ADVENTURE  ANIME  ARCADE  ATMOSPHERIC  CASUAL  CLASSIC  \\\n",
       "item_id                                                                       \n",
       "10        0       1          0      0       0            0       0        1   \n",
       "20        0       1          1      0       0            0       1        1   \n",
       "30        0       1          0      0       0            0       0        1   \n",
       "40        0       1          0      0       0            0       0        1   \n",
       "50        0       1          1      0       0            1       0        1   \n",
       "\n",
       "         CO-OP  COMEDY  ...  STORY RICH  STRATEGY  SURVIVAL  TACTICAL  \\\n",
       "item_id                 ...                                             \n",
       "10           0       0  ...           0         1         1         1   \n",
       "20           1       0  ...           1         0         0         0   \n",
       "30           1       0  ...           0         0         0         1   \n",
       "40           0       0  ...           0         0         0         0   \n",
       "50           1       0  ...           1         0         0         0   \n",
       "\n",
       "         THIRD PERSON  TURN-BASED  UTILITIES  VIOLENT  VISUAL NOVEL  ZOMBIES  \n",
       "item_id                                                                       \n",
       "10                  0           0          0        0             0        0  \n",
       "20                  0           0          0        0             0        0  \n",
       "30                  0           0          0        0             0        0  \n",
       "40                  0           0          0        0             0        0  \n",
       "50                  0           0          0        0             0        0  \n",
       "\n",
       "[5 rows x 61 columns]"
      ]
     },
     "execution_count": 140,
     "metadata": {},
     "output_type": "execute_result"
    }
   ],
   "source": [
    "xgames.head()"
   ]
  },
  {
   "cell_type": "code",
   "execution_count": 144,
   "metadata": {},
   "outputs": [
    {
     "data": {
      "text/html": [
       "<div>\n",
       "<style scoped>\n",
       "    .dataframe tbody tr th:only-of-type {\n",
       "        vertical-align: middle;\n",
       "    }\n",
       "\n",
       "    .dataframe tbody tr th {\n",
       "        vertical-align: top;\n",
       "    }\n",
       "\n",
       "    .dataframe thead th {\n",
       "        text-align: right;\n",
       "    }\n",
       "</style>\n",
       "<table border=\"1\" class=\"dataframe\">\n",
       "  <thead>\n",
       "    <tr style=\"text-align: right;\">\n",
       "      <th></th>\n",
       "      <th>item_id</th>\n",
       "      <th>2D</th>\n",
       "      <th>ACTION</th>\n",
       "      <th>ADVENTURE</th>\n",
       "      <th>ANIME</th>\n",
       "      <th>ARCADE</th>\n",
       "      <th>ATMOSPHERIC</th>\n",
       "      <th>CASUAL</th>\n",
       "      <th>CLASSIC</th>\n",
       "      <th>CO-OP</th>\n",
       "      <th>...</th>\n",
       "      <th>STORY RICH</th>\n",
       "      <th>STRATEGY</th>\n",
       "      <th>SURVIVAL</th>\n",
       "      <th>TACTICAL</th>\n",
       "      <th>THIRD PERSON</th>\n",
       "      <th>TURN-BASED</th>\n",
       "      <th>UTILITIES</th>\n",
       "      <th>VIOLENT</th>\n",
       "      <th>VISUAL NOVEL</th>\n",
       "      <th>ZOMBIES</th>\n",
       "    </tr>\n",
       "  </thead>\n",
       "  <tbody>\n",
       "    <tr>\n",
       "      <th>19</th>\n",
       "      <td>440</td>\n",
       "      <td>0</td>\n",
       "      <td>1</td>\n",
       "      <td>0</td>\n",
       "      <td>0</td>\n",
       "      <td>0</td>\n",
       "      <td>0</td>\n",
       "      <td>0</td>\n",
       "      <td>0</td>\n",
       "      <td>1</td>\n",
       "      <td>...</td>\n",
       "      <td>0</td>\n",
       "      <td>0</td>\n",
       "      <td>0</td>\n",
       "      <td>1</td>\n",
       "      <td>0</td>\n",
       "      <td>0</td>\n",
       "      <td>0</td>\n",
       "      <td>0</td>\n",
       "      <td>0</td>\n",
       "      <td>0</td>\n",
       "    </tr>\n",
       "  </tbody>\n",
       "</table>\n",
       "<p>1 rows × 62 columns</p>\n",
       "</div>"
      ],
      "text/plain": [
       "    item_id  2D  ACTION  ADVENTURE  ANIME  ARCADE  ATMOSPHERIC  CASUAL  \\\n",
       "19      440   0       1          0      0       0            0       0   \n",
       "\n",
       "    CLASSIC  CO-OP  ...  STORY RICH  STRATEGY  SURVIVAL  TACTICAL  \\\n",
       "19        0      1  ...           0         0         0         1   \n",
       "\n",
       "    THIRD PERSON  TURN-BASED  UTILITIES  VIOLENT  VISUAL NOVEL  ZOMBIES  \n",
       "19             0           0          0        0             0        0  \n",
       "\n",
       "[1 rows x 62 columns]"
      ]
     },
     "execution_count": 144,
     "metadata": {},
     "output_type": "execute_result"
    }
   ],
   "source": [
    "games[games['item_id']==440]"
   ]
  },
  {
   "cell_type": "code",
   "execution_count": 190,
   "metadata": {},
   "outputs": [
    {
     "data": {
      "text/html": [
       "<div>\n",
       "<style scoped>\n",
       "    .dataframe tbody tr th:only-of-type {\n",
       "        vertical-align: middle;\n",
       "    }\n",
       "\n",
       "    .dataframe tbody tr th {\n",
       "        vertical-align: top;\n",
       "    }\n",
       "\n",
       "    .dataframe thead th {\n",
       "        text-align: right;\n",
       "    }\n",
       "</style>\n",
       "<table border=\"1\" class=\"dataframe\">\n",
       "  <thead>\n",
       "    <tr style=\"text-align: right;\">\n",
       "      <th></th>\n",
       "      <th>item_id</th>\n",
       "      <th>item_name</th>\n",
       "    </tr>\n",
       "  </thead>\n",
       "  <tbody>\n",
       "  </tbody>\n",
       "</table>\n",
       "</div>"
      ],
      "text/plain": [
       "Empty DataFrame\n",
       "Columns: [item_id, item_name]\n",
       "Index: []"
      ]
     },
     "execution_count": 190,
     "metadata": {},
     "output_type": "execute_result"
    }
   ],
   "source": [
    "gnames[gnames['item_id']==245950]"
   ]
  },
  {
   "cell_type": "code",
   "execution_count": 191,
   "metadata": {},
   "outputs": [
    {
     "data": {
      "text/html": [
       "<div>\n",
       "<style scoped>\n",
       "    .dataframe tbody tr th:only-of-type {\n",
       "        vertical-align: middle;\n",
       "    }\n",
       "\n",
       "    .dataframe tbody tr th {\n",
       "        vertical-align: top;\n",
       "    }\n",
       "\n",
       "    .dataframe thead th {\n",
       "        text-align: right;\n",
       "    }\n",
       "</style>\n",
       "<table border=\"1\" class=\"dataframe\">\n",
       "  <thead>\n",
       "    <tr style=\"text-align: right;\">\n",
       "      <th></th>\n",
       "      <th>Unnamed: 0</th>\n",
       "      <th>item_id</th>\n",
       "      <th>item_name</th>\n",
       "    </tr>\n",
       "  </thead>\n",
       "  <tbody>\n",
       "  </tbody>\n",
       "</table>\n",
       "</div>"
      ],
      "text/plain": [
       "Empty DataFrame\n",
       "Columns: [Unnamed: 0, item_id, item_name]\n",
       "Index: []"
      ]
     },
     "execution_count": 191,
     "metadata": {},
     "output_type": "execute_result"
    }
   ],
   "source": [
    "ids[ids['item_id']==245950]"
   ]
  },
  {
   "cell_type": "code",
   "execution_count": 151,
   "metadata": {},
   "outputs": [],
   "source": [
    "idg=440"
   ]
  },
  {
   "cell_type": "code",
   "execution_count": 152,
   "metadata": {},
   "outputs": [
    {
     "data": {
      "text/plain": [
       "False"
      ]
     },
     "execution_count": 152,
     "metadata": {},
     "output_type": "execute_result"
    }
   ],
   "source": [
    "(idg in iid) or (idg in ign)"
   ]
  },
  {
   "cell_type": "code",
   "execution_count": 153,
   "metadata": {},
   "outputs": [
    {
     "data": {
      "text/plain": [
       "False"
      ]
     },
     "execution_count": 153,
     "metadata": {},
     "output_type": "execute_result"
    }
   ],
   "source": [
    "idg in iid"
   ]
  },
  {
   "cell_type": "code",
   "execution_count": 155,
   "metadata": {},
   "outputs": [
    {
     "data": {
      "text/plain": [
       "False"
      ]
     },
     "execution_count": 155,
     "metadata": {},
     "output_type": "execute_result"
    }
   ],
   "source": [
    "idg in ids"
   ]
  },
  {
   "cell_type": "code",
   "execution_count": null,
   "metadata": {},
   "outputs": [],
   "source": []
  }
 ],
 "metadata": {
  "colab": {
   "authorship_tag": "ABX9TyMGKAChPynRmtd7P+LOVDw0",
   "provenance": []
  },
  "kernelspec": {
   "display_name": "Python 3 (ipykernel)",
   "language": "python",
   "name": "python3"
  },
  "language_info": {
   "codemirror_mode": {
    "name": "ipython",
    "version": 3
   },
   "file_extension": ".py",
   "mimetype": "text/x-python",
   "name": "python",
   "nbconvert_exporter": "python",
   "pygments_lexer": "ipython3",
   "version": "3.10.0rc2"
  }
 },
 "nbformat": 4,
 "nbformat_minor": 4
}

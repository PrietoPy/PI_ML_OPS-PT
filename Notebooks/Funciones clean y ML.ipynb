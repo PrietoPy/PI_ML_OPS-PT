{
 "cells": [
  {
   "cell_type": "code",
   "execution_count": 13,
   "metadata": {
    "executionInfo": {
     "elapsed": 5,
     "status": "ok",
     "timestamp": 1701923752042,
     "user": {
      "displayName": "Angel Prieto",
      "userId": "16374893148173809494"
     },
     "user_tz": 180
    },
    "id": "kNcna9Z0XZNv"
   },
   "outputs": [],
   "source": [
    "import pandas as pd\n",
    "import numpy as np\n",
    "from sklearn.metrics.pairwise import cosine_similarity"
   ]
  },
  {
   "cell_type": "code",
   "execution_count": 14,
   "metadata": {
    "executionInfo": {
     "elapsed": 1701,
     "status": "ok",
     "timestamp": 1701924976905,
     "user": {
      "displayName": "Angel Prieto",
      "userId": "16374893148173809494"
     },
     "user_tz": 180
    },
    "id": "CpZMNgF6XnWv"
   },
   "outputs": [],
   "source": [
    "games = pd.read_parquet('../Datasets/gamesoh.parquet')\n",
    "reviews = pd.read_parquet('../Datasets/reviews.parquet')\n",
    "items = pd.read_parquet('../Datasets/itemso.parquet')\n",
    "\n",
    "generos = list(games.drop(columns=['item_id']).columns)\n",
    "gnames = pd.read_parquet('../Datasets/games.parquet')\n",
    "fnames = pd.read_parquet('../Datasets/fnames.parquet')\n",
    "unames = pd.read_parquet('../Datasets/unames.parquet')\n",
    "\n",
    "lid=list(set(gnames['item_id']))\n",
    "lfid=list(set(fnames['item_id']))\n",
    "lanio=list(set(reviews['posted'].to_list()))"
   ]
  },
  {
   "cell_type": "code",
   "execution_count": 16,
   "metadata": {},
   "outputs": [
    {
     "name": "stdout",
     "output_type": "stream",
     "text": [
      "Uso de la memoria para games:   1.85 MB\n",
      "Uso de la memoria para reviews: 1.24 MB\n",
      "Uso de la memoria para items:   59.48 MB\n",
      "Uso de la memoria para gnames:  3.04 MB\n",
      "Uso de la memoria para fnames:  0.04 MB\n",
      "Uso de la memoria para unames:  6.34 MB\n",
      "Uso de la memoria en total:     72.00 MB\n"
     ]
    }
   ],
   "source": [
    "# Obtener el uso de la memoria por columna\n",
    "m1 = games.memory_usage(deep=True)\n",
    "m2 = reviews.memory_usage(deep=True)\n",
    "m3 = items.memory_usage(deep=True)\n",
    "m4 = gnames.memory_usage(deep=True)\n",
    "m5 = fnames.memory_usage(deep=True)\n",
    "m6 = unames.memory_usage(deep=True)\n",
    "# Sumar el uso total de la memoria\n",
    "t1 = m1.sum() / (1024 ** 2)  # Convertir a megabytes\n",
    "t2 = m2.sum() / (1024 ** 2)  # Convertir a megabytes\n",
    "t3 = m3.sum() / (1024 ** 2)  # Convertir a megabytes\n",
    "t4 = m4.sum() / (1024 ** 2)  # Convertir a megabytes\n",
    "t5 = m5.sum() / (1024 ** 2)  # Convertir a megabytes\n",
    "t6 = m6.sum() / (1024 ** 2)  # Convertir a megabytes\n",
    "\n",
    "print(f\"Uso de la memoria para games:   {t1:.2f} MB\")\n",
    "print(f\"Uso de la memoria para reviews: {t2:.2f} MB\")\n",
    "print(f\"Uso de la memoria para items:   {t3:.2f} MB\")\n",
    "print(f\"Uso de la memoria para gnames:  {t4:.2f} MB\")\n",
    "print(f\"Uso de la memoria para fnames:  {t5:.2f} MB\")\n",
    "print(f\"Uso de la memoria para unames:  {t6:.2f} MB\")\n",
    "print(f\"Uso de la memoria en total:     {t1+t2+t3+t4+t5+t6:.2f} MB\")"
   ]
  },
  {
   "cell_type": "code",
   "execution_count": 17,
   "metadata": {
    "id": "i_0VTeoVwHv_"
   },
   "outputs": [],
   "source": [
    "def PlayTimeGenre(genero):\n",
    "  genero=genero.upper()\n",
    "  if genero in generos:\n",
    "    lgames = games.loc[games[genero] == 1, ['item_id']]\n",
    "    lhoras = items.groupby('item_id')['playtime_forever'].sum().reset_index()\n",
    "    dfplay = pd.merge(lgames, lhoras, on='item_id', how='inner')\n",
    "    dfplay = pd.merge(dfplay, gnames, on='item_id', how='inner')\n",
    "    df_horas = dfplay.groupby('release_date')['playtime_forever'].sum().reset_index()\n",
    "    df_horas_ordenado = df_horas.sort_values(by='playtime_forever', ascending=False)\n",
    "    resultado=df_horas_ordenado.head(1)\n",
    "    prin = \"Año de lanzamiento con más horas jugadas para Género \" + genero\n",
    "    anio = int(resultado['release_date'].iloc[0])\n",
    "    return {prin : anio}\n",
    "  else:\n",
    "    return {\"El Genero indicado no se encuentra en la base de datos\":genero}"
   ]
  },
  {
   "cell_type": "code",
   "execution_count": 18,
   "metadata": {
    "colab": {
     "base_uri": "https://localhost:8080/"
    },
    "executionInfo": {
     "elapsed": 365,
     "status": "ok",
     "timestamp": 1701913794823,
     "user": {
      "displayName": "Angel Prieto",
      "userId": "16374893148173809494"
     },
     "user_tz": 180
    },
    "id": "4ewx48Y6yRWz",
    "outputId": "a715cf4f-302d-4970-92d6-922723eebd62"
   },
   "outputs": [
    {
     "data": {
      "text/plain": [
       "{'Año de lanzamiento con más horas jugadas para Género 2D': 2011}"
      ]
     },
     "execution_count": 18,
     "metadata": {},
     "output_type": "execute_result"
    }
   ],
   "source": [
    "PlayTimeGenre(\"2d\")"
   ]
  },
  {
   "cell_type": "code",
   "execution_count": 20,
   "metadata": {},
   "outputs": [],
   "source": [
    "def UserForGenre(genero:str):\n",
    "    genero=genero.upper()\n",
    "    if genero in generos:\n",
    "        dfgames = games[['item_id',genero]]\n",
    "        dfgames = dfgames[games[genero]==1]\n",
    "        dfuserg = pd.merge(dfgames,items,on='item_id',how='inner')\n",
    "        uhoras = dfuserg.groupby('user_id')['playtime_forever'].sum().reset_index()\n",
    "        uhoras = uhoras.sort_values(by='playtime_forever', ascending=False)\n",
    "        uhoras = uhoras.head(1)\n",
    "        uhoras = uhoras['user_id'].iloc[0]\n",
    "        dfuserg = dfuserg[dfuserg['user_id']==uhoras]\n",
    "        dfuserg = pd.merge(dfuserg,gnames,on='item_id',how='inner')\n",
    "        dfuserg = dfuserg.groupby('release_date')['playtime_forever'].sum().reset_index()\n",
    "        dfuserg = dfuserg.sort_values(by='release_date', ascending=False)\n",
    "        dfuserg = dfuserg[dfuserg['playtime_forever']>0]\n",
    "        dfuserg['playtime_forever'] = dfuserg['playtime_forever'].astype(int)\n",
    "        dfuserg = dfuserg[['playtime_forever', 'release_date']]\n",
    "        dfuserg.rename(columns={'release_date': 'Año', 'playtime_forever':'Horas'}, inplace=True)\n",
    "        #di = dfuserg.apply(lambda row: row.to_dict(), axis=1).tolist()\n",
    "        di=dfuserg.to_dict(orient='records')\n",
    "        uhoras = unames[unames['user_id']==uhoras]\n",
    "        uhoras = uhoras['user_name'].iloc[0]\n",
    "        prin=\"Usuario con más horas jugadas para Género \" + genero\n",
    "        return {prin:uhoras,\"Horas Jugadas\":di}\n",
    "    else:\n",
    "        return {\"El Genero indicado no se encuentra en la base de datos \":genero}"
   ]
  },
  {
   "cell_type": "code",
   "execution_count": 22,
   "metadata": {
    "colab": {
     "base_uri": "https://localhost:8080/"
    },
    "executionInfo": {
     "elapsed": 2408,
     "status": "ok",
     "timestamp": 1701915694083,
     "user": {
      "displayName": "Angel Prieto",
      "userId": "16374893148173809494"
     },
     "user_tz": 180
    },
    "id": "XwUtwaQla8-0",
    "outputId": "0c7e8d03-f0f8-4c93-e3db-15c0fcd04b1a"
   },
   "outputs": [
    {
     "data": {
      "text/plain": [
       "{'Usuario con más horas jugadas para Género ACTION': 'Sp3ctre',\n",
       " 'Horas Jugadas': [{'Horas': 43327, 'Año': 2017},\n",
       "  {'Horas': 30195, 'Año': 2016},\n",
       "  {'Horas': 394314, 'Año': 2015},\n",
       "  {'Horas': 132864, 'Año': 2014},\n",
       "  {'Horas': 122158, 'Año': 2013},\n",
       "  {'Horas': 384238, 'Año': 2012},\n",
       "  {'Horas': 155459, 'Año': 2011},\n",
       "  {'Horas': 82766, 'Año': 2010},\n",
       "  {'Horas': 108771, 'Año': 2009},\n",
       "  {'Horas': 8533, 'Año': 2008},\n",
       "  {'Horas': 112794, 'Año': 2007},\n",
       "  {'Horas': 90253, 'Año': 2006},\n",
       "  {'Horas': 21339, 'Año': 2005},\n",
       "  {'Horas': 127411, 'Año': 2004},\n",
       "  {'Horas': 7744, 'Año': 2003},\n",
       "  {'Horas': 238, 'Año': 2002},\n",
       "  {'Horas': 250, 'Año': 2001},\n",
       "  {'Horas': 70644, 'Año': 2000},\n",
       "  {'Horas': 44, 'Año': 1999},\n",
       "  {'Horas': 242, 'Año': 1997},\n",
       "  {'Horas': 217, 'Año': 1995}]}"
      ]
     },
     "execution_count": 22,
     "metadata": {},
     "output_type": "execute_result"
    }
   ],
   "source": [
    "UserForGenre('AcTiOn')"
   ]
  },
  {
   "cell_type": "code",
   "execution_count": 23,
   "metadata": {
    "executionInfo": {
     "elapsed": 575,
     "status": "ok",
     "timestamp": 1701925237861,
     "user": {
      "displayName": "Angel Prieto",
      "userId": "16374893148173809494"
     },
     "user_tz": 180
    },
    "id": "_khsUZJjIotG"
   },
   "outputs": [],
   "source": [
    "def UsersRecommend(anio):\n",
    "  if anio in lanio:\n",
    "    dfa = reviews[(reviews['posted'] == anio) & (reviews['recommend'] == True) & (reviews['sentiment_analysis'] >0)].copy()\n",
    "    dfa = dfa.groupby('item_id')['sentiment_analysis'].sum().reset_index()\n",
    "    dfa = dfa.sort_values('sentiment_analysis', ascending=False)\n",
    "    dfa['item_id'] = dfa['item_id'].astype(int)\n",
    "    top_games = dfa.head(3)['item_id'].to_list()\n",
    "    for i,g in enumerate(top_games):\n",
    "        if g in lid:\n",
    "            top_games[i]=gnames[gnames['item_id'] == top_games[i]].head(1)['title'].iloc[0]\n",
    "        else:\n",
    "            top_games[i]=fnames[fnames['item_id'] == top_games[i]].head(1)['item_name'].iloc[0]\n",
    "    return{'Puesto 1':top_games[0],'Puesto 2':top_games[1],'Puesto 3':top_games[2]}\n",
    "  else:\n",
    "    return {f'El año indicado no se encuentra en la base de datos: ':anio}"
   ]
  },
  {
   "cell_type": "code",
   "execution_count": 24,
   "metadata": {
    "colab": {
     "base_uri": "https://localhost:8080/"
    },
    "executionInfo": {
     "elapsed": 287,
     "status": "ok",
     "timestamp": 1701925240220,
     "user": {
      "displayName": "Angel Prieto",
      "userId": "16374893148173809494"
     },
     "user_tz": 180
    },
    "id": "dqDpiUgDJl02",
    "outputId": "f11f8eb3-4e08-4a2c-dc5e-930615ae892b"
   },
   "outputs": [
    {
     "data": {
      "text/plain": [
       "{'Puesto 1': 'Team Fortress 2',\n",
       " 'Puesto 2': \"Garry's Mod\",\n",
       " 'Puesto 3': 'Dota 2'}"
      ]
     },
     "execution_count": 24,
     "metadata": {},
     "output_type": "execute_result"
    }
   ],
   "source": [
    "UsersRecommend(2013)"
   ]
  },
  {
   "cell_type": "code",
   "execution_count": 25,
   "metadata": {
    "executionInfo": {
     "elapsed": 620,
     "status": "ok",
     "timestamp": 1701925706964,
     "user": {
      "displayName": "Angel Prieto",
      "userId": "16374893148173809494"
     },
     "user_tz": 180
    },
    "id": "zlKhYkXRa4r9"
   },
   "outputs": [],
   "source": [
    "def UsersNotRecommend(anio):\n",
    "  if anio in lanio:\n",
    "    dfa = reviews[(reviews['posted'] == anio) & (reviews['recommend'] == False) & (reviews['sentiment_analysis'] ==0)].copy()\n",
    "    dfa['sentiment_analysis']=1\n",
    "    dfa = dfa.groupby('item_id')['sentiment_analysis'].sum().reset_index()\n",
    "    dfa['item_id'] = dfa['item_id'].astype(int)\n",
    "    dfa = dfa.sort_values('sentiment_analysis', ascending=False)\n",
    "    top_games = dfa.head(3)['item_id'].to_list()\n",
    "    for i,g in enumerate(top_games):\n",
    "      if g in lid:\n",
    "        top_games[i]=gnames[gnames['item_id'] == top_games[i]].head(1)['title'].iloc[0]\n",
    "      else:\n",
    "        top_games[i]=fnames[fnames['item_id'] == top_games[i]].head(1)['item_name'].iloc[0]\n",
    "    if len(top_games)<2:\n",
    "      return{'Puesto 1':top_games[0],'Puesto 2':'','Puesto 3':''}\n",
    "    elif len(top_games)<3:\n",
    "      return{'Puesto 1':top_games[0],'Puesto 2':top_games[1],'Puesto 3':''}\n",
    "    else:\n",
    "      return{'Puesto 1':top_games[0],'Puesto 2':top_games[1],'Puesto 3':top_games[2]}\n",
    "  else:\n",
    "    return {f'El año indicado no se encuentra en la base de datos: ':anio}"
   ]
  },
  {
   "cell_type": "code",
   "execution_count": 26,
   "metadata": {
    "colab": {
     "base_uri": "https://localhost:8080/"
    },
    "executionInfo": {
     "elapsed": 5,
     "status": "ok",
     "timestamp": 1701925708050,
     "user": {
      "displayName": "Angel Prieto",
      "userId": "16374893148173809494"
     },
     "user_tz": 180
    },
    "id": "04lzQNVnbbak",
    "outputId": "b726f7ca-3c28-4196-f32d-6e631a715526"
   },
   "outputs": [
    {
     "data": {
      "text/plain": [
       "{'Puesto 1': 'Team Fortress 2',\n",
       " 'Puesto 2': 'Call of Duty®: Ghosts',\n",
       " 'Puesto 3': 'Half-Life: Before'}"
      ]
     },
     "execution_count": 26,
     "metadata": {},
     "output_type": "execute_result"
    }
   ],
   "source": [
    "UsersNotRecommend(2013)"
   ]
  },
  {
   "cell_type": "code",
   "execution_count": 49,
   "metadata": {
    "executionInfo": {
     "elapsed": 291,
     "status": "ok",
     "timestamp": 1701926871727,
     "user": {
      "displayName": "Angel Prieto",
      "userId": "16374893148173809494"
     },
     "user_tz": 180
    },
    "id": "1peKTeptvNRJ"
   },
   "outputs": [],
   "source": [
    "def sentiment_analysis(anio):\n",
    "    dfs = pd.merge(reviews[['item_id','sentiment_analysis']],gnames[['item_id','release_date']],on='item_id',how='inner')\n",
    "    dfs = dfs[dfs['release_date']==anio]\n",
    "    dfs = dfs[['sentiment_analysis']]\n",
    "    dfs = dfs.value_counts().reset_index()\n",
    "    dfs = dfs.sort_values('sentiment_analysis', ascending=True)\n",
    "    dfs = dfs['count'].to_list()\n",
    "    return{'Negative':dfs[0],'Neutral':dfs[1],'Positive':dfs[2]}"
   ]
  },
  {
   "cell_type": "code",
   "execution_count": 50,
   "metadata": {
    "colab": {
     "base_uri": "https://localhost:8080/"
    },
    "executionInfo": {
     "elapsed": 417,
     "status": "ok",
     "timestamp": 1701926898742,
     "user": {
      "displayName": "Angel Prieto",
      "userId": "16374893148173809494"
     },
     "user_tz": 180
    },
    "id": "87wrOWuuvx26",
    "outputId": "b316c60e-7f53-4ce0-c400-3e5bc040c7eb"
   },
   "outputs": [
    {
     "data": {
      "text/plain": [
       "{'Negative': 1040, 'Neutral': 1067, 'Positive': 4341}"
      ]
     },
     "execution_count": 50,
     "metadata": {},
     "output_type": "execute_result"
    }
   ],
   "source": [
    "sentiment_analysis(2014)"
   ]
  },
  {
   "cell_type": "code",
   "execution_count": 74,
   "metadata": {
    "id": "KqYLLkdnv0xn"
   },
   "outputs": [],
   "source": [
    "def recomendacion_juego(idg):\n",
    "    if (idg in lid) or (idg in lfid):\n",
    "        gx=pd.DataFrame(games.loc[idg])\n",
    "        gx=pd.pivot_table(gx,columns=['item_id', '2D', 'ACTION', 'ADVENTURE', 'ANIME', 'ARCADE',\n",
    "       'ATMOSPHERIC', 'CASUAL', 'CLASSIC', 'CO-OP', 'COMEDY', 'CUTE',\n",
    "       'DESIGN & ILLUSTRATION', 'DIFFICULT', 'EARLY ACCESS', 'EXPLORATION',\n",
    "       'FPS', 'FAMILY FRIENDLY', 'FANTASY', 'FEMALE PROTAGONIST',\n",
    "       'FIRST-PERSON', 'FREE TO PLAY', 'FUNNY', 'GORE', 'GREAT SOUNDTRACK',\n",
    "       'HIDDEN OBJECT', 'HORROR', 'INDIE', 'LOCAL CO-OP', 'LOCAL MULTIPLAYER',\n",
    "       'MASSIVELY MULTIPLAYER', 'MOVIE', 'MULTIPLAYER', 'ONLINE CO-OP',\n",
    "       'OPEN WORLD', 'PIXEL GRAPHICS', 'PLATFORMER', 'POINT & CLICK', 'PUZZLE',\n",
    "       'RPG', 'RPGMAKER', 'RACING', 'RETRO', 'ROGUE-LIKE', 'SANDBOX', 'SCI-FI',\n",
    "       \"SHOOT 'EM UP\", 'SHOOTER', 'SIMULATION', 'SINGLEPLAYER', 'SPACE',\n",
    "       'SPORTS', 'STORY RICH', 'STRATEGY', 'SURVIVAL', 'TACTICAL',\n",
    "       'THIRD PERSON', 'TURN-BASED', 'UTILITIES', 'VIOLENT', 'VISUAL NOVEL',\n",
    "       'ZOMBIES'])\n",
    "        gx.drop(columns=['item_id'], inplace=True)\n",
    "        xgames=games[games['item_id']!=idg].copy()\n",
    "        xgames=xgames.reset_index()\n",
    "        xgames.drop(columns=['index'],inplace=True)\n",
    "        ygames=xgames.copy()\n",
    "        xgames.drop(columns=['item_id'],inplace=True)\n",
    "        matriz = cosine_similarity(gx,xgames)\n",
    "        matrix = pd.DataFrame(matriz)\n",
    "        matriz=matriz[0]\n",
    "        reco=[]\n",
    "        for i in range(5):\n",
    "          imax=np.argmax(matriz)\n",
    "          reco.append(imax)\n",
    "          matriz[imax]=0\n",
    "        top_games = []\n",
    "        for i in reco:\n",
    "          top_games.append(ygames.iloc[i]['item_id'])\n",
    "        for i,g in enumerate(top_games):\n",
    "          if g in lid:\n",
    "            top_games[i]=gnames[gnames['item_id'] == top_games[i]]['title'].iloc[0]\n",
    "          else:\n",
    "            top_games[i]=fnames[fnames['item_id'] == top_games[i]]['item_name'].iloc[0]\n",
    "        return {\"juegos recomendados\":\n",
    "                 [{\"Puesto 1\":top_games[0]},\n",
    "                  {\"Puesto 2\":top_games[1]},\n",
    "                  {\"Puesto 3\":top_games[2]},\n",
    "                  {\"Puesto 4\":top_games[3]},\n",
    "                  {\"Puesto 5\":top_games[4]}]}\n",
    "    else:\n",
    "        return {\"id de juego no se encuentra en la base de datos \":idg}"
   ]
  },
  {
   "cell_type": "code",
   "execution_count": 75,
   "metadata": {},
   "outputs": [
    {
     "data": {
      "text/plain": [
       "{'juegos recomendados': [{'Puesto 1': 'Big Money! Deluxe'},\n",
       "  {'Puesto 2': 'Hammer Heads Deluxe'},\n",
       "  {'Puesto 3': 'Iggle Pop Deluxe'},\n",
       "  {'Puesto 4': 'Pizza Frenzy Deluxe'},\n",
       "  {'Puesto 5': 'Typer Shark! Deluxe'}]}"
      ]
     },
     "execution_count": 75,
     "metadata": {},
     "output_type": "execute_result"
    }
   ],
   "source": [
    "recomendacion_juego(440)"
   ]
  },
  {
   "cell_type": "code",
   "execution_count": null,
   "metadata": {},
   "outputs": [],
   "source": []
  }
 ],
 "metadata": {
  "colab": {
   "authorship_tag": "ABX9TyNJYkXo1b9fhtPf6Y1+A2f+",
   "provenance": []
  },
  "kernelspec": {
   "display_name": "Python 3 (ipykernel)",
   "language": "python",
   "name": "python3"
  },
  "language_info": {
   "codemirror_mode": {
    "name": "ipython",
    "version": 3
   },
   "file_extension": ".py",
   "mimetype": "text/x-python",
   "name": "python",
   "nbconvert_exporter": "python",
   "pygments_lexer": "ipython3",
   "version": "3.10.0rc2"
  }
 },
 "nbformat": 4,
 "nbformat_minor": 4
}

{
 "cells": [
  {
   "cell_type": "code",
   "execution_count": 80,
   "metadata": {
    "executionInfo": {
     "elapsed": 5,
     "status": "ok",
     "timestamp": 1701923752042,
     "user": {
      "displayName": "Angel Prieto",
      "userId": "16374893148173809494"
     },
     "user_tz": 180
    },
    "id": "kNcna9Z0XZNv"
   },
   "outputs": [],
   "source": [
    "import pandas as pd\n",
    "import numpy as np\n",
    "from sklearn.metrics.pairwise import cosine_similarity"
   ]
  },
  {
   "cell_type": "code",
   "execution_count": 81,
   "metadata": {
    "executionInfo": {
     "elapsed": 1701,
     "status": "ok",
     "timestamp": 1701924976905,
     "user": {
      "displayName": "Angel Prieto",
      "userId": "16374893148173809494"
     },
     "user_tz": 180
    },
    "id": "CpZMNgF6XnWv"
   },
   "outputs": [],
   "source": [
    "games = pd.read_parquet('../Datasets/gamesoh.parquet')\n",
    "reviews = pd.read_parquet('../Datasets/reviews.parquet')\n",
    "items = pd.read_parquet('../Datasets/itemso.parquet')\n",
    "\n",
    "generos = list(games.drop(columns=['item_id']).columns)\n",
    "gnames = pd.read_parquet('../Datasets/games.parquet')\n",
    "fnames = pd.read_parquet('../Datasets/fnames.parquet')\n",
    "unames = pd.read_parquet('../Datasets/unames.parquet')\n",
    "\n",
    "lid=list(set(gnames['item_id']))\n",
    "lfid=list(set(fnames['item_id']))\n",
    "lanio=list(set(reviews['posted'].to_list()))"
   ]
  },
  {
   "cell_type": "code",
   "execution_count": 79,
   "metadata": {},
   "outputs": [
    {
     "data": {
      "text/html": [
       "<div>\n",
       "<style scoped>\n",
       "    .dataframe tbody tr th:only-of-type {\n",
       "        vertical-align: middle;\n",
       "    }\n",
       "\n",
       "    .dataframe tbody tr th {\n",
       "        vertical-align: top;\n",
       "    }\n",
       "\n",
       "    .dataframe thead th {\n",
       "        text-align: right;\n",
       "    }\n",
       "</style>\n",
       "<table border=\"1\" class=\"dataframe\">\n",
       "  <thead>\n",
       "    <tr style=\"text-align: right;\">\n",
       "      <th></th>\n",
       "      <th>item_id</th>\n",
       "      <th>item_name</th>\n",
       "      <th>playtime_2weeks</th>\n",
       "      <th>playtime_forever</th>\n",
       "      <th>user_id</th>\n",
       "    </tr>\n",
       "  </thead>\n",
       "  <tbody>\n",
       "    <tr>\n",
       "      <th>0</th>\n",
       "      <td>10</td>\n",
       "      <td>Counter-Strike</td>\n",
       "      <td>0.0</td>\n",
       "      <td>6.0</td>\n",
       "      <td>615</td>\n",
       "    </tr>\n",
       "    <tr>\n",
       "      <th>1</th>\n",
       "      <td>20</td>\n",
       "      <td>Team Fortress Classic</td>\n",
       "      <td>0.0</td>\n",
       "      <td>0.0</td>\n",
       "      <td>615</td>\n",
       "    </tr>\n",
       "    <tr>\n",
       "      <th>2</th>\n",
       "      <td>30</td>\n",
       "      <td>Day of Defeat</td>\n",
       "      <td>0.0</td>\n",
       "      <td>7.0</td>\n",
       "      <td>615</td>\n",
       "    </tr>\n",
       "    <tr>\n",
       "      <th>3</th>\n",
       "      <td>40</td>\n",
       "      <td>Deathmatch Classic</td>\n",
       "      <td>0.0</td>\n",
       "      <td>0.0</td>\n",
       "      <td>615</td>\n",
       "    </tr>\n",
       "    <tr>\n",
       "      <th>4</th>\n",
       "      <td>50</td>\n",
       "      <td>Half-Life: Opposing Force</td>\n",
       "      <td>0.0</td>\n",
       "      <td>0.0</td>\n",
       "      <td>615</td>\n",
       "    </tr>\n",
       "  </tbody>\n",
       "</table>\n",
       "</div>"
      ],
      "text/plain": [
       "  item_id                  item_name  playtime_2weeks  playtime_forever  \\\n",
       "0      10             Counter-Strike              0.0               6.0   \n",
       "1      20      Team Fortress Classic              0.0               0.0   \n",
       "2      30              Day of Defeat              0.0               7.0   \n",
       "3      40         Deathmatch Classic              0.0               0.0   \n",
       "4      50  Half-Life: Opposing Force              0.0               0.0   \n",
       "\n",
       "   user_id  \n",
       "0      615  \n",
       "1      615  \n",
       "2      615  \n",
       "3      615  \n",
       "4      615  "
      ]
     },
     "execution_count": 79,
     "metadata": {},
     "output_type": "execute_result"
    }
   ],
   "source": [
    "items.head()"
   ]
  },
  {
   "cell_type": "code",
   "execution_count": 82,
   "metadata": {},
   "outputs": [
    {
     "name": "stdout",
     "output_type": "stream",
     "text": [
      "Uso total de la memoria: 1.85 MB\n",
      "Uso total de la memoria: 6.66 MB\n",
      "Uso total de la memoria: 118.97 MB\n",
      "Uso total de la memoria: 3.04 MB\n",
      "Uso total de la memoria: 0.04 MB\n",
      "Uso total de la memoria: 6.68 MB\n"
     ]
    }
   ],
   "source": [
    "# Obtener el uso de la memoria por columna\n",
    "m1 = games.memory_usage(deep=True)\n",
    "m2 = reviews.memory_usage(deep=True)\n",
    "m3 = items.memory_usage(deep=True)\n",
    "m4 = gnames.memory_usage(deep=True)\n",
    "m5 = fnames.memory_usage(deep=True)\n",
    "m6 = unames.memory_usage(deep=True)\n",
    "# Sumar el uso total de la memoria\n",
    "t1 = m1.sum() / (1024 ** 2)  # Convertir a megabytes\n",
    "t2 = m2.sum() / (1024 ** 2)  # Convertir a megabytes\n",
    "t3 = m3.sum() / (1024 ** 2)  # Convertir a megabytes\n",
    "t4 = m4.sum() / (1024 ** 2)  # Convertir a megabytes\n",
    "t5 = m5.sum() / (1024 ** 2)  # Convertir a megabytes\n",
    "t6 = m6.sum() / (1024 ** 2)  # Convertir a megabytes\n",
    "\n",
    "print(f\"Uso total de la memoria: {t1:.2f} MB\")\n",
    "print(f\"Uso total de la memoria: {t2:.2f} MB\")\n",
    "print(f\"Uso total de la memoria: {t3:.2f} MB\")\n",
    "print(f\"Uso total de la memoria: {t4:.2f} MB\")\n",
    "print(f\"Uso total de la memoria: {t5:.2f} MB\")\n",
    "print(f\"Uso total de la memoria: {t6:.2f} MB\")"
   ]
  },
  {
   "cell_type": "code",
   "execution_count": null,
   "metadata": {},
   "outputs": [],
   "source": []
  },
  {
   "cell_type": "code",
   "execution_count": 3,
   "metadata": {},
   "outputs": [
    {
     "data": {
      "text/html": [
       "<div>\n",
       "<style scoped>\n",
       "    .dataframe tbody tr th:only-of-type {\n",
       "        vertical-align: middle;\n",
       "    }\n",
       "\n",
       "    .dataframe tbody tr th {\n",
       "        vertical-align: top;\n",
       "    }\n",
       "\n",
       "    .dataframe thead th {\n",
       "        text-align: right;\n",
       "    }\n",
       "</style>\n",
       "<table border=\"1\" class=\"dataframe\">\n",
       "  <thead>\n",
       "    <tr style=\"text-align: right;\">\n",
       "      <th></th>\n",
       "      <th>item_id</th>\n",
       "      <th>2D</th>\n",
       "      <th>ACTION</th>\n",
       "      <th>ADVENTURE</th>\n",
       "      <th>ANIME</th>\n",
       "      <th>ARCADE</th>\n",
       "      <th>ATMOSPHERIC</th>\n",
       "      <th>CASUAL</th>\n",
       "      <th>CLASSIC</th>\n",
       "      <th>CO-OP</th>\n",
       "      <th>...</th>\n",
       "      <th>STORY RICH</th>\n",
       "      <th>STRATEGY</th>\n",
       "      <th>SURVIVAL</th>\n",
       "      <th>TACTICAL</th>\n",
       "      <th>THIRD PERSON</th>\n",
       "      <th>TURN-BASED</th>\n",
       "      <th>UTILITIES</th>\n",
       "      <th>VIOLENT</th>\n",
       "      <th>VISUAL NOVEL</th>\n",
       "      <th>ZOMBIES</th>\n",
       "    </tr>\n",
       "  </thead>\n",
       "  <tbody>\n",
       "    <tr>\n",
       "      <th>0</th>\n",
       "      <td>10</td>\n",
       "      <td>0</td>\n",
       "      <td>1</td>\n",
       "      <td>0</td>\n",
       "      <td>0</td>\n",
       "      <td>0</td>\n",
       "      <td>0</td>\n",
       "      <td>0</td>\n",
       "      <td>1</td>\n",
       "      <td>0</td>\n",
       "      <td>...</td>\n",
       "      <td>0</td>\n",
       "      <td>1</td>\n",
       "      <td>1</td>\n",
       "      <td>1</td>\n",
       "      <td>0</td>\n",
       "      <td>0</td>\n",
       "      <td>0</td>\n",
       "      <td>0</td>\n",
       "      <td>0</td>\n",
       "      <td>0</td>\n",
       "    </tr>\n",
       "    <tr>\n",
       "      <th>1</th>\n",
       "      <td>20</td>\n",
       "      <td>0</td>\n",
       "      <td>1</td>\n",
       "      <td>1</td>\n",
       "      <td>0</td>\n",
       "      <td>0</td>\n",
       "      <td>0</td>\n",
       "      <td>1</td>\n",
       "      <td>1</td>\n",
       "      <td>1</td>\n",
       "      <td>...</td>\n",
       "      <td>1</td>\n",
       "      <td>0</td>\n",
       "      <td>0</td>\n",
       "      <td>0</td>\n",
       "      <td>0</td>\n",
       "      <td>0</td>\n",
       "      <td>0</td>\n",
       "      <td>0</td>\n",
       "      <td>0</td>\n",
       "      <td>0</td>\n",
       "    </tr>\n",
       "    <tr>\n",
       "      <th>2</th>\n",
       "      <td>30</td>\n",
       "      <td>0</td>\n",
       "      <td>1</td>\n",
       "      <td>0</td>\n",
       "      <td>0</td>\n",
       "      <td>0</td>\n",
       "      <td>0</td>\n",
       "      <td>0</td>\n",
       "      <td>1</td>\n",
       "      <td>1</td>\n",
       "      <td>...</td>\n",
       "      <td>0</td>\n",
       "      <td>0</td>\n",
       "      <td>0</td>\n",
       "      <td>1</td>\n",
       "      <td>0</td>\n",
       "      <td>0</td>\n",
       "      <td>0</td>\n",
       "      <td>0</td>\n",
       "      <td>0</td>\n",
       "      <td>0</td>\n",
       "    </tr>\n",
       "    <tr>\n",
       "      <th>3</th>\n",
       "      <td>40</td>\n",
       "      <td>0</td>\n",
       "      <td>1</td>\n",
       "      <td>0</td>\n",
       "      <td>0</td>\n",
       "      <td>0</td>\n",
       "      <td>0</td>\n",
       "      <td>0</td>\n",
       "      <td>1</td>\n",
       "      <td>0</td>\n",
       "      <td>...</td>\n",
       "      <td>0</td>\n",
       "      <td>0</td>\n",
       "      <td>0</td>\n",
       "      <td>0</td>\n",
       "      <td>0</td>\n",
       "      <td>0</td>\n",
       "      <td>0</td>\n",
       "      <td>0</td>\n",
       "      <td>0</td>\n",
       "      <td>0</td>\n",
       "    </tr>\n",
       "    <tr>\n",
       "      <th>4</th>\n",
       "      <td>50</td>\n",
       "      <td>0</td>\n",
       "      <td>1</td>\n",
       "      <td>1</td>\n",
       "      <td>0</td>\n",
       "      <td>0</td>\n",
       "      <td>1</td>\n",
       "      <td>0</td>\n",
       "      <td>1</td>\n",
       "      <td>1</td>\n",
       "      <td>...</td>\n",
       "      <td>1</td>\n",
       "      <td>0</td>\n",
       "      <td>0</td>\n",
       "      <td>0</td>\n",
       "      <td>0</td>\n",
       "      <td>0</td>\n",
       "      <td>0</td>\n",
       "      <td>0</td>\n",
       "      <td>0</td>\n",
       "      <td>0</td>\n",
       "    </tr>\n",
       "  </tbody>\n",
       "</table>\n",
       "<p>5 rows × 62 columns</p>\n",
       "</div>"
      ],
      "text/plain": [
       "   item_id  2D  ACTION  ADVENTURE  ANIME  ARCADE  ATMOSPHERIC  CASUAL  \\\n",
       "0       10   0       1          0      0       0            0       0   \n",
       "1       20   0       1          1      0       0            0       1   \n",
       "2       30   0       1          0      0       0            0       0   \n",
       "3       40   0       1          0      0       0            0       0   \n",
       "4       50   0       1          1      0       0            1       0   \n",
       "\n",
       "   CLASSIC  CO-OP  ...  STORY RICH  STRATEGY  SURVIVAL  TACTICAL  \\\n",
       "0        1      0  ...           0         1         1         1   \n",
       "1        1      1  ...           1         0         0         0   \n",
       "2        1      1  ...           0         0         0         1   \n",
       "3        1      0  ...           0         0         0         0   \n",
       "4        1      1  ...           1         0         0         0   \n",
       "\n",
       "   THIRD PERSON  TURN-BASED  UTILITIES  VIOLENT  VISUAL NOVEL  ZOMBIES  \n",
       "0             0           0          0        0             0        0  \n",
       "1             0           0          0        0             0        0  \n",
       "2             0           0          0        0             0        0  \n",
       "3             0           0          0        0             0        0  \n",
       "4             0           0          0        0             0        0  \n",
       "\n",
       "[5 rows x 62 columns]"
      ]
     },
     "execution_count": 3,
     "metadata": {},
     "output_type": "execute_result"
    }
   ],
   "source": [
    "games.head()"
   ]
  },
  {
   "cell_type": "code",
   "execution_count": 31,
   "metadata": {},
   "outputs": [
    {
     "data": {
      "text/html": [
       "<div>\n",
       "<style scoped>\n",
       "    .dataframe tbody tr th:only-of-type {\n",
       "        vertical-align: middle;\n",
       "    }\n",
       "\n",
       "    .dataframe tbody tr th {\n",
       "        vertical-align: top;\n",
       "    }\n",
       "\n",
       "    .dataframe thead th {\n",
       "        text-align: right;\n",
       "    }\n",
       "</style>\n",
       "<table border=\"1\" class=\"dataframe\">\n",
       "  <thead>\n",
       "    <tr style=\"text-align: right;\">\n",
       "      <th></th>\n",
       "      <th>item_id</th>\n",
       "      <th>2D</th>\n",
       "    </tr>\n",
       "  </thead>\n",
       "  <tbody>\n",
       "    <tr>\n",
       "      <th>0</th>\n",
       "      <td>10</td>\n",
       "      <td>0</td>\n",
       "    </tr>\n",
       "    <tr>\n",
       "      <th>1</th>\n",
       "      <td>20</td>\n",
       "      <td>0</td>\n",
       "    </tr>\n",
       "    <tr>\n",
       "      <th>2</th>\n",
       "      <td>30</td>\n",
       "      <td>0</td>\n",
       "    </tr>\n",
       "    <tr>\n",
       "      <th>3</th>\n",
       "      <td>40</td>\n",
       "      <td>0</td>\n",
       "    </tr>\n",
       "    <tr>\n",
       "      <th>4</th>\n",
       "      <td>50</td>\n",
       "      <td>0</td>\n",
       "    </tr>\n",
       "    <tr>\n",
       "      <th>...</th>\n",
       "      <td>...</td>\n",
       "      <td>...</td>\n",
       "    </tr>\n",
       "    <tr>\n",
       "      <th>29798</th>\n",
       "      <td>2028055</td>\n",
       "      <td>0</td>\n",
       "    </tr>\n",
       "    <tr>\n",
       "      <th>29799</th>\n",
       "      <td>2028056</td>\n",
       "      <td>0</td>\n",
       "    </tr>\n",
       "    <tr>\n",
       "      <th>29800</th>\n",
       "      <td>2028062</td>\n",
       "      <td>0</td>\n",
       "    </tr>\n",
       "    <tr>\n",
       "      <th>29801</th>\n",
       "      <td>2028103</td>\n",
       "      <td>0</td>\n",
       "    </tr>\n",
       "    <tr>\n",
       "      <th>29802</th>\n",
       "      <td>2028850</td>\n",
       "      <td>0</td>\n",
       "    </tr>\n",
       "  </tbody>\n",
       "</table>\n",
       "<p>29803 rows × 2 columns</p>\n",
       "</div>"
      ],
      "text/plain": [
       "       item_id  2D\n",
       "0           10   0\n",
       "1           20   0\n",
       "2           30   0\n",
       "3           40   0\n",
       "4           50   0\n",
       "...        ...  ..\n",
       "29798  2028055   0\n",
       "29799  2028056   0\n",
       "29800  2028062   0\n",
       "29801  2028103   0\n",
       "29802  2028850   0\n",
       "\n",
       "[29803 rows x 2 columns]"
      ]
     },
     "execution_count": 31,
     "metadata": {},
     "output_type": "execute_result"
    }
   ],
   "source": [
    "games[['item_id','2D']]"
   ]
  },
  {
   "cell_type": "code",
   "execution_count": 4,
   "metadata": {},
   "outputs": [
    {
     "data": {
      "text/html": [
       "<div>\n",
       "<style scoped>\n",
       "    .dataframe tbody tr th:only-of-type {\n",
       "        vertical-align: middle;\n",
       "    }\n",
       "\n",
       "    .dataframe tbody tr th {\n",
       "        vertical-align: top;\n",
       "    }\n",
       "\n",
       "    .dataframe thead th {\n",
       "        text-align: right;\n",
       "    }\n",
       "</style>\n",
       "<table border=\"1\" class=\"dataframe\">\n",
       "  <thead>\n",
       "    <tr style=\"text-align: right;\">\n",
       "      <th></th>\n",
       "      <th>posted</th>\n",
       "      <th>item_id</th>\n",
       "      <th>recommend</th>\n",
       "      <th>user_id</th>\n",
       "      <th>sentiment_analysis</th>\n",
       "    </tr>\n",
       "  </thead>\n",
       "  <tbody>\n",
       "    <tr>\n",
       "      <th>0</th>\n",
       "      <td>2014</td>\n",
       "      <td>1250</td>\n",
       "      <td>True</td>\n",
       "      <td>0</td>\n",
       "      <td>1</td>\n",
       "    </tr>\n",
       "    <tr>\n",
       "      <th>1</th>\n",
       "      <td>2014</td>\n",
       "      <td>113200</td>\n",
       "      <td>True</td>\n",
       "      <td>1</td>\n",
       "      <td>2</td>\n",
       "    </tr>\n",
       "    <tr>\n",
       "      <th>2</th>\n",
       "      <td>2014</td>\n",
       "      <td>440</td>\n",
       "      <td>True</td>\n",
       "      <td>1</td>\n",
       "      <td>2</td>\n",
       "    </tr>\n",
       "    <tr>\n",
       "      <th>3</th>\n",
       "      <td>2014</td>\n",
       "      <td>730</td>\n",
       "      <td>True</td>\n",
       "      <td>2</td>\n",
       "      <td>2</td>\n",
       "    </tr>\n",
       "    <tr>\n",
       "      <th>4</th>\n",
       "      <td>2015</td>\n",
       "      <td>105600</td>\n",
       "      <td>True</td>\n",
       "      <td>2</td>\n",
       "      <td>2</td>\n",
       "    </tr>\n",
       "  </tbody>\n",
       "</table>\n",
       "</div>"
      ],
      "text/plain": [
       "   posted item_id recommend  user_id  sentiment_analysis\n",
       "0    2014    1250      True        0                   1\n",
       "1    2014  113200      True        1                   2\n",
       "2    2014     440      True        1                   2\n",
       "3    2014     730      True        2                   2\n",
       "4    2015  105600      True        2                   2"
      ]
     },
     "execution_count": 4,
     "metadata": {},
     "output_type": "execute_result"
    }
   ],
   "source": [
    "reviews.head()"
   ]
  },
  {
   "cell_type": "code",
   "execution_count": 5,
   "metadata": {},
   "outputs": [
    {
     "data": {
      "text/html": [
       "<div>\n",
       "<style scoped>\n",
       "    .dataframe tbody tr th:only-of-type {\n",
       "        vertical-align: middle;\n",
       "    }\n",
       "\n",
       "    .dataframe tbody tr th {\n",
       "        vertical-align: top;\n",
       "    }\n",
       "\n",
       "    .dataframe thead th {\n",
       "        text-align: right;\n",
       "    }\n",
       "</style>\n",
       "<table border=\"1\" class=\"dataframe\">\n",
       "  <thead>\n",
       "    <tr style=\"text-align: right;\">\n",
       "      <th></th>\n",
       "      <th>item_id</th>\n",
       "      <th>item_name</th>\n",
       "      <th>playtime_2weeks</th>\n",
       "      <th>playtime_forever</th>\n",
       "      <th>user_id</th>\n",
       "    </tr>\n",
       "  </thead>\n",
       "  <tbody>\n",
       "    <tr>\n",
       "      <th>0</th>\n",
       "      <td>10</td>\n",
       "      <td>Counter-Strike</td>\n",
       "      <td>0.0</td>\n",
       "      <td>6.0</td>\n",
       "      <td>615</td>\n",
       "    </tr>\n",
       "    <tr>\n",
       "      <th>1</th>\n",
       "      <td>20</td>\n",
       "      <td>Team Fortress Classic</td>\n",
       "      <td>0.0</td>\n",
       "      <td>0.0</td>\n",
       "      <td>615</td>\n",
       "    </tr>\n",
       "    <tr>\n",
       "      <th>2</th>\n",
       "      <td>30</td>\n",
       "      <td>Day of Defeat</td>\n",
       "      <td>0.0</td>\n",
       "      <td>7.0</td>\n",
       "      <td>615</td>\n",
       "    </tr>\n",
       "    <tr>\n",
       "      <th>3</th>\n",
       "      <td>40</td>\n",
       "      <td>Deathmatch Classic</td>\n",
       "      <td>0.0</td>\n",
       "      <td>0.0</td>\n",
       "      <td>615</td>\n",
       "    </tr>\n",
       "    <tr>\n",
       "      <th>4</th>\n",
       "      <td>50</td>\n",
       "      <td>Half-Life: Opposing Force</td>\n",
       "      <td>0.0</td>\n",
       "      <td>0.0</td>\n",
       "      <td>615</td>\n",
       "    </tr>\n",
       "  </tbody>\n",
       "</table>\n",
       "</div>"
      ],
      "text/plain": [
       "  item_id                  item_name  playtime_2weeks  playtime_forever  \\\n",
       "0      10             Counter-Strike              0.0               6.0   \n",
       "1      20      Team Fortress Classic              0.0               0.0   \n",
       "2      30              Day of Defeat              0.0               7.0   \n",
       "3      40         Deathmatch Classic              0.0               0.0   \n",
       "4      50  Half-Life: Opposing Force              0.0               0.0   \n",
       "\n",
       "   user_id  \n",
       "0      615  \n",
       "1      615  \n",
       "2      615  \n",
       "3      615  \n",
       "4      615  "
      ]
     },
     "execution_count": 5,
     "metadata": {},
     "output_type": "execute_result"
    }
   ],
   "source": [
    "items.head()"
   ]
  },
  {
   "cell_type": "code",
   "execution_count": 6,
   "metadata": {},
   "outputs": [
    {
     "data": {
      "text/html": [
       "<div>\n",
       "<style scoped>\n",
       "    .dataframe tbody tr th:only-of-type {\n",
       "        vertical-align: middle;\n",
       "    }\n",
       "\n",
       "    .dataframe tbody tr th {\n",
       "        vertical-align: top;\n",
       "    }\n",
       "\n",
       "    .dataframe thead th {\n",
       "        text-align: right;\n",
       "    }\n",
       "</style>\n",
       "<table border=\"1\" class=\"dataframe\">\n",
       "  <thead>\n",
       "    <tr style=\"text-align: right;\">\n",
       "      <th></th>\n",
       "      <th>user_id</th>\n",
       "      <th>user_name</th>\n",
       "    </tr>\n",
       "  </thead>\n",
       "  <tbody>\n",
       "    <tr>\n",
       "      <th>0</th>\n",
       "      <td>0</td>\n",
       "      <td>--000--</td>\n",
       "    </tr>\n",
       "    <tr>\n",
       "      <th>1</th>\n",
       "      <td>1</td>\n",
       "      <td>--ace--</td>\n",
       "    </tr>\n",
       "    <tr>\n",
       "      <th>2</th>\n",
       "      <td>2</td>\n",
       "      <td>--ionex--</td>\n",
       "    </tr>\n",
       "    <tr>\n",
       "      <th>3</th>\n",
       "      <td>3</td>\n",
       "      <td>-2SV-vuLB-Kg</td>\n",
       "    </tr>\n",
       "    <tr>\n",
       "      <th>4</th>\n",
       "      <td>4</td>\n",
       "      <td>-Azsael-</td>\n",
       "    </tr>\n",
       "  </tbody>\n",
       "</table>\n",
       "</div>"
      ],
      "text/plain": [
       "   user_id     user_name\n",
       "0        0       --000--\n",
       "1        1       --ace--\n",
       "2        2     --ionex--\n",
       "3        3  -2SV-vuLB-Kg\n",
       "4        4      -Azsael-"
      ]
     },
     "execution_count": 6,
     "metadata": {},
     "output_type": "execute_result"
    }
   ],
   "source": [
    "unames.head()"
   ]
  },
  {
   "cell_type": "code",
   "execution_count": 7,
   "metadata": {},
   "outputs": [
    {
     "data": {
      "text/html": [
       "<div>\n",
       "<style scoped>\n",
       "    .dataframe tbody tr th:only-of-type {\n",
       "        vertical-align: middle;\n",
       "    }\n",
       "\n",
       "    .dataframe tbody tr th {\n",
       "        vertical-align: top;\n",
       "    }\n",
       "\n",
       "    .dataframe thead th {\n",
       "        text-align: right;\n",
       "    }\n",
       "</style>\n",
       "<table border=\"1\" class=\"dataframe\">\n",
       "  <thead>\n",
       "    <tr style=\"text-align: right;\">\n",
       "      <th></th>\n",
       "      <th>title</th>\n",
       "      <th>release_date</th>\n",
       "      <th>item_id</th>\n",
       "    </tr>\n",
       "  </thead>\n",
       "  <tbody>\n",
       "    <tr>\n",
       "      <th>120416</th>\n",
       "      <td>Counter-Strike</td>\n",
       "      <td>2000</td>\n",
       "      <td>10</td>\n",
       "    </tr>\n",
       "    <tr>\n",
       "      <th>120413</th>\n",
       "      <td>Team Fortress Classic</td>\n",
       "      <td>1999</td>\n",
       "      <td>20</td>\n",
       "    </tr>\n",
       "    <tr>\n",
       "      <th>120424</th>\n",
       "      <td>Day of Defeat</td>\n",
       "      <td>2003</td>\n",
       "      <td>30</td>\n",
       "    </tr>\n",
       "    <tr>\n",
       "      <th>120418</th>\n",
       "      <td>Deathmatch Classic</td>\n",
       "      <td>2001</td>\n",
       "      <td>40</td>\n",
       "    </tr>\n",
       "    <tr>\n",
       "      <th>120414</th>\n",
       "      <td>Half-Life: Opposing Force</td>\n",
       "      <td>1999</td>\n",
       "      <td>50</td>\n",
       "    </tr>\n",
       "  </tbody>\n",
       "</table>\n",
       "</div>"
      ],
      "text/plain": [
       "                            title  release_date  item_id\n",
       "120416             Counter-Strike          2000       10\n",
       "120413      Team Fortress Classic          1999       20\n",
       "120424              Day of Defeat          2003       30\n",
       "120418         Deathmatch Classic          2001       40\n",
       "120414  Half-Life: Opposing Force          1999       50"
      ]
     },
     "execution_count": 7,
     "metadata": {},
     "output_type": "execute_result"
    }
   ],
   "source": [
    "gnames.head()"
   ]
  },
  {
   "cell_type": "code",
   "execution_count": 38,
   "metadata": {},
   "outputs": [
    {
     "data": {
      "text/html": [
       "<div>\n",
       "<style scoped>\n",
       "    .dataframe tbody tr th:only-of-type {\n",
       "        vertical-align: middle;\n",
       "    }\n",
       "\n",
       "    .dataframe tbody tr th {\n",
       "        vertical-align: top;\n",
       "    }\n",
       "\n",
       "    .dataframe thead th {\n",
       "        text-align: right;\n",
       "    }\n",
       "</style>\n",
       "<table border=\"1\" class=\"dataframe\">\n",
       "  <thead>\n",
       "    <tr style=\"text-align: right;\">\n",
       "      <th></th>\n",
       "      <th>item_id</th>\n",
       "      <th>item_name</th>\n",
       "    </tr>\n",
       "  </thead>\n",
       "  <tbody>\n",
       "    <tr>\n",
       "      <th>0</th>\n",
       "      <td>277950</td>\n",
       "      <td>Deadbreed®</td>\n",
       "    </tr>\n",
       "    <tr>\n",
       "      <th>1</th>\n",
       "      <td>226700</td>\n",
       "      <td>Infestation: Survivor Stories 2020</td>\n",
       "    </tr>\n",
       "    <tr>\n",
       "      <th>2</th>\n",
       "      <td>244850</td>\n",
       "      <td>Space Engineers</td>\n",
       "    </tr>\n",
       "    <tr>\n",
       "      <th>3</th>\n",
       "      <td>218620</td>\n",
       "      <td>PAYDAY 2</td>\n",
       "    </tr>\n",
       "    <tr>\n",
       "      <th>4</th>\n",
       "      <td>428190</td>\n",
       "      <td>MadOut Open City</td>\n",
       "    </tr>\n",
       "  </tbody>\n",
       "</table>\n",
       "</div>"
      ],
      "text/plain": [
       "   item_id                           item_name\n",
       "0   277950                          Deadbreed®\n",
       "1   226700  Infestation: Survivor Stories 2020\n",
       "2   244850                     Space Engineers\n",
       "3   218620                            PAYDAY 2\n",
       "4   428190                    MadOut Open City"
      ]
     },
     "execution_count": 38,
     "metadata": {},
     "output_type": "execute_result"
    }
   ],
   "source": [
    "fnames.head()"
   ]
  },
  {
   "cell_type": "code",
   "execution_count": 10,
   "metadata": {},
   "outputs": [
    {
     "name": "stdout",
     "output_type": "stream",
     "text": [
      "<class 'pandas.core.frame.DataFrame'>\n",
      "Index: 29803 entries, 120416 to 89735\n",
      "Data columns (total 3 columns):\n",
      " #   Column        Non-Null Count  Dtype \n",
      "---  ------        --------------  ----- \n",
      " 0   title         29802 non-null  object\n",
      " 1   release_date  29803 non-null  int32 \n",
      " 2   item_id       29803 non-null  int32 \n",
      "dtypes: int32(2), object(1)\n",
      "memory usage: 698.5+ KB\n"
     ]
    }
   ],
   "source": [
    "gnames.info()"
   ]
  },
  {
   "cell_type": "code",
   "execution_count": 11,
   "metadata": {},
   "outputs": [
    {
     "name": "stdout",
     "output_type": "stream",
     "text": [
      "<class 'pandas.core.frame.DataFrame'>\n",
      "RangeIndex: 29803 entries, 0 to 29802\n",
      "Data columns (total 62 columns):\n",
      " #   Column                 Non-Null Count  Dtype\n",
      "---  ------                 --------------  -----\n",
      " 0   item_id                29803 non-null  int32\n",
      " 1   2D                     29803 non-null  int8 \n",
      " 2   ACTION                 29803 non-null  int8 \n",
      " 3   ADVENTURE              29803 non-null  int8 \n",
      " 4   ANIME                  29803 non-null  int8 \n",
      " 5   ARCADE                 29803 non-null  int8 \n",
      " 6   ATMOSPHERIC            29803 non-null  int8 \n",
      " 7   CASUAL                 29803 non-null  int8 \n",
      " 8   CLASSIC                29803 non-null  int8 \n",
      " 9   CO-OP                  29803 non-null  int8 \n",
      " 10  COMEDY                 29803 non-null  int8 \n",
      " 11  CUTE                   29803 non-null  int8 \n",
      " 12  DESIGN & ILLUSTRATION  29803 non-null  int8 \n",
      " 13  DIFFICULT              29803 non-null  int8 \n",
      " 14  EARLY ACCESS           29803 non-null  int8 \n",
      " 15  EXPLORATION            29803 non-null  int8 \n",
      " 16  FPS                    29803 non-null  int8 \n",
      " 17  FAMILY FRIENDLY        29803 non-null  int8 \n",
      " 18  FANTASY                29803 non-null  int8 \n",
      " 19  FEMALE PROTAGONIST     29803 non-null  int8 \n",
      " 20  FIRST-PERSON           29803 non-null  int8 \n",
      " 21  FREE TO PLAY           29803 non-null  int8 \n",
      " 22  FUNNY                  29803 non-null  int8 \n",
      " 23  GORE                   29803 non-null  int8 \n",
      " 24  GREAT SOUNDTRACK       29803 non-null  int8 \n",
      " 25  HIDDEN OBJECT          29803 non-null  int8 \n",
      " 26  HORROR                 29803 non-null  int8 \n",
      " 27  INDIE                  29803 non-null  int8 \n",
      " 28  LOCAL CO-OP            29803 non-null  int8 \n",
      " 29  LOCAL MULTIPLAYER      29803 non-null  int8 \n",
      " 30  MASSIVELY MULTIPLAYER  29803 non-null  int8 \n",
      " 31  MOVIE                  29803 non-null  int8 \n",
      " 32  MULTIPLAYER            29803 non-null  int8 \n",
      " 33  ONLINE CO-OP           29803 non-null  int8 \n",
      " 34  OPEN WORLD             29803 non-null  int8 \n",
      " 35  PIXEL GRAPHICS         29803 non-null  int8 \n",
      " 36  PLATFORMER             29803 non-null  int8 \n",
      " 37  POINT & CLICK          29803 non-null  int8 \n",
      " 38  PUZZLE                 29803 non-null  int8 \n",
      " 39  RPG                    29803 non-null  int8 \n",
      " 40  RPGMAKER               29803 non-null  int8 \n",
      " 41  RACING                 29803 non-null  int8 \n",
      " 42  RETRO                  29803 non-null  int8 \n",
      " 43  ROGUE-LIKE             29803 non-null  int8 \n",
      " 44  SANDBOX                29803 non-null  int8 \n",
      " 45  SCI-FI                 29803 non-null  int8 \n",
      " 46  SHOOT 'EM UP           29803 non-null  int8 \n",
      " 47  SHOOTER                29803 non-null  int8 \n",
      " 48  SIMULATION             29803 non-null  int8 \n",
      " 49  SINGLEPLAYER           29803 non-null  int8 \n",
      " 50  SPACE                  29803 non-null  int8 \n",
      " 51  SPORTS                 29803 non-null  int8 \n",
      " 52  STORY RICH             29803 non-null  int8 \n",
      " 53  STRATEGY               29803 non-null  int8 \n",
      " 54  SURVIVAL               29803 non-null  int8 \n",
      " 55  TACTICAL               29803 non-null  int8 \n",
      " 56  THIRD PERSON           29803 non-null  int8 \n",
      " 57  TURN-BASED             29803 non-null  int8 \n",
      " 58  UTILITIES              29803 non-null  int8 \n",
      " 59  VIOLENT                29803 non-null  int8 \n",
      " 60  VISUAL NOVEL           29803 non-null  int8 \n",
      " 61  ZOMBIES                29803 non-null  int8 \n",
      "dtypes: int32(1), int8(61)\n",
      "memory usage: 1.8 MB\n"
     ]
    }
   ],
   "source": [
    "games.info()"
   ]
  },
  {
   "cell_type": "code",
   "execution_count": 12,
   "metadata": {},
   "outputs": [
    {
     "name": "stdout",
     "output_type": "stream",
     "text": [
      "<class 'pandas.core.frame.DataFrame'>\n",
      "RangeIndex: 5197727 entries, 0 to 5197726\n",
      "Data columns (total 5 columns):\n",
      " #   Column            Dtype  \n",
      "---  ------            -----  \n",
      " 0   item_id           object \n",
      " 1   item_name         object \n",
      " 2   playtime_2weeks   float64\n",
      " 3   playtime_forever  float64\n",
      " 4   user_id           int64  \n",
      "dtypes: float64(2), int64(1), object(2)\n",
      "memory usage: 198.3+ MB\n"
     ]
    }
   ],
   "source": [
    "items.info()"
   ]
  },
  {
   "cell_type": "code",
   "execution_count": 13,
   "metadata": {},
   "outputs": [],
   "source": [
    "items['item_id'] = items['item_id'].astype(int)"
   ]
  },
  {
   "cell_type": "code",
   "execution_count": 14,
   "metadata": {},
   "outputs": [],
   "source": [
    "items['user_id'] = items['user_id'].astype(int)"
   ]
  },
  {
   "cell_type": "code",
   "execution_count": 15,
   "metadata": {},
   "outputs": [
    {
     "name": "stdout",
     "output_type": "stream",
     "text": [
      "<class 'pandas.core.frame.DataFrame'>\n",
      "RangeIndex: 87998 entries, 0 to 87997\n",
      "Data columns (total 2 columns):\n",
      " #   Column     Non-Null Count  Dtype \n",
      "---  ------     --------------  ----- \n",
      " 0   user_id    87998 non-null  int64 \n",
      " 1   user_name  87998 non-null  object\n",
      "dtypes: int64(1), object(1)\n",
      "memory usage: 1.3+ MB\n"
     ]
    }
   ],
   "source": [
    "unames.info()"
   ]
  },
  {
   "cell_type": "code",
   "execution_count": 16,
   "metadata": {},
   "outputs": [],
   "source": [
    "unames['user_id'] = unames['user_id'].astype(int)"
   ]
  },
  {
   "cell_type": "code",
   "execution_count": 66,
   "metadata": {},
   "outputs": [
    {
     "name": "stdout",
     "output_type": "stream",
     "text": [
      "<class 'pandas.core.frame.DataFrame'>\n",
      "RangeIndex: 59333 entries, 0 to 59332\n",
      "Data columns (total 5 columns):\n",
      " #   Column              Non-Null Count  Dtype \n",
      "---  ------              --------------  ----- \n",
      " 0   posted              59333 non-null  int32 \n",
      " 1   item_id             59305 non-null  object\n",
      " 2   recommend           59305 non-null  object\n",
      " 3   user_id             59333 non-null  int64 \n",
      " 4   sentiment_analysis  59333 non-null  int64 \n",
      "dtypes: int32(1), int64(2), object(2)\n",
      "memory usage: 2.0+ MB\n"
     ]
    }
   ],
   "source": [
    "reviews.info()"
   ]
  },
  {
   "cell_type": "code",
   "execution_count": 70,
   "metadata": {},
   "outputs": [],
   "source": [
    "reviews.dropna(subset='item_id', inplace =True)"
   ]
  },
  {
   "cell_type": "code",
   "execution_count": 71,
   "metadata": {},
   "outputs": [],
   "source": [
    "reviews['item_id'] = reviews['item_id'].astype(int)"
   ]
  },
  {
   "cell_type": "code",
   "execution_count": 19,
   "metadata": {
    "id": "i_0VTeoVwHv_"
   },
   "outputs": [],
   "source": [
    "def PlayTimeGenre(genero):\n",
    "  genero=genero.upper()\n",
    "  if genero in generos:\n",
    "    lgames = games.loc[games[genero] == 1, ['item_id']]\n",
    "    lhoras = items.groupby('item_id')['playtime_forever'].sum().reset_index()\n",
    "    dfplay = pd.merge(lgames, lhoras, on='item_id', how='inner')\n",
    "    dfplay = pd.merge(dfplay, gnames, on='item_id', how='inner')\n",
    "    df_horas = dfplay.groupby('release_date')['playtime_forever'].sum().reset_index()\n",
    "    df_horas_ordenado = df_horas.sort_values(by='playtime_forever', ascending=False)\n",
    "    resultado=df_horas_ordenado.head(1)\n",
    "    prin = \"Año de lanzamiento con más horas jugadas para Género \" + genero\n",
    "    anio = int(resultado['release_date'].iloc[0])\n",
    "    return {prin : anio}\n",
    "  else:\n",
    "    return {\"El Genero indicado no se encuentra en la base de datos\":genero}"
   ]
  },
  {
   "cell_type": "code",
   "execution_count": 20,
   "metadata": {
    "colab": {
     "base_uri": "https://localhost:8080/"
    },
    "executionInfo": {
     "elapsed": 365,
     "status": "ok",
     "timestamp": 1701913794823,
     "user": {
      "displayName": "Angel Prieto",
      "userId": "16374893148173809494"
     },
     "user_tz": 180
    },
    "id": "4ewx48Y6yRWz",
    "outputId": "a715cf4f-302d-4970-92d6-922723eebd62"
   },
   "outputs": [
    {
     "data": {
      "text/plain": [
       "{'Año de lanzamiento con más horas jugadas para Género 2D': 2011}"
      ]
     },
     "execution_count": 20,
     "metadata": {},
     "output_type": "execute_result"
    }
   ],
   "source": [
    "PlayTimeGenre(\"2d\")"
   ]
  },
  {
   "cell_type": "code",
   "execution_count": 34,
   "metadata": {
    "id": "mif3NiQsadYE"
   },
   "outputs": [],
   "source": [
    "def UserForGenre(genero):\n",
    "  genero=genero.upper()\n",
    "  if genero in generos:\n",
    "    dfgames = games[['item_id',genero]]\n",
    "    dfgames = dfgames[games[genero]==1]\n",
    "    dfuserg = pd.merge(dfgames,items,on='item_id',how='inner')\n",
    "    uhoras = dfuserg.groupby('user_id')['playtime_forever'].sum().reset_index()\n",
    "    uhoras = uhoras.sort_values(by='playtime_forever', ascending=False)\n",
    "    uhoras = uhoras.head(1)\n",
    "    uhoras = uhoras['user_id'].iloc[0]\n",
    "    dfuserg = dfuserg[dfuserg['user_id']==uhoras]\n",
    "    dfuserg = pd.merge(dfuserg,gnames,on='item_id',how='inner')\n",
    "    dfuserg = dfuserg.groupby('release_date')['playtime_forever'].sum().reset_index()\n",
    "    dfuserg = dfuserg.sort_values(by='release_date', ascending=False)\n",
    "    dfuserg = dfuserg[dfuserg['playtime_forever']>0]\n",
    "    dfuserg['playtime_forever'] = dfuserg['playtime_forever'].astype(int)\n",
    "    dfuserg = dfuserg[['playtime_forever', 'release_date']]\n",
    "    dfuserg.rename(columns={'release_date': 'Año', 'playtime_forever':'Horas'}, inplace=True)\n",
    "    di = dfuserg.apply(lambda row: row.to_dict(), axis=1).tolist()\n",
    "    uhoras = unames[unames['user_id']==uhoras]\n",
    "    uhoras = uhoras['user_id'].iloc[0]\n",
    "    prin=\"Usuario con más horas jugadas para Género \" + genero\n",
    "    return {prin:uhoras,\"Horas Jugadas\":di}\n",
    "  else:\n",
    "    return {\"El Genero indicado no se encuentra en la base de datos \":genero}"
   ]
  },
  {
   "cell_type": "code",
   "execution_count": 35,
   "metadata": {
    "colab": {
     "base_uri": "https://localhost:8080/"
    },
    "executionInfo": {
     "elapsed": 2408,
     "status": "ok",
     "timestamp": 1701915694083,
     "user": {
      "displayName": "Angel Prieto",
      "userId": "16374893148173809494"
     },
     "user_tz": 180
    },
    "id": "XwUtwaQla8-0",
    "outputId": "0c7e8d03-f0f8-4c93-e3db-15c0fcd04b1a"
   },
   "outputs": [
    {
     "data": {
      "text/plain": [
       "{'Usuario con más horas jugadas para Género ACTION': 16914,\n",
       " 'Horas Jugadas': [{'Horas': 43327, 'Año': 2017},\n",
       "  {'Horas': 30195, 'Año': 2016},\n",
       "  {'Horas': 394314, 'Año': 2015},\n",
       "  {'Horas': 132864, 'Año': 2014},\n",
       "  {'Horas': 122158, 'Año': 2013},\n",
       "  {'Horas': 384238, 'Año': 2012},\n",
       "  {'Horas': 155459, 'Año': 2011},\n",
       "  {'Horas': 82766, 'Año': 2010},\n",
       "  {'Horas': 108771, 'Año': 2009},\n",
       "  {'Horas': 8533, 'Año': 2008},\n",
       "  {'Horas': 112794, 'Año': 2007},\n",
       "  {'Horas': 90253, 'Año': 2006},\n",
       "  {'Horas': 21339, 'Año': 2005},\n",
       "  {'Horas': 127411, 'Año': 2004},\n",
       "  {'Horas': 7744, 'Año': 2003},\n",
       "  {'Horas': 238, 'Año': 2002},\n",
       "  {'Horas': 250, 'Año': 2001},\n",
       "  {'Horas': 70644, 'Año': 2000},\n",
       "  {'Horas': 44, 'Año': 1999},\n",
       "  {'Horas': 242, 'Año': 1997},\n",
       "  {'Horas': 217, 'Año': 1995}]}"
      ]
     },
     "execution_count": 35,
     "metadata": {},
     "output_type": "execute_result"
    }
   ],
   "source": [
    "UserForGenre('AcTiOn')"
   ]
  },
  {
   "cell_type": "code",
   "execution_count": 60,
   "metadata": {
    "executionInfo": {
     "elapsed": 575,
     "status": "ok",
     "timestamp": 1701925237861,
     "user": {
      "displayName": "Angel Prieto",
      "userId": "16374893148173809494"
     },
     "user_tz": 180
    },
    "id": "_khsUZJjIotG"
   },
   "outputs": [],
   "source": [
    "def UsersRecommend(anio):\n",
    "  if anio in lanio:\n",
    "    dfa = reviews[(reviews['posted'] == anio) & (reviews['recommend'] == True) & (reviews['sentiment_analysis'] >0)].copy()\n",
    "    dfa = dfa.groupby('item_id')['sentiment_analysis'].sum().reset_index()\n",
    "    dfa = dfa.sort_values('sentiment_analysis', ascending=False)\n",
    "    dfa['item_id'] = dfa['item_id'].astype(int)\n",
    "    top_games = dfa.head(3)['item_id'].to_list()\n",
    "    for i,g in enumerate(top_games):\n",
    "        if g in lid:\n",
    "            top_games[i]=gnames[gnames['item_id'] == top_games[i]].head(1)['title'].iloc[0]\n",
    "        else:\n",
    "            top_games[i]=fnames[fnames['item_id'] == top_games[i]].head(1)['item_name'].iloc[0]\n",
    "    return{'Puesto 1':top_games[0],'Puesto 2':top_games[1],'Puesto 3':top_games[2]}\n",
    "  else:\n",
    "    return {f'El año indicado no se encuentra en la base de datos: ':anio}"
   ]
  },
  {
   "cell_type": "code",
   "execution_count": 61,
   "metadata": {
    "colab": {
     "base_uri": "https://localhost:8080/"
    },
    "executionInfo": {
     "elapsed": 287,
     "status": "ok",
     "timestamp": 1701925240220,
     "user": {
      "displayName": "Angel Prieto",
      "userId": "16374893148173809494"
     },
     "user_tz": 180
    },
    "id": "dqDpiUgDJl02",
    "outputId": "f11f8eb3-4e08-4a2c-dc5e-930615ae892b"
   },
   "outputs": [
    {
     "data": {
      "text/plain": [
       "{'Puesto 1': 'Team Fortress 2',\n",
       " 'Puesto 2': \"Garry's Mod\",\n",
       " 'Puesto 3': 'Dota 2'}"
      ]
     },
     "execution_count": 61,
     "metadata": {},
     "output_type": "execute_result"
    }
   ],
   "source": [
    "UsersRecommend(2013)"
   ]
  },
  {
   "cell_type": "code",
   "execution_count": 62,
   "metadata": {
    "executionInfo": {
     "elapsed": 620,
     "status": "ok",
     "timestamp": 1701925706964,
     "user": {
      "displayName": "Angel Prieto",
      "userId": "16374893148173809494"
     },
     "user_tz": 180
    },
    "id": "zlKhYkXRa4r9"
   },
   "outputs": [],
   "source": [
    "def UsersNotRecommend(anio):\n",
    "  if anio in lanio:\n",
    "    dfa = reviews[(reviews['posted'] == anio) & (reviews['recommend'] == False) & (reviews['sentiment_analysis'] ==0)].copy()\n",
    "    dfa['sentiment_analysis']=1\n",
    "    dfa = dfa.groupby('item_id')['sentiment_analysis'].sum().reset_index()\n",
    "    dfa['item_id'] = dfa['item_id'].astype(int)\n",
    "    dfa = dfa.sort_values('sentiment_analysis', ascending=False)\n",
    "    top_games = dfa.head(3)['item_id'].to_list()\n",
    "    for i,g in enumerate(top_games):\n",
    "      if g in lid:\n",
    "        top_games[i]=gnames[gnames['item_id'] == top_games[i]].head(1)['title'].iloc[0]\n",
    "      else:\n",
    "        top_games[i]=fnames[fnames['item_id'] == top_games[i]].head(1)['item_name'].iloc[0]\n",
    "    if len(top_games)<2:\n",
    "      return{'Puesto 1':top_games[0],'Puesto 2':'','Puesto 3':''}\n",
    "    elif len(top_games)<3:\n",
    "      return{'Puesto 1':top_games[0],'Puesto 2':top_games[1],'Puesto 3':''}\n",
    "    else:\n",
    "      return{'Puesto 1':top_games[0],'Puesto 2':top_games[1],'Puesto 3':top_games[2]}\n",
    "  else:\n",
    "    return {f'El año indicado no se encuentra en la base de datos: ':anio}"
   ]
  },
  {
   "cell_type": "code",
   "execution_count": 63,
   "metadata": {
    "colab": {
     "base_uri": "https://localhost:8080/"
    },
    "executionInfo": {
     "elapsed": 5,
     "status": "ok",
     "timestamp": 1701925708050,
     "user": {
      "displayName": "Angel Prieto",
      "userId": "16374893148173809494"
     },
     "user_tz": 180
    },
    "id": "04lzQNVnbbak",
    "outputId": "b726f7ca-3c28-4196-f32d-6e631a715526"
   },
   "outputs": [
    {
     "data": {
      "text/plain": [
       "{'Puesto 1': 'Team Fortress 2',\n",
       " 'Puesto 2': 'Half-Life: Before',\n",
       " 'Puesto 3': 'Call of Duty®: Ghosts'}"
      ]
     },
     "execution_count": 63,
     "metadata": {},
     "output_type": "execute_result"
    }
   ],
   "source": [
    "UsersNotRecommend(2013)"
   ]
  },
  {
   "cell_type": "code",
   "execution_count": 72,
   "metadata": {
    "executionInfo": {
     "elapsed": 291,
     "status": "ok",
     "timestamp": 1701926871727,
     "user": {
      "displayName": "Angel Prieto",
      "userId": "16374893148173809494"
     },
     "user_tz": 180
    },
    "id": "1peKTeptvNRJ"
   },
   "outputs": [],
   "source": [
    "def sentiment_analysis(anio):\n",
    "  dfs = pd.merge(reviews[['item_id','sentiment_analysis']],gnames[['item_id','release_date']],on='item_id',how='inner')\n",
    "  dfs = dfs[dfs['release_date']==anio]\n",
    "  dfs = dfs.groupby('sentiment_analysis').size().reset_index(name='count')\n",
    "  dfs = dfs.sort_values('sentiment_analysis', ascending=True)\n",
    "  dfs = dfs['count'].to_list()\n",
    "  return{'Negative':dfs[0],'Neutral':dfs[1],'Positive':dfs[2]}"
   ]
  },
  {
   "cell_type": "code",
   "execution_count": 73,
   "metadata": {
    "colab": {
     "base_uri": "https://localhost:8080/"
    },
    "executionInfo": {
     "elapsed": 417,
     "status": "ok",
     "timestamp": 1701926898742,
     "user": {
      "displayName": "Angel Prieto",
      "userId": "16374893148173809494"
     },
     "user_tz": 180
    },
    "id": "87wrOWuuvx26",
    "outputId": "b316c60e-7f53-4ce0-c400-3e5bc040c7eb"
   },
   "outputs": [
    {
     "data": {
      "text/plain": [
       "{'Negative': 1040, 'Neutral': 1067, 'Positive': 4341}"
      ]
     },
     "execution_count": 73,
     "metadata": {},
     "output_type": "execute_result"
    }
   ],
   "source": [
    "sentiment_analysis(2014)"
   ]
  },
  {
   "cell_type": "code",
   "execution_count": 74,
   "metadata": {
    "id": "KqYLLkdnv0xn"
   },
   "outputs": [],
   "source": [
    "def recomendacion_juego(idg):\n",
    "    if (idg in lid) or (idg in lfid):\n",
    "        gx=pd.DataFrame(games.loc[idg])\n",
    "        gx=pd.pivot_table(gx,columns=['item_id', '2D', 'ACTION', 'ADVENTURE', 'ANIME', 'ARCADE',\n",
    "       'ATMOSPHERIC', 'CASUAL', 'CLASSIC', 'CO-OP', 'COMEDY', 'CUTE',\n",
    "       'DESIGN & ILLUSTRATION', 'DIFFICULT', 'EARLY ACCESS', 'EXPLORATION',\n",
    "       'FPS', 'FAMILY FRIENDLY', 'FANTASY', 'FEMALE PROTAGONIST',\n",
    "       'FIRST-PERSON', 'FREE TO PLAY', 'FUNNY', 'GORE', 'GREAT SOUNDTRACK',\n",
    "       'HIDDEN OBJECT', 'HORROR', 'INDIE', 'LOCAL CO-OP', 'LOCAL MULTIPLAYER',\n",
    "       'MASSIVELY MULTIPLAYER', 'MOVIE', 'MULTIPLAYER', 'ONLINE CO-OP',\n",
    "       'OPEN WORLD', 'PIXEL GRAPHICS', 'PLATFORMER', 'POINT & CLICK', 'PUZZLE',\n",
    "       'RPG', 'RPGMAKER', 'RACING', 'RETRO', 'ROGUE-LIKE', 'SANDBOX', 'SCI-FI',\n",
    "       \"SHOOT 'EM UP\", 'SHOOTER', 'SIMULATION', 'SINGLEPLAYER', 'SPACE',\n",
    "       'SPORTS', 'STORY RICH', 'STRATEGY', 'SURVIVAL', 'TACTICAL',\n",
    "       'THIRD PERSON', 'TURN-BASED', 'UTILITIES', 'VIOLENT', 'VISUAL NOVEL',\n",
    "       'ZOMBIES'])\n",
    "        gx.drop(columns=['item_id'], inplace=True)\n",
    "        xgames=games[games['item_id']!=idg].copy()\n",
    "        xgames=xgames.reset_index()\n",
    "        xgames.drop(columns=['index'],inplace=True)\n",
    "        ygames=xgames.copy()\n",
    "        xgames.drop(columns=['item_id'],inplace=True)\n",
    "        matriz = cosine_similarity(gx,xgames)\n",
    "        matrix = pd.DataFrame(matriz)\n",
    "        matriz=matriz[0]\n",
    "        reco=[]\n",
    "        for i in range(5):\n",
    "          imax=np.argmax(matriz)\n",
    "          reco.append(imax)\n",
    "          matriz[imax]=0\n",
    "        top_games = []\n",
    "        for i in reco:\n",
    "          top_games.append(ygames.iloc[i]['item_id'])\n",
    "        for i,g in enumerate(top_games):\n",
    "          if g in lid:\n",
    "            top_games[i]=gnames[gnames['item_id'] == top_games[i]]['title'].iloc[0]\n",
    "          else:\n",
    "            top_games[i]=fnames[fnames['item_id'] == top_games[i]]['item_name'].iloc[0]\n",
    "        return {\"juegos recomendados\":\n",
    "                 [{\"Puesto 1\":top_games[0]},\n",
    "                  {\"Puesto 2\":top_games[1]},\n",
    "                  {\"Puesto 3\":top_games[2]},\n",
    "                  {\"Puesto 4\":top_games[3]},\n",
    "                  {\"Puesto 5\":top_games[4]}]}\n",
    "    else:\n",
    "        return {\"id de juego no se encuentra en la base de datos \":idg}"
   ]
  },
  {
   "cell_type": "code",
   "execution_count": 75,
   "metadata": {},
   "outputs": [
    {
     "data": {
      "text/plain": [
       "{'juegos recomendados': [{'Puesto 1': 'Big Money! Deluxe'},\n",
       "  {'Puesto 2': 'Hammer Heads Deluxe'},\n",
       "  {'Puesto 3': 'Iggle Pop Deluxe'},\n",
       "  {'Puesto 4': 'Pizza Frenzy Deluxe'},\n",
       "  {'Puesto 5': 'Typer Shark! Deluxe'}]}"
      ]
     },
     "execution_count": 75,
     "metadata": {},
     "output_type": "execute_result"
    }
   ],
   "source": [
    "recomendacion_juego(440)"
   ]
  },
  {
   "cell_type": "code",
   "execution_count": null,
   "metadata": {},
   "outputs": [],
   "source": []
  }
 ],
 "metadata": {
  "colab": {
   "authorship_tag": "ABX9TyNJYkXo1b9fhtPf6Y1+A2f+",
   "provenance": []
  },
  "kernelspec": {
   "display_name": "Python 3 (ipykernel)",
   "language": "python",
   "name": "python3"
  },
  "language_info": {
   "codemirror_mode": {
    "name": "ipython",
    "version": 3
   },
   "file_extension": ".py",
   "mimetype": "text/x-python",
   "name": "python",
   "nbconvert_exporter": "python",
   "pygments_lexer": "ipython3",
   "version": "3.10.0rc2"
  }
 },
 "nbformat": 4,
 "nbformat_minor": 4
}

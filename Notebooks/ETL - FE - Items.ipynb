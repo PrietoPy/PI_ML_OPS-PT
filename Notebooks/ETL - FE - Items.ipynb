{
 "cells": [
  {
   "cell_type": "code",
   "execution_count": 1,
   "id": "ce8a88ab-171e-4253-bd1a-4534a52d1d3f",
   "metadata": {},
   "outputs": [],
   "source": [
    "import pandas as pd # Para trabajar con dataframes\n",
    "import numpy as np # Para operaciones y funciones con arrays\n",
    "import gzip # Para cargar archivo gz\n",
    "import ast  # Para cargar contenido tipo diccionario dentro de los json"
   ]
  },
  {
   "cell_type": "code",
   "execution_count": 2,
   "id": "16739e01-0f55-41d7-b977-18aba9afd54c",
   "metadata": {},
   "outputs": [],
   "source": [
    "def parseo (ruta):\n",
    "  # Lista para almacenar los diccionarios JSON\n",
    "  fjson = []\n",
    "  # Abre el archivo comprimido en modo lectura binaria (\"rb\")\n",
    "  with gzip.open(ruta, \"rb\") as archivo:\n",
    "      # Descomprime el contenido del archivo y lo decodifica como utf-8\n",
    "      contenido = archivo.read().decode(\"utf-8\").splitlines()\n",
    "\n",
    "      # Recorre cada línea descomprimida\n",
    "      for fila in contenido:\n",
    "          # Lee cada línea del archivo como una cadena JSON\n",
    "          fila_json = ast.literal_eval(fila.strip())\n",
    "\n",
    "          # Agrega el diccionario JSON a la lista\n",
    "          fjson.append(fila_json)\n",
    "\n",
    "  # Crea el DataFrame directamente desde la lista de diccionarios\n",
    "  df = pd.DataFrame(fjson)\n",
    "  return df"
   ]
  },
  {
   "cell_type": "code",
   "execution_count": 3,
   "id": "4a486b40-1894-4804-bb1d-129fe2b63d4f",
   "metadata": {},
   "outputs": [
    {
     "ename": "MemoryError",
     "evalue": "",
     "output_type": "error",
     "traceback": [
      "\u001b[1;31m---------------------------------------------------------------------------\u001b[0m",
      "\u001b[1;31mMemoryError\u001b[0m                               Traceback (most recent call last)",
      "Cell \u001b[1;32mIn[3], line 1\u001b[0m\n\u001b[1;32m----> 1\u001b[0m items \u001b[38;5;241m=\u001b[39m \u001b[43mparseo\u001b[49m\u001b[43m(\u001b[49m\u001b[38;5;124;43m'\u001b[39;49m\u001b[38;5;124;43m../Datasets/users_items.json.gz\u001b[39;49m\u001b[38;5;124;43m'\u001b[39;49m\u001b[43m)\u001b[49m\n",
      "Cell \u001b[1;32mIn[2], line 7\u001b[0m, in \u001b[0;36mparseo\u001b[1;34m(ruta)\u001b[0m\n\u001b[0;32m      4\u001b[0m \u001b[38;5;66;03m# Abre el archivo comprimido en modo lectura binaria (\"rb\")\u001b[39;00m\n\u001b[0;32m      5\u001b[0m \u001b[38;5;28;01mwith\u001b[39;00m gzip\u001b[38;5;241m.\u001b[39mopen(ruta, \u001b[38;5;124m\"\u001b[39m\u001b[38;5;124mrb\u001b[39m\u001b[38;5;124m\"\u001b[39m) \u001b[38;5;28;01mas\u001b[39;00m archivo:\n\u001b[0;32m      6\u001b[0m     \u001b[38;5;66;03m# Descomprime el contenido del archivo y lo decodifica como utf-8\u001b[39;00m\n\u001b[1;32m----> 7\u001b[0m     contenido \u001b[38;5;241m=\u001b[39m \u001b[43marchivo\u001b[49m\u001b[38;5;241;43m.\u001b[39;49m\u001b[43mread\u001b[49m\u001b[43m(\u001b[49m\u001b[43m)\u001b[49m\u001b[38;5;241;43m.\u001b[39;49m\u001b[43mdecode\u001b[49m\u001b[43m(\u001b[49m\u001b[38;5;124;43m\"\u001b[39;49m\u001b[38;5;124;43mutf-8\u001b[39;49m\u001b[38;5;124;43m\"\u001b[39;49m\u001b[43m)\u001b[49m\u001b[38;5;241m.\u001b[39msplitlines()\n\u001b[0;32m      9\u001b[0m     \u001b[38;5;66;03m# Recorre cada línea descomprimida\u001b[39;00m\n\u001b[0;32m     10\u001b[0m     \u001b[38;5;28;01mfor\u001b[39;00m fila \u001b[38;5;129;01min\u001b[39;00m contenido:\n\u001b[0;32m     11\u001b[0m         \u001b[38;5;66;03m# Lee cada línea del archivo como una cadena JSON\u001b[39;00m\n",
      "\u001b[1;31mMemoryError\u001b[0m: "
     ]
    }
   ],
   "source": [
    "items = parseo('../Datasets/users_items.json.gz')"
   ]
  },
  {
   "cell_type": "code",
   "execution_count": null,
   "id": "60c62372-71ed-489d-9490-27bd4709fa6d",
   "metadata": {},
   "outputs": [],
   "source": []
  }
 ],
 "metadata": {
  "kernelspec": {
   "display_name": "Python 3 (ipykernel)",
   "language": "python",
   "name": "python3"
  },
  "language_info": {
   "codemirror_mode": {
    "name": "ipython",
    "version": 3
   },
   "file_extension": ".py",
   "mimetype": "text/x-python",
   "name": "python",
   "nbconvert_exporter": "python",
   "pygments_lexer": "ipython3",
   "version": "3.10.0rc2"
  }
 },
 "nbformat": 4,
 "nbformat_minor": 5
}

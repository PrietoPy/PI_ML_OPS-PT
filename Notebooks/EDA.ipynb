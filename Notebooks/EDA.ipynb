{
 "cells": [
  {
   "cell_type": "code",
   "execution_count": 5,
   "id": "f413ff5d-e433-4825-944b-430bd9cdbff9",
   "metadata": {},
   "outputs": [],
   "source": [
    "import pandas as pd \n",
    "import numpy as np \n",
    "import seaborn as sns \n",
    "import matplotlib.pyplot as plt "
   ]
  },
  {
   "cell_type": "code",
   "execution_count": 6,
   "id": "ce67b4e8-ffa5-4a1b-8bc2-22170a935249",
   "metadata": {},
   "outputs": [],
   "source": [
    "games = pd.read_parquet('../Datasets/gamesoh.parquet')\n",
    "reviews = pd.read_parquet('../Datasets/reviews.parquet')\n",
    "items = pd.read_parquet('../Datasets/itemso.parquet')\n",
    "\n",
    "gnames = pd.read_parquet('../Datasets/games.parquet')\n",
    "fnames = pd.read_parquet('../Datasets/fnames.parquet')"
   ]
  },
  {
   "cell_type": "code",
   "execution_count": 7,
   "id": "ef01cb99-c7ac-4d99-a2f5-1c39b0091877",
   "metadata": {},
   "outputs": [
    {
     "name": "stdout",
     "output_type": "stream",
     "text": [
      "<class 'pandas.core.frame.DataFrame'>\n",
      "RangeIndex: 29803 entries, 0 to 29802\n",
      "Data columns (total 62 columns):\n",
      " #   Column                 Non-Null Count  Dtype\n",
      "---  ------                 --------------  -----\n",
      " 0   item_id                29803 non-null  int32\n",
      " 1   2D                     29803 non-null  int8 \n",
      " 2   ACTION                 29803 non-null  int8 \n",
      " 3   ADVENTURE              29803 non-null  int8 \n",
      " 4   ANIME                  29803 non-null  int8 \n",
      " 5   ARCADE                 29803 non-null  int8 \n",
      " 6   ATMOSPHERIC            29803 non-null  int8 \n",
      " 7   CASUAL                 29803 non-null  int8 \n",
      " 8   CLASSIC                29803 non-null  int8 \n",
      " 9   CO-OP                  29803 non-null  int8 \n",
      " 10  COMEDY                 29803 non-null  int8 \n",
      " 11  CUTE                   29803 non-null  int8 \n",
      " 12  DESIGN & ILLUSTRATION  29803 non-null  int8 \n",
      " 13  DIFFICULT              29803 non-null  int8 \n",
      " 14  EARLY ACCESS           29803 non-null  int8 \n",
      " 15  EXPLORATION            29803 non-null  int8 \n",
      " 16  FPS                    29803 non-null  int8 \n",
      " 17  FAMILY FRIENDLY        29803 non-null  int8 \n",
      " 18  FANTASY                29803 non-null  int8 \n",
      " 19  FEMALE PROTAGONIST     29803 non-null  int8 \n",
      " 20  FIRST-PERSON           29803 non-null  int8 \n",
      " 21  FREE TO PLAY           29803 non-null  int8 \n",
      " 22  FUNNY                  29803 non-null  int8 \n",
      " 23  GORE                   29803 non-null  int8 \n",
      " 24  GREAT SOUNDTRACK       29803 non-null  int8 \n",
      " 25  HIDDEN OBJECT          29803 non-null  int8 \n",
      " 26  HORROR                 29803 non-null  int8 \n",
      " 27  INDIE                  29803 non-null  int8 \n",
      " 28  LOCAL CO-OP            29803 non-null  int8 \n",
      " 29  LOCAL MULTIPLAYER      29803 non-null  int8 \n",
      " 30  MASSIVELY MULTIPLAYER  29803 non-null  int8 \n",
      " 31  MOVIE                  29803 non-null  int8 \n",
      " 32  MULTIPLAYER            29803 non-null  int8 \n",
      " 33  ONLINE CO-OP           29803 non-null  int8 \n",
      " 34  OPEN WORLD             29803 non-null  int8 \n",
      " 35  PIXEL GRAPHICS         29803 non-null  int8 \n",
      " 36  PLATFORMER             29803 non-null  int8 \n",
      " 37  POINT & CLICK          29803 non-null  int8 \n",
      " 38  PUZZLE                 29803 non-null  int8 \n",
      " 39  RPG                    29803 non-null  int8 \n",
      " 40  RPGMAKER               29803 non-null  int8 \n",
      " 41  RACING                 29803 non-null  int8 \n",
      " 42  RETRO                  29803 non-null  int8 \n",
      " 43  ROGUE-LIKE             29803 non-null  int8 \n",
      " 44  SANDBOX                29803 non-null  int8 \n",
      " 45  SCI-FI                 29803 non-null  int8 \n",
      " 46  SHOOT 'EM UP           29803 non-null  int8 \n",
      " 47  SHOOTER                29803 non-null  int8 \n",
      " 48  SIMULATION             29803 non-null  int8 \n",
      " 49  SINGLEPLAYER           29803 non-null  int8 \n",
      " 50  SPACE                  29803 non-null  int8 \n",
      " 51  SPORTS                 29803 non-null  int8 \n",
      " 52  STORY RICH             29803 non-null  int8 \n",
      " 53  STRATEGY               29803 non-null  int8 \n",
      " 54  SURVIVAL               29803 non-null  int8 \n",
      " 55  TACTICAL               29803 non-null  int8 \n",
      " 56  THIRD PERSON           29803 non-null  int8 \n",
      " 57  TURN-BASED             29803 non-null  int8 \n",
      " 58  UTILITIES              29803 non-null  int8 \n",
      " 59  VIOLENT                29803 non-null  int8 \n",
      " 60  VISUAL NOVEL           29803 non-null  int8 \n",
      " 61  ZOMBIES                29803 non-null  int8 \n",
      "dtypes: int32(1), int8(61)\n",
      "memory usage: 1.8 MB\n"
     ]
    }
   ],
   "source": [
    "games.info()"
   ]
  },
  {
   "cell_type": "code",
   "execution_count": 9,
   "id": "bad6229d-edb0-4bdf-b8f7-247166b3f367",
   "metadata": {},
   "outputs": [
    {
     "name": "stdout",
     "output_type": "stream",
     "text": [
      "<class 'pandas.core.frame.DataFrame'>\n",
      "RangeIndex: 59333 entries, 0 to 59332\n",
      "Data columns (total 5 columns):\n",
      " #   Column              Non-Null Count  Dtype \n",
      "---  ------              --------------  ----- \n",
      " 0   posted              59333 non-null  int32 \n",
      " 1   item_id             59305 non-null  object\n",
      " 2   recommend           59305 non-null  object\n",
      " 3   user_id             59333 non-null  int64 \n",
      " 4   sentiment_analysis  59333 non-null  int64 \n",
      "dtypes: int32(1), int64(2), object(2)\n",
      "memory usage: 2.0+ MB\n"
     ]
    }
   ],
   "source": [
    "reviews.info()"
   ]
  },
  {
   "cell_type": "code",
   "execution_count": 10,
   "id": "4913278c-fd4d-479e-a6ea-766b0f41d97e",
   "metadata": {},
   "outputs": [
    {
     "name": "stdout",
     "output_type": "stream",
     "text": [
      "<class 'pandas.core.frame.DataFrame'>\n",
      "RangeIndex: 5197727 entries, 0 to 5197726\n",
      "Data columns (total 3 columns):\n",
      " #   Column            Dtype  \n",
      "---  ------            -----  \n",
      " 0   item_id           int64  \n",
      " 1   playtime_forever  float64\n",
      " 2   user_id           int64  \n",
      "dtypes: float64(1), int64(2)\n",
      "memory usage: 119.0 MB\n"
     ]
    }
   ],
   "source": [
    "items.info()"
   ]
  },
  {
   "cell_type": "code",
   "execution_count": null,
   "id": "9dab4c0c-863b-420f-9383-02411cee74c3",
   "metadata": {},
   "outputs": [],
   "source": []
  }
 ],
 "metadata": {
  "kernelspec": {
   "display_name": "Python 3 (ipykernel)",
   "language": "python",
   "name": "python3"
  },
  "language_info": {
   "codemirror_mode": {
    "name": "ipython",
    "version": 3
   },
   "file_extension": ".py",
   "mimetype": "text/x-python",
   "name": "python",
   "nbconvert_exporter": "python",
   "pygments_lexer": "ipython3",
   "version": "3.10.0rc2"
  }
 },
 "nbformat": 4,
 "nbformat_minor": 5
}
